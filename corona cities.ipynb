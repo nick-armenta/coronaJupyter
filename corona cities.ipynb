{
 "cells": [
  {
   "cell_type": "code",
   "execution_count": 10,
   "metadata": {},
   "outputs": [],
   "source": [
    "import pandas as pd\n",
    "from IPython.display import display, HTML"
   ]
  },
  {
   "cell_type": "code",
   "execution_count": 11,
   "metadata": {},
   "outputs": [
    {
     "name": "stdout",
     "output_type": "stream",
     "text": [
      "{0: {'population': 914559, 'sick': 1630, 'city names': 'ירושלים'}, 1: {'population': 195298, 'sick': 1594, 'city names': 'בני ברק'}, 2: {'population': 450192, 'sick': 415, 'city names': 'תל אביב - יפו'}, 3: {'population': 139032, 'sick': 216, 'city names': 'אשקלון'}, 4: {'population': 46760, 'sick': 215, 'city names': 'אלעד'}, 5: {'population': 242478, 'sick': 190, 'city names': 'פתח תקווה'}, 6: {'population': 241010, 'sick': 180, 'city names': 'ראשון לציון'}, 7: {'population': 73808, 'sick': 174, 'city names': 'מודיעין עילית'}, 8: {'population': 120812, 'sick': 169, 'city names': 'בית שמש'}, 9: {'population': 225073, 'sick': 160, 'city names': 'אשדוד'}, 10: {'population': 213971, 'sick': 149, 'city names': 'נתניה'}, 11: {'population': 185741, 'sick': 128, 'city names': 'חולון'}, 12: {'population': 196755, 'sick': 127, 'city names': 'באר שבע'}, 13: {'population': 143370, 'sick': 126, 'city names': 'רמת גן'}, 14: {'population': 44353, 'sick': 119, 'city names': 'טבריה'}, 15: {'population': 272584, 'sick': 118, 'city names': 'חיפה'}, 16: {'population': 130523, 'sick': 114, 'city names': 'בת ים'}, 17: {'population': 87108, 'sick': 112, 'city names': 'מודיעין-מכבים-רעות'}, 18: {'population': 59240, 'sick': 103, 'city names': 'ביתר עילית'}, 19: {'population': 34843, 'sick': 102, 'city names': 'אור יהודה'}, 20: {'population': 26058, 'sick': 92, 'city names': 'מגדל העמק'}, 21: {'population': 90900, 'sick': 85, 'city names': 'הרצליה'}, 22: {'population': 73979, 'sick': 83, 'city names': 'רעננה'}, 23: {'population': 137178, 'sick': 80, 'city names': 'רחובות'}, 24: {'population': 10676, 'sick': 64, 'city names': 'אפרת'}, 25: {'population': 29104, 'sick': 63, 'city names': 'יהוד-מונוסון'}, 26: {'population': 97412, 'sick': 63, 'city names': 'כפר סבא'}, 27: {'population': 50886, 'sick': 54, 'city names': 'עפולה'}, 28: {'population': 75038, 'sick': 52, 'city names': 'לוד'}, 29: {'population': 35671, 'sick': 48, 'city names': 'צפת'}, 30: {'population': 75246, 'sick': 48, 'city names': 'רמלה'}, 31: {'population': 37112, 'sick': 46, 'city names': 'קרית אונו'}, 32: {'population': 6724, 'sick': 43, 'city names': 'כפר חב\"ד'}, 33: {'population': 8602, 'sick': 42, 'city names': 'כוכב יעקב'}, 34: {'population': 23691, 'sick': 42, 'city names': 'קרית מלאכי'}, 35: {'population': 5713, 'sick': 38, 'city names': 'קרית יערים'}, 36: {'population': 20041, 'sick': 35, 'city names': 'שוהם'}, 37: {'population': 44896, 'sick': 34, 'city names': 'רמת השרון'}, 38: {'population': 59171, 'sick': 33, 'city names': 'הוד השרון'}, 39: {'population': 37469, 'sick': 33, 'city names': 'מעלה אדומים'}, 40: {'population': 55400, 'sick': 32, 'city names': 'קרית גת'}, 41: {'population': 24538, 'sick': 31, 'city names': 'גבעת שמואל'}, 42: {'population': 36511, 'sick': 31, 'city names': 'נתיבות'}, 43: {'population': 53965, 'sick': 30, 'city names': 'ראש העין'}, 44: {'population': 55123, 'sick': 29, 'city names': 'גבעתיים'}, 45: {'population': 30185, 'sick': 28, 'city names': 'אופקים'}, 46: {'population': 45555, 'sick': 28, 'city names': 'יבנה'}, 47: {'population': 11841, 'sick': 28, 'city names': 'רכסים'}, 48: {'population': 58750, 'sick': 27, 'city names': 'נהריה'}, 49: {'population': 25891, 'sick': 27, 'city names': 'שדרות'}, 50: {'population': 11819, 'sick': 26, 'city names': 'אזור'}, 51: {'population': 22341, 'sick': 26, 'city names': 'זכרון יעקב'}, 52: {'population': 46596, 'sick': 26, 'city names': 'כרמיאל'}, 53: {'population': 14732, 'sick': 25, 'city names': \"ג'סר א-זרקא\"}, 54: {'population': 18930, 'sick': 25, 'city names': 'גני תקווה'}, 55: {'population': 35377, 'sick': 25, 'city names': 'דימונה'}, 56: {'population': 94104, 'sick': 25, 'city names': 'חדרה'}, 57: {'population': 13263, 'sick': 24, 'city names': 'אבן יהודה'}, 58: {'population': 43811, 'sick': 24, 'city names': 'נוף הגליל'}, 59: {'population': 22410, 'sick': 23, 'city names': 'גן יבנה'}, 60: {'population': 55324, 'sick': 22, 'city names': 'אום אל-פחם'}, 61: {'population': 24633, 'sick': 21, 'city names': 'גדרה'}, 62: {'population': 39556, 'sick': 21, 'city names': 'קרית ים'}, 63: {'population': 24216, 'sick': 17, 'city names': 'באר יעקב'}, 64: {'population': 18510, 'sick': 17, 'city names': 'גבעת זאב'}, 65: {'population': 57108, 'sick': 17, 'city names': 'קרית אתא'}, 66: {'population': 10414, 'sick': 16, 'city names': 'דבוריה'}, 67: {'population': 50872, 'sick': 16, 'city names': 'עכו'}, 68: {'population': 33792, 'sick': 15, 'city names': 'טמרה'}, 69: {'population': 45714, 'sick': 15, 'city names': 'נס ציונה'}, 70: {'population': 56568, 'sick': 14, 'city names': 'אילת'}, 71: {'population': 22243, 'sick': 14, 'city names': 'טירת כרמל'}, 72: {'population': 21301, 'sick': 14, 'city names': 'כפר יונה'}, 73: {'population': 29035, 'sick': 13, 'city names': 'באקה אל-גרביה'}, 74: {'population': 11910, 'sick': 13, 'city names': \"ג'ת\"}, 75: {'population': 22711, 'sick': 13, 'city names': 'יקנעם עילית'}, 76: {'population': 23093, 'sick': 13, 'city names': 'מבשרת ציון'}, 77: {'population': 20831, 'sick': 13, 'city names': 'קדימה-צורן'}, 78: {'population': 7373, 'sick': 13, 'city names': 'קצרין'}, 79: {'population': 12593, 'sick': 13, 'city names': 'תל מונד'}, 80: {'population': 26763, 'sick': 12, 'city names': 'ערד'}, 81: {'population': 7364, 'sick': 11, 'city names': 'קרית ארבע'}, 82: {'population': 39262, 'sick': 11, 'city names': 'קרית ביאליק'}, 83: {'population': 14949, 'sick': 10, 'city names': 'מזכרת בתיה'}, 84: {'population': 22261, 'sick': 10, 'city names': 'מעלות-תרשיחא'}, 85: {'population': 8016, 'sick': 10, 'city names': 'עומר'}, 86: {'population': 22152, 'sick': 10, 'city names': 'קרית שמונה'}, 87: {'population': 6367, 'sick': 10, 'city names': 'שבלי - אום אל-גנם'}, 88: {'population': 43144, 'sick': 9, 'city names': 'טייבה'}, 89: {'population': 78252, 'sick': 9, 'city names': 'נצרת'}, 90: {'population': 10567, 'sick': 8, 'city names': 'דייר חנא'}, 91: {'population': 9143, 'sick': 8, 'city names': 'כוכב יאיר'}, 92: {'population': 16957, 'sick': 7, 'city names': 'כסיפה'}, 93: {'population': 22364, 'sick': 7, 'city names': 'מגאר'}, 94: {'population': 40622, 'sick': 7, 'city names': 'פרדס חנה-כרכור'}, 95: {'population': 42870, 'sick': 7, 'city names': 'קרית מוצקין'}, 96: {'population': 10600, 'sick': 7, 'city names': 'קרית עקרון'}, 97: {'population': 64649, 'sick': 7, 'city names': 'רהט'}, 98: {'population': 14655, 'sick': 6, 'city names': 'אכסאל'}, 99: {'population': 6178, 'sick': 6, 'city names': 'להבים'}, 100: {'population': 32089, 'sick': 6, 'city names': \"סח'נין\"}, 101: {'population': 7906, 'sick': 6, 'city names': 'קרני שומרון'}, 102: {'population': 18893, 'sick': 5, 'city names': 'אור עקיבא'}, 103: {'population': 7771, 'sick': 5, 'city names': 'אלפי מנשה'}, 104: {'population': 18251, 'sick': 5, 'city names': 'אריאל'}, 105: {'population': 9866, 'sick': 5, 'city names': 'ביר אל-מכסור'}, 106: {'population': 5299, 'sick': 5, 'city names': 'גבע בנימין'}, 107: {'population': 22032, 'sick': 5, 'city names': 'נשר'}, 108: {'population': 6478, 'sick': 5, 'city names': 'שלומי'}, 109: {'population': 6533, 'sick': 4, 'city names': 'בית דגן'}, 110: {'population': 6837, 'sick': 4, 'city names': 'בני עי\"ש'}, 111: {'population': 8737, 'sick': 4, 'city names': 'חריש'}, 112: {'population': 23517, 'sick': 4, 'city names': 'כפר קאסם'}, 113: {'population': 14861, 'sick': 4, 'city names': 'מעלה עירון'}, 114: {'population': 7856, 'sick': 4, 'city names': 'צור הדסה'}, 115: {'population': 5954, 'sick': 4, 'city names': 'צור יצחק'}, 116: {'population': 5767, 'sick': 3, 'city names': 'בית אל'}, 117: {'population': 10011, 'sick': 3, 'city names': \"ג'לג'וליה\"}, 118: {'population': 26184, 'sick': 3, 'city names': 'טירה'}, 119: {'population': 19056, 'sick': 3, 'city names': 'יפיע'}, 120: {'population': 9043, 'sick': 3, 'city names': 'מיתר'}, 121: {'population': 5677, 'sick': 3, 'city names': 'עיילבון'}, 122: {'population': 13388, 'sick': 3, 'city names': 'עין מאהל'}, 123: {'population': 8822, 'sick': 2, 'city names': 'אורנית'}, 124: {'population': 9974, 'sick': 2, 'city names': \"בועיינה-נוג'ידאת\"}, 125: {'population': 6586, 'sick': 2, 'city names': 'בוקעאתא'}, 126: {'population': 14383, 'sick': 2, 'city names': 'בנימינה-גבעת עדה'}, 127: {'population': 10532, 'sick': 2, 'city names': 'בסמ\"ה'}, 128: {'population': 7833, 'sick': 2, 'city names': 'בסמת טבעון'}, 129: {'population': 20524, 'sick': 2, 'city names': \"ג'דיידה-מכר\"}, 130: {'population': 6147, 'sick': 2, 'city names': \"ג'ולס\"}, 131: {'population': 9722, 'sick': 2, 'city names': 'חצור הגלילית'}, 132: {'population': 5599, 'sick': 2, 'city names': 'כפר ורדים'}, 133: {'population': 10577, 'sick': 2, 'city names': 'כפר יאסיף'}, 134: {'population': 22449, 'sick': 2, 'city names': 'כפר כנא'}, 135: {'population': 18820, 'sick': 2, 'city names': 'כפר קרע'}, 136: {'population': 7442, 'sick': 2, 'city names': 'עתלית'}, 137: {'population': 15831, 'sick': 2, 'city names': 'קרית טבעון'}, 138: {'population': 7236, 'sick': 2, 'city names': 'רמת ישי'}, 139: {'population': 40666, 'sick': 2, 'city names': 'שפרעם'}, 140: {'population': 7792, 'sick': 1, 'city names': 'אבו גוש'}, 141: {'population': 8446, 'sick': 1, 'city names': 'אבו רובייעה )שבט('}, 142: {'population': 8355, 'sick': 1, 'city names': 'בענה'}, 143: {'population': 5124, 'sick': 1, 'city names': 'בת חפר'}, 144: {'population': 12435, 'sick': 1, 'city names': 'דייר אל-אסד'}, 145: {'population': 6926, 'sick': 1, 'city names': 'זמר'}, 146: {'population': 6288, 'sick': 1, 'city names': 'חורפיש'}, 147: {'population': 6648, 'sick': 1, 'city names': 'טובא-זנגריה'}, 148: {'population': 10126, 'sick': 1, 'city names': 'ירוחם'}, 149: {'population': 11089, 'sick': 1, 'city names': \"מג'דל שמס\"}, 150: {'population': 16644, 'sick': 1, 'city names': 'מסעודין אל-עזאזמה'}, 151: {'population': 13167, 'sick': 1, 'city names': 'נחף'}, 152: {'population': 12141, 'sick': 1, 'city names': 'עספיא'}, 153: {'population': 25876, 'sick': 1, 'city names': 'עראבה'}, 154: {'population': 17465, 'sick': 1, 'city names': 'ערערה-בנגב'}, 155: {'population': 6027, 'sick': 1, 'city names': 'פרדסיה'}, 156: {'population': 5272, 'sick': 1, 'city names': 'קיסריה'}, 157: {'population': 22740, 'sick': 1, 'city names': 'קלנסווה'}, 158: {'population': 5584, 'sick': 1, 'city names': 'שערי תקווה'}, 159: {'population': 19850, 'sick': 1, 'city names': 'תל שבע'}}\n"
     ]
    }
   ],
   "source": [
    "dict_cities = {}\n",
    "cities_file = open(\"corona_cities_apr_9.txt\",\"r\",encoding=\"utf-8-sig\") # https://stackoverflow.com/questions/17912307/u-ufeff-in-python-string problem was found\n",
    "index_ = 0\n",
    "for line_ in cities_file:\n",
    "    parts = line_.split()\n",
    "    temp_ints = []\n",
    "    temp_name = []\n",
    "    for part_ in parts:\n",
    "        if part_.isnumeric():\n",
    "            temp_ints.append(part_)\n",
    "        else:\n",
    "            temp_name.append(part_)\n",
    "    try:\n",
    "        dict_cities[index_] = {'population': int(temp_ints[0]), 'sick': int(temp_ints[1]), 'city names': ' '.join(temp_name)}\n",
    "        index_ = index_ + 1\n",
    "    except IndexError:\n",
    "        print(line_)\n",
    "        break\n",
    "print(dict_cities)"
   ]
  },
  {
   "cell_type": "code",
   "execution_count": 12,
   "metadata": {},
   "outputs": [
    {
     "data": {
      "text/html": [
       "<table border=\"1\" class=\"dataframe\">\n",
       "  <thead>\n",
       "    <tr style=\"text-align: right;\">\n",
       "      <th></th>\n",
       "      <th>population</th>\n",
       "      <th>sick</th>\n",
       "      <th>city names</th>\n",
       "      <th>wiki article</th>\n",
       "      <th>wiki</th>\n",
       "    </tr>\n",
       "  </thead>\n",
       "  <tbody>\n",
       "    <tr>\n",
       "      <th>0</th>\n",
       "      <td>914559</td>\n",
       "      <td>1630</td>\n",
       "      <td>ירושלים</td>\n",
       "      <td>https://nominatim.openstreetmap.org/search.php?q=ירושלים&format=json</td>\n",
       "      <td><a href=\"https://nominatim.openstreetmap.org/search.php?q=ירושלים&format=json\">link</a></td>\n",
       "    </tr>\n",
       "    <tr>\n",
       "      <th>2</th>\n",
       "      <td>450192</td>\n",
       "      <td>415</td>\n",
       "      <td>תל אביב - יפו</td>\n",
       "      <td>https://nominatim.openstreetmap.org/search.php?q=תל אביב - יפו&format=json</td>\n",
       "      <td><a href=\"https://nominatim.openstreetmap.org/search.php?q=תל אביב - יפו&format=json\">link</a></td>\n",
       "    </tr>\n",
       "    <tr>\n",
       "      <th>15</th>\n",
       "      <td>272584</td>\n",
       "      <td>118</td>\n",
       "      <td>חיפה</td>\n",
       "      <td>https://nominatim.openstreetmap.org/search.php?q=חיפה&format=json</td>\n",
       "      <td><a href=\"https://nominatim.openstreetmap.org/search.php?q=חיפה&format=json\">link</a></td>\n",
       "    </tr>\n",
       "    <tr>\n",
       "      <th>5</th>\n",
       "      <td>242478</td>\n",
       "      <td>190</td>\n",
       "      <td>פתח תקווה</td>\n",
       "      <td>https://nominatim.openstreetmap.org/search.php?q=פתח תקווה&format=json</td>\n",
       "      <td><a href=\"https://nominatim.openstreetmap.org/search.php?q=פתח תקווה&format=json\">link</a></td>\n",
       "    </tr>\n",
       "    <tr>\n",
       "      <th>6</th>\n",
       "      <td>241010</td>\n",
       "      <td>180</td>\n",
       "      <td>ראשון לציון</td>\n",
       "      <td>https://nominatim.openstreetmap.org/search.php?q=ראשון לציון&format=json</td>\n",
       "      <td><a href=\"https://nominatim.openstreetmap.org/search.php?q=ראשון לציון&format=json\">link</a></td>\n",
       "    </tr>\n",
       "  </tbody>\n",
       "</table>"
      ],
      "text/plain": [
       "<IPython.core.display.HTML object>"
      ]
     },
     "metadata": {},
     "output_type": "display_data"
    }
   ],
   "source": [
    "cities_pretty = pd.DataFrame.from_dict(dict_cities, orient='index')\n",
    "cities_pretty['wiki article'] = [\"\"\"https://nominatim.openstreetmap.org/search.php?q=\"\"\"+str(i)+\"\"\"&format=json\"\"\" for i in cities_pretty['city names']]\n",
    "cities_pretty['wiki'] = cities_pretty['wiki article'].apply(lambda x: '<a href=\"{0}\">link</a>'.format(x))\n",
    "display(HTML(cities_pretty.sort_values(by=['population'],ascending=False).head().to_html(escape=False)))"
   ]
  },
  {
   "cell_type": "code",
   "execution_count": 13,
   "metadata": {},
   "outputs": [],
   "source": [
    "import requests\n",
    "import json\n",
    "import time\n",
    "\n",
    "def get_geo(link):\n",
    "    time.sleep(0.5)\n",
    "    try:\n",
    "        r = requests.get(link, timeout=1)\n",
    "        if r.status_code  == 200:\n",
    "            try:\n",
    "                data = json.loads(r.content)\n",
    "                if len(data[0]) > 1:\n",
    "                    #display(data[0])\n",
    "                    lat = data[0]['lat']\n",
    "                    lon = data[0]['lon']\n",
    "                    return lat, lon, True\n",
    "                else:\n",
    "                    return 0, 0, False\n",
    "            except IndexError:\n",
    "                return 0, 0, False\n",
    "            except TypeError:\n",
    "                return 0, 0, False\n",
    "        else:\n",
    "            return 0, 0, False\n",
    "    except OSError:\n",
    "        print(\"Failed to load {}\".format(link))\n",
    "        return 0, 0, False\n"
   ]
  },
  {
   "cell_type": "code",
   "execution_count": 14,
   "metadata": {},
   "outputs": [
    {
     "name": "stdout",
     "output_type": "stream",
     "text": [
      "https://nominatim.openstreetmap.org/search.php?q=ירושלים&format=json\n"
     ]
    },
    {
     "data": {
      "text/plain": [
       "('31.778345', '35.2250786', True)"
      ]
     },
     "execution_count": 14,
     "metadata": {},
     "output_type": "execute_result"
    }
   ],
   "source": [
    "print(cities_pretty['wiki article'][0])\n",
    "get_geo(cities_pretty['wiki article'][0])"
   ]
  },
  {
   "cell_type": "code",
   "execution_count": 15,
   "metadata": {},
   "outputs": [
    {
     "data": {
      "application/vnd.jupyter.widget-view+json": {
       "model_id": "d4cdb28c58ce48789a70d492ab62e290",
       "version_major": 2,
       "version_minor": 0
      },
      "text/plain": [
       "IntProgress(value=0, description='Loading:', max=160)"
      ]
     },
     "metadata": {},
     "output_type": "display_data"
    }
   ],
   "source": [
    "lats = []\n",
    "lons = []\n",
    "valids = []\n",
    "\n",
    "import ipywidgets as widgets\n",
    "\n",
    "bar = widgets.IntProgress(\n",
    "    value=0,\n",
    "    min=0,\n",
    "    max=len(cities_pretty['wiki article']),\n",
    "    step=1,\n",
    "    description='Loading:',\n",
    "    bar_style='', # 'success', 'info', 'warning', 'danger' or ''\n",
    "    orientation='horizontal'\n",
    ")\n",
    "\n",
    "\n",
    "display(bar)\n",
    "\n",
    "for n, i in enumerate(cities_pretty['wiki article']):\n",
    "    lat, lon, valid_geo = get_geo(i)\n",
    "    lats.append(lat)\n",
    "    lons.append(lon)\n",
    "    valids.append(valid_geo)\n",
    "    bar.value = (n+1)\n",
    "\n",
    "\n"
   ]
  },
  {
   "cell_type": "code",
   "execution_count": 16,
   "metadata": {},
   "outputs": [],
   "source": [
    "cities_pretty['lat'] = lats\n",
    "cities_pretty['lon'] = lons\n",
    "cities_pretty['valid GEO'] = valids"
   ]
  },
  {
   "cell_type": "code",
   "execution_count": 17,
   "metadata": {},
   "outputs": [
    {
     "data": {
      "text/html": [
       "<table border=\"1\" class=\"dataframe\">\n",
       "  <thead>\n",
       "    <tr style=\"text-align: right;\">\n",
       "      <th></th>\n",
       "      <th>population</th>\n",
       "      <th>sick</th>\n",
       "      <th>city names</th>\n",
       "      <th>wiki article</th>\n",
       "      <th>wiki</th>\n",
       "      <th>lat</th>\n",
       "      <th>lon</th>\n",
       "      <th>valid GEO</th>\n",
       "      <th>per 1000</th>\n",
       "    </tr>\n",
       "  </thead>\n",
       "  <tbody>\n",
       "    <tr>\n",
       "      <th>1</th>\n",
       "      <td>195298</td>\n",
       "      <td>1594</td>\n",
       "      <td>בני ברק</td>\n",
       "      <td>https://nominatim.openstreetmap.org/search.php?q=בני ברק&format=json</td>\n",
       "      <td><a href=\"https://nominatim.openstreetmap.org/search.php?q=בני ברק&format=json\">link</a></td>\n",
       "      <td>32.0873899</td>\n",
       "      <td>34.8324376</td>\n",
       "      <td>True</td>\n",
       "      <td>8.161886</td>\n",
       "    </tr>\n",
       "    <tr>\n",
       "      <th>35</th>\n",
       "      <td>5713</td>\n",
       "      <td>38</td>\n",
       "      <td>קרית יערים</td>\n",
       "      <td>https://nominatim.openstreetmap.org/search.php?q=קרית יערים&format=json</td>\n",
       "      <td><a href=\"https://nominatim.openstreetmap.org/search.php?q=קרית יערים&format=json\">link</a></td>\n",
       "      <td>31.8035128</td>\n",
       "      <td>35.1012545</td>\n",
       "      <td>True</td>\n",
       "      <td>6.651497</td>\n",
       "    </tr>\n",
       "    <tr>\n",
       "      <th>32</th>\n",
       "      <td>6724</td>\n",
       "      <td>43</td>\n",
       "      <td>כפר חב\"ד</td>\n",
       "      <td>https://nominatim.openstreetmap.org/search.php?q=כפר חב\"ד&format=json</td>\n",
       "      <td><a href=\"https://nominatim.openstreetmap.org/search.php?q=כפר חב\"ד&format=json\">link</a></td>\n",
       "      <td>31.9907676</td>\n",
       "      <td>34.849123</td>\n",
       "      <td>True</td>\n",
       "      <td>6.395003</td>\n",
       "    </tr>\n",
       "    <tr>\n",
       "      <th>24</th>\n",
       "      <td>10676</td>\n",
       "      <td>64</td>\n",
       "      <td>אפרת</td>\n",
       "      <td>https://nominatim.openstreetmap.org/search.php?q=אפרת&format=json</td>\n",
       "      <td><a href=\"https://nominatim.openstreetmap.org/search.php?q=אפרת&format=json\">link</a></td>\n",
       "      <td>31.6536462</td>\n",
       "      <td>35.1508714</td>\n",
       "      <td>True</td>\n",
       "      <td>5.994755</td>\n",
       "    </tr>\n",
       "    <tr>\n",
       "      <th>33</th>\n",
       "      <td>8602</td>\n",
       "      <td>42</td>\n",
       "      <td>כוכב יעקב</td>\n",
       "      <td>https://nominatim.openstreetmap.org/search.php?q=כוכב יעקב&format=json</td>\n",
       "      <td><a href=\"https://nominatim.openstreetmap.org/search.php?q=כוכב יעקב&format=json\">link</a></td>\n",
       "      <td>31.8814286</td>\n",
       "      <td>35.2452887</td>\n",
       "      <td>True</td>\n",
       "      <td>4.882585</td>\n",
       "    </tr>\n",
       "    <tr>\n",
       "      <th>4</th>\n",
       "      <td>46760</td>\n",
       "      <td>215</td>\n",
       "      <td>אלעד</td>\n",
       "      <td>https://nominatim.openstreetmap.org/search.php?q=אלעד&format=json</td>\n",
       "      <td><a href=\"https://nominatim.openstreetmap.org/search.php?q=אלעד&format=json\">link</a></td>\n",
       "      <td>32.0495306</td>\n",
       "      <td>34.9507087</td>\n",
       "      <td>True</td>\n",
       "      <td>4.597947</td>\n",
       "    </tr>\n",
       "    <tr>\n",
       "      <th>20</th>\n",
       "      <td>26058</td>\n",
       "      <td>92</td>\n",
       "      <td>מגדל העמק</td>\n",
       "      <td>https://nominatim.openstreetmap.org/search.php?q=מגדל העמק&format=json</td>\n",
       "      <td><a href=\"https://nominatim.openstreetmap.org/search.php?q=מגדל העמק&format=json\">link</a></td>\n",
       "      <td>32.6765744</td>\n",
       "      <td>35.2413237</td>\n",
       "      <td>True</td>\n",
       "      <td>3.530586</td>\n",
       "    </tr>\n",
       "    <tr>\n",
       "      <th>19</th>\n",
       "      <td>34843</td>\n",
       "      <td>102</td>\n",
       "      <td>אור יהודה</td>\n",
       "      <td>https://nominatim.openstreetmap.org/search.php?q=אור יהודה&format=json</td>\n",
       "      <td><a href=\"https://nominatim.openstreetmap.org/search.php?q=אור יהודה&format=json\">link</a></td>\n",
       "      <td>32.0309712</td>\n",
       "      <td>34.8523936</td>\n",
       "      <td>True</td>\n",
       "      <td>2.927417</td>\n",
       "    </tr>\n",
       "    <tr>\n",
       "      <th>14</th>\n",
       "      <td>44353</td>\n",
       "      <td>119</td>\n",
       "      <td>טבריה</td>\n",
       "      <td>https://nominatim.openstreetmap.org/search.php?q=טבריה&format=json</td>\n",
       "      <td><a href=\"https://nominatim.openstreetmap.org/search.php?q=טבריה&format=json\">link</a></td>\n",
       "      <td>32.7938522</td>\n",
       "      <td>35.5328566</td>\n",
       "      <td>True</td>\n",
       "      <td>2.683020</td>\n",
       "    </tr>\n",
       "    <tr>\n",
       "      <th>47</th>\n",
       "      <td>11841</td>\n",
       "      <td>28</td>\n",
       "      <td>רכסים</td>\n",
       "      <td>https://nominatim.openstreetmap.org/search.php?q=רכסים&format=json</td>\n",
       "      <td><a href=\"https://nominatim.openstreetmap.org/search.php?q=רכסים&format=json\">link</a></td>\n",
       "      <td>32.7509558</td>\n",
       "      <td>35.1013589</td>\n",
       "      <td>True</td>\n",
       "      <td>2.364665</td>\n",
       "    </tr>\n",
       "    <tr>\n",
       "      <th>7</th>\n",
       "      <td>73808</td>\n",
       "      <td>174</td>\n",
       "      <td>מודיעין עילית</td>\n",
       "      <td>https://nominatim.openstreetmap.org/search.php?q=מודיעין עילית&format=json</td>\n",
       "      <td><a href=\"https://nominatim.openstreetmap.org/search.php?q=מודיעין עילית&format=json\">link</a></td>\n",
       "      <td>31.9324487</td>\n",
       "      <td>35.0433428</td>\n",
       "      <td>True</td>\n",
       "      <td>2.357468</td>\n",
       "    </tr>\n",
       "    <tr>\n",
       "      <th>50</th>\n",
       "      <td>11819</td>\n",
       "      <td>26</td>\n",
       "      <td>אזור</td>\n",
       "      <td>https://nominatim.openstreetmap.org/search.php?q=אזור&format=json</td>\n",
       "      <td><a href=\"https://nominatim.openstreetmap.org/search.php?q=אזור&format=json\">link</a></td>\n",
       "      <td>32.0282087</td>\n",
       "      <td>34.802593</td>\n",
       "      <td>True</td>\n",
       "      <td>2.199848</td>\n",
       "    </tr>\n",
       "    <tr>\n",
       "      <th>25</th>\n",
       "      <td>29104</td>\n",
       "      <td>63</td>\n",
       "      <td>יהוד-מונוסון</td>\n",
       "      <td>https://nominatim.openstreetmap.org/search.php?q=יהוד-מונוסון&format=json</td>\n",
       "      <td><a href=\"https://nominatim.openstreetmap.org/search.php?q=יהוד-מונוסון&format=json\">link</a></td>\n",
       "      <td>32.0331756</td>\n",
       "      <td>34.8907527</td>\n",
       "      <td>True</td>\n",
       "      <td>2.164651</td>\n",
       "    </tr>\n",
       "    <tr>\n",
       "      <th>57</th>\n",
       "      <td>13263</td>\n",
       "      <td>24</td>\n",
       "      <td>אבן יהודה</td>\n",
       "      <td>https://nominatim.openstreetmap.org/search.php?q=אבן יהודה&format=json</td>\n",
       "      <td><a href=\"https://nominatim.openstreetmap.org/search.php?q=אבן יהודה&format=json\">link</a></td>\n",
       "      <td>32.2724852</td>\n",
       "      <td>34.886767</td>\n",
       "      <td>True</td>\n",
       "      <td>1.809545</td>\n",
       "    </tr>\n",
       "    <tr>\n",
       "      <th>0</th>\n",
       "      <td>914559</td>\n",
       "      <td>1630</td>\n",
       "      <td>ירושלים</td>\n",
       "      <td>https://nominatim.openstreetmap.org/search.php?q=ירושלים&format=json</td>\n",
       "      <td><a href=\"https://nominatim.openstreetmap.org/search.php?q=ירושלים&format=json\">link</a></td>\n",
       "      <td>31.778345</td>\n",
       "      <td>35.2250786</td>\n",
       "      <td>True</td>\n",
       "      <td>1.782280</td>\n",
       "    </tr>\n",
       "    <tr>\n",
       "      <th>34</th>\n",
       "      <td>23691</td>\n",
       "      <td>42</td>\n",
       "      <td>קרית מלאכי</td>\n",
       "      <td>https://nominatim.openstreetmap.org/search.php?q=קרית מלאכי&format=json</td>\n",
       "      <td><a href=\"https://nominatim.openstreetmap.org/search.php?q=קרית מלאכי&format=json\">link</a></td>\n",
       "      <td>31.7314672</td>\n",
       "      <td>34.74348</td>\n",
       "      <td>True</td>\n",
       "      <td>1.772825</td>\n",
       "    </tr>\n",
       "    <tr>\n",
       "      <th>78</th>\n",
       "      <td>7373</td>\n",
       "      <td>13</td>\n",
       "      <td>קצרין</td>\n",
       "      <td>https://nominatim.openstreetmap.org/search.php?q=קצרין&format=json</td>\n",
       "      <td><a href=\"https://nominatim.openstreetmap.org/search.php?q=קצרין&format=json\">link</a></td>\n",
       "      <td>32.9920262</td>\n",
       "      <td>35.6877004</td>\n",
       "      <td>True</td>\n",
       "      <td>1.763190</td>\n",
       "    </tr>\n",
       "    <tr>\n",
       "      <th>36</th>\n",
       "      <td>20041</td>\n",
       "      <td>35</td>\n",
       "      <td>שוהם</td>\n",
       "      <td>https://nominatim.openstreetmap.org/search.php?q=שוהם&format=json</td>\n",
       "      <td><a href=\"https://nominatim.openstreetmap.org/search.php?q=שוהם&format=json\">link</a></td>\n",
       "      <td>32.0004845</td>\n",
       "      <td>34.9465419</td>\n",
       "      <td>True</td>\n",
       "      <td>1.746420</td>\n",
       "    </tr>\n",
       "    <tr>\n",
       "      <th>18</th>\n",
       "      <td>59240</td>\n",
       "      <td>103</td>\n",
       "      <td>ביתר עילית</td>\n",
       "      <td>https://nominatim.openstreetmap.org/search.php?q=ביתר עילית&format=json</td>\n",
       "      <td><a href=\"https://nominatim.openstreetmap.org/search.php?q=ביתר עילית&format=json\">link</a></td>\n",
       "      <td>31.699222650000003</td>\n",
       "      <td>35.10483926101966</td>\n",
       "      <td>True</td>\n",
       "      <td>1.738690</td>\n",
       "    </tr>\n",
       "    <tr>\n",
       "      <th>53</th>\n",
       "      <td>14732</td>\n",
       "      <td>25</td>\n",
       "      <td>ג'סר א-זרקא</td>\n",
       "      <td>https://nominatim.openstreetmap.org/search.php?q=ג'סר א-זרקא&format=json</td>\n",
       "      <td><a href=\"https://nominatim.openstreetmap.org/search.php?q=ג'סר א-זרקא&format=json\">link</a></td>\n",
       "      <td>32.5375618</td>\n",
       "      <td>34.9132199</td>\n",
       "      <td>True</td>\n",
       "      <td>1.696986</td>\n",
       "    </tr>\n",
       "  </tbody>\n",
       "</table>"
      ],
      "text/plain": [
       "<IPython.core.display.HTML object>"
      ]
     },
     "metadata": {},
     "output_type": "display_data"
    }
   ],
   "source": [
    "cities_pretty['per 1000'] = cities_pretty['sick']/cities_pretty['population']*1000\n",
    "display(HTML(cities_pretty.sort_values(by=['per 1000'],ascending=False).head(20).to_html(escape=False)))\n",
    "cities_pretty['text'] = 'At:\\n' + cities_pretty['city names'] +'\\nSick: '+ cities_pretty['sick'].astype(str) + '\\nPopulation: ' + cities_pretty['population'].astype(str)+ '\\nPer 1000: ' + cities_pretty['per 1000'].astype(str)  \n",
    "cities_pretty.sort_values(by=['population'],ascending=False).to_csv('CompleteCities.csv')\n",
    "cities_pretty.sort_values(by=['population'],ascending=False).to_json('CompleteCities.json')"
   ]
  },
  {
   "cell_type": "code",
   "execution_count": 18,
   "metadata": {},
   "outputs": [
    {
     "data": {
      "application/vnd.plotly.v1+json": {
       "config": {
        "plotlyServerURL": "https://plot.ly"
       },
       "data": [
        {
         "geo": "geo",
         "hoverlabel": {
          "namelength": 0
         },
         "hovertemplate": "<b>%{hovertext}</b><br><br>sick=%{marker.size}<br>lat=%{lat}<br>lon=%{lon}<br>per 1000=%{marker.color}",
         "hovertext": [
          "At:\nירושלים\nSick: 1630\nPopulation: 914559\nPer 1000: 1.7822797654388618",
          "At:\nבני ברק\nSick: 1594\nPopulation: 195298\nPer 1000: 8.161885938412068",
          "At:\nתל אביב - יפו\nSick: 415\nPopulation: 450192\nPer 1000: 0.9218289085545722",
          "At:\nאשקלון\nSick: 216\nPopulation: 139032\nPer 1000: 1.5535991714137751",
          "At:\nאלעד\nSick: 215\nPopulation: 46760\nPer 1000: 4.597946963216424",
          "At:\nפתח תקווה\nSick: 190\nPopulation: 242478\nPer 1000: 0.7835762419683435",
          "At:\nראשון לציון\nSick: 180\nPopulation: 241010\nPer 1000: 0.7468569768889258",
          "At:\nמודיעין עילית\nSick: 174\nPopulation: 73808\nPer 1000: 2.357468025146326",
          "At:\nבית שמש\nSick: 169\nPopulation: 120812\nPer 1000: 1.3988676621527663",
          "At:\nאשדוד\nSick: 160\nPopulation: 225073\nPer 1000: 0.7108804698919905",
          "At:\nנתניה\nSick: 149\nPopulation: 213971\nPer 1000: 0.6963560482495291",
          "At:\nחולון\nSick: 128\nPopulation: 185741\nPer 1000: 0.6891316402948192",
          "At:\nבאר שבע\nSick: 127\nPopulation: 196755\nPer 1000: 0.6454727961169983",
          "At:\nרמת גן\nSick: 126\nPopulation: 143370\nPer 1000: 0.8788449466415569",
          "At:\nטבריה\nSick: 119\nPopulation: 44353\nPer 1000: 2.6830203142966655",
          "At:\nחיפה\nSick: 118\nPopulation: 272584\nPer 1000: 0.4328940803568808",
          "At:\nבת ים\nSick: 114\nPopulation: 130523\nPer 1000: 0.8734092841874612",
          "At:\nמודיעין-מכבים-רעות\nSick: 112\nPopulation: 87108\nPer 1000: 1.2857602057216329",
          "At:\nביתר עילית\nSick: 103\nPopulation: 59240\nPer 1000: 1.7386900742741391",
          "At:\nאור יהודה\nSick: 102\nPopulation: 34843\nPer 1000: 2.9274172717619034",
          "At:\nמגדל העמק\nSick: 92\nPopulation: 26058\nPer 1000: 3.530585616701205",
          "At:\nהרצליה\nSick: 85\nPopulation: 90900\nPer 1000: 0.9350935093509352",
          "At:\nרעננה\nSick: 83\nPopulation: 73979\nPer 1000: 1.1219400100028387",
          "At:\nרחובות\nSick: 80\nPopulation: 137178\nPer 1000: 0.5831838924608903",
          "At:\nאפרת\nSick: 64\nPopulation: 10676\nPer 1000: 5.994754589733983",
          "At:\nיהוד-מונוסון\nSick: 63\nPopulation: 29104\nPer 1000: 2.1646509070918087",
          "At:\nכפר סבא\nSick: 63\nPopulation: 97412\nPer 1000: 0.6467375682667433",
          "At:\nעפולה\nSick: 54\nPopulation: 50886\nPer 1000: 1.0611956137247966",
          "At:\nלוד\nSick: 52\nPopulation: 75038\nPer 1000: 0.6929822223406806",
          "At:\nצפת\nSick: 48\nPopulation: 35671\nPer 1000: 1.3456309046564434",
          "At:\nרמלה\nSick: 48\nPopulation: 75246\nPer 1000: 0.6379076628658001",
          "At:\nקרית אונו\nSick: 46\nPopulation: 37112\nPer 1000: 1.2394912696701876",
          "At:\nכפר חב\"ד\nSick: 43\nPopulation: 6724\nPer 1000: 6.395002974419988",
          "At:\nכוכב יעקב\nSick: 42\nPopulation: 8602\nPer 1000: 4.882585445245292",
          "At:\nקרית מלאכי\nSick: 42\nPopulation: 23691\nPer 1000: 1.7728251234646069",
          "At:\nקרית יערים\nSick: 38\nPopulation: 5713\nPer 1000: 6.651496586732014",
          "At:\nשוהם\nSick: 35\nPopulation: 20041\nPer 1000: 1.7464198393293748",
          "At:\nרמת השרון\nSick: 34\nPopulation: 44896\nPer 1000: 0.7573057733428368",
          "At:\nהוד השרון\nSick: 33\nPopulation: 59171\nPer 1000: 0.5577056328268915",
          "At:\nמעלה אדומים\nSick: 33\nPopulation: 37469\nPer 1000: 0.880728068536657",
          "At:\nקרית גת\nSick: 32\nPopulation: 55400\nPer 1000: 0.5776173285198556",
          "At:\nגבעת שמואל\nSick: 31\nPopulation: 24538\nPer 1000: 1.2633466460184204",
          "At:\nנתיבות\nSick: 31\nPopulation: 36511\nPer 1000: 0.8490591876420804",
          "At:\nראש העין\nSick: 30\nPopulation: 53965\nPer 1000: 0.5559158713981284",
          "At:\nגבעתיים\nSick: 29\nPopulation: 55123\nPer 1000: 0.5260961848955971",
          "At:\nאופקים\nSick: 28\nPopulation: 30185\nPer 1000: 0.927613052840815",
          "At:\nיבנה\nSick: 28\nPopulation: 45555\nPer 1000: 0.6146416419712435",
          "At:\nרכסים\nSick: 28\nPopulation: 11841\nPer 1000: 2.364665146524787",
          "At:\nנהריה\nSick: 27\nPopulation: 58750\nPer 1000: 0.4595744680851064",
          "At:\nשדרות\nSick: 27\nPopulation: 25891\nPer 1000: 1.0428334170174964",
          "At:\nאזור\nSick: 26\nPopulation: 11819\nPer 1000: 2.199847702851341",
          "At:\nזכרון יעקב\nSick: 26\nPopulation: 22341\nPer 1000: 1.1637795980484311",
          "At:\nכרמיאל\nSick: 26\nPopulation: 46596\nPer 1000: 0.557987810112456",
          "At:\nג'סר א-זרקא\nSick: 25\nPopulation: 14732\nPer 1000: 1.6969861525929948",
          "At:\nגני תקווה\nSick: 25\nPopulation: 18930\nPer 1000: 1.3206550449022716",
          "At:\nדימונה\nSick: 25\nPopulation: 35377\nPer 1000: 0.70667382762812",
          "At:\nחדרה\nSick: 25\nPopulation: 94104\nPer 1000: 0.2656635212105755",
          "At:\nאבן יהודה\nSick: 24\nPopulation: 13263\nPer 1000: 1.8095453517303777",
          "At:\nנוף הגליל\nSick: 24\nPopulation: 43811\nPer 1000: 0.547807628221223",
          "At:\nגן יבנה\nSick: 23\nPopulation: 22410\nPer 1000: 1.0263275323516288",
          "At:\nאום אל-פחם\nSick: 22\nPopulation: 55324\nPer 1000: 0.39765743619405686",
          "At:\nגדרה\nSick: 21\nPopulation: 24633\nPer 1000: 0.8525149190110827",
          "At:\nקרית ים\nSick: 21\nPopulation: 39556\nPer 1000: 0.5308929113156032",
          "At:\nבאר יעקב\nSick: 17\nPopulation: 24216\nPer 1000: 0.702015196564255",
          "At:\nגבעת זאב\nSick: 17\nPopulation: 18510\nPer 1000: 0.9184224743381956",
          "At:\nקרית אתא\nSick: 17\nPopulation: 57108\nPer 1000: 0.29768158576731807",
          "At:\nדבוריה\nSick: 16\nPopulation: 10414\nPer 1000: 1.5363933166890724",
          "At:\nעכו\nSick: 16\nPopulation: 50872\nPer 1000: 0.3145148608271741",
          "At:\nטמרה\nSick: 15\nPopulation: 33792\nPer 1000: 0.4438920454545454",
          "At:\nנס ציונה\nSick: 15\nPopulation: 45714\nPer 1000: 0.32812705079406745",
          "At:\nאילת\nSick: 14\nPopulation: 56568\nPer 1000: 0.24748974685334468",
          "At:\nטירת כרמל\nSick: 14\nPopulation: 22243\nPer 1000: 0.6294115002472688",
          "At:\nכפר יונה\nSick: 14\nPopulation: 21301\nPer 1000: 0.6572461386789353",
          "At:\nג'ת\nSick: 13\nPopulation: 11910\nPer 1000: 1.0915197313182199",
          "At:\nיקנעם עילית\nSick: 13\nPopulation: 22711\nPer 1000: 0.5724098454493417",
          "At:\nמבשרת ציון\nSick: 13\nPopulation: 23093\nPer 1000: 0.562941150998138",
          "At:\nקדימה-צורן\nSick: 13\nPopulation: 20831\nPer 1000: 0.6240698958283327",
          "At:\nקצרין\nSick: 13\nPopulation: 7373\nPer 1000: 1.7631900176319002",
          "At:\nתל מונד\nSick: 13\nPopulation: 12593\nPer 1000: 1.0323195426030334",
          "At:\nערד\nSick: 12\nPopulation: 26763\nPer 1000: 0.44838022643201436",
          "At:\nקרית ארבע\nSick: 11\nPopulation: 7364\nPer 1000: 1.4937533948940793",
          "At:\nקרית ביאליק\nSick: 11\nPopulation: 39262\nPer 1000: 0.28016912026896235",
          "At:\nמזכרת בתיה\nSick: 10\nPopulation: 14949\nPer 1000: 0.6689410662920596",
          "At:\nמעלות-תרשיחא\nSick: 10\nPopulation: 22261\nPer 1000: 0.4492161178743093",
          "At:\nעומר\nSick: 10\nPopulation: 8016\nPer 1000: 1.2475049900199602",
          "At:\nקרית שמונה\nSick: 10\nPopulation: 22152\nPer 1000: 0.4514265077645359",
          "At:\nשבלי - אום אל-גנם\nSick: 10\nPopulation: 6367\nPer 1000: 1.5705983979896339",
          "At:\nטייבה\nSick: 9\nPopulation: 43144\nPer 1000: 0.20860374559614314",
          "At:\nנצרת\nSick: 9\nPopulation: 78252\nPer 1000: 0.11501303481061187",
          "At:\nדייר חנא\nSick: 8\nPopulation: 10567\nPer 1000: 0.7570739093403993",
          "At:\nכוכב יאיר\nSick: 8\nPopulation: 9143\nPer 1000: 0.8749863283386198",
          "At:\nכסיפה\nSick: 7\nPopulation: 16957\nPer 1000: 0.41280886949342455",
          "At:\nמגאר\nSick: 7\nPopulation: 22364\nPer 1000: 0.31300304060096584",
          "At:\nפרדס חנה-כרכור\nSick: 7\nPopulation: 40622\nPer 1000: 0.17232041750775443",
          "At:\nקרית מוצקין\nSick: 7\nPopulation: 42870\nPer 1000: 0.16328434802892466",
          "At:\nקרית עקרון\nSick: 7\nPopulation: 10600\nPer 1000: 0.6603773584905661",
          "At:\nרהט\nSick: 7\nPopulation: 64649\nPer 1000: 0.10827700351126854",
          "At:\nאכסאל\nSick: 6\nPopulation: 14655\nPer 1000: 0.4094165813715455",
          "At:\nלהבים\nSick: 6\nPopulation: 6178\nPer 1000: 0.9711880867594691",
          "At:\nסח'נין\nSick: 6\nPopulation: 32089\nPer 1000: 0.18697996198074107",
          "At:\nקרני שומרון\nSick: 6\nPopulation: 7906\nPer 1000: 0.7589172780166962",
          "At:\nאור עקיבא\nSick: 5\nPopulation: 18893\nPer 1000: 0.26464828243264704",
          "At:\nאלפי מנשה\nSick: 5\nPopulation: 7771\nPer 1000: 0.6434178355424012",
          "At:\nאריאל\nSick: 5\nPopulation: 18251\nPer 1000: 0.27395759136485676",
          "At:\nביר אל-מכסור\nSick: 5\nPopulation: 9866\nPer 1000: 0.5067909993918508",
          "At:\nגבע בנימין\nSick: 5\nPopulation: 5299\nPer 1000: 0.9435742592942065",
          "At:\nנשר\nSick: 5\nPopulation: 22032\nPer 1000: 0.22694262890341324",
          "At:\nשלומי\nSick: 5\nPopulation: 6478\nPer 1000: 0.7718431614695893",
          "At:\nבית דגן\nSick: 4\nPopulation: 6533\nPer 1000: 0.6122761365375785",
          "At:\nבני עי\"ש\nSick: 4\nPopulation: 6837\nPer 1000: 0.585051923358198",
          "At:\nחריש\nSick: 4\nPopulation: 8737\nPer 1000: 0.4578230513906375",
          "At:\nכפר קאסם\nSick: 4\nPopulation: 23517\nPer 1000: 0.1700897223285283",
          "At:\nמעלה עירון\nSick: 4\nPopulation: 14861\nPer 1000: 0.26916089092254897",
          "At:\nצור הדסה\nSick: 4\nPopulation: 7856\nPer 1000: 0.5091649694501018",
          "At:\nצור יצחק\nSick: 4\nPopulation: 5954\nPer 1000: 0.6718172657037286",
          "At:\nבית אל\nSick: 3\nPopulation: 5767\nPer 1000: 0.5202011444425179",
          "At:\nג'לג'וליה\nSick: 3\nPopulation: 10011\nPer 1000: 0.2996703626011388",
          "At:\nטירה\nSick: 3\nPopulation: 26184\nPer 1000: 0.11457378551787352",
          "At:\nיפיע\nSick: 3\nPopulation: 19056\nPer 1000: 0.1574307304785894",
          "At:\nמיתר\nSick: 3\nPopulation: 9043\nPer 1000: 0.3317483136127391",
          "At:\nעיילבון\nSick: 3\nPopulation: 5677\nPer 1000: 0.5284481240091597",
          "At:\nעין מאהל\nSick: 3\nPopulation: 13388\nPer 1000: 0.224081266806095",
          "At:\nאורנית\nSick: 2\nPopulation: 8822\nPer 1000: 0.22670596236681023",
          "At:\nבועיינה-נוג'ידאת\nSick: 2\nPopulation: 9974\nPer 1000: 0.20052135552436334",
          "At:\nבוקעאתא\nSick: 2\nPopulation: 6586\nPer 1000: 0.3036744609778318",
          "At:\nבנימינה-גבעת עדה\nSick: 2\nPopulation: 14383\nPer 1000: 0.13905304873809357",
          "At:\nבסמ\"ה\nSick: 2\nPopulation: 10532\nPer 1000: 0.189897455374098",
          "At:\nבסמת טבעון\nSick: 2\nPopulation: 7833\nPer 1000: 0.25533001404315075",
          "At:\nג'דיידה-מכר\nSick: 2\nPopulation: 20524\nPer 1000: 0.09744689144416292",
          "At:\nג'ולס\nSick: 2\nPopulation: 6147\nPer 1000: 0.32536196518626975",
          "At:\nחצור הגלילית\nSick: 2\nPopulation: 9722\nPer 1000: 0.20571898786257972",
          "At:\nכפר ורדים\nSick: 2\nPopulation: 5599\nPer 1000: 0.3572066440435792",
          "At:\nכפר יאסיף\nSick: 2\nPopulation: 10577\nPer 1000: 0.18908953389429894",
          "At:\nכפר כנא\nSick: 2\nPopulation: 22449\nPer 1000: 0.08909082809924718",
          "At:\nכפר קרע\nSick: 2\nPopulation: 18820\nPer 1000: 0.10626992561105207",
          "At:\nעתלית\nSick: 2\nPopulation: 7442\nPer 1000: 0.26874496103198064",
          "At:\nקרית טבעון\nSick: 2\nPopulation: 15831\nPer 1000: 0.12633440717579433",
          "At:\nרמת ישי\nSick: 2\nPopulation: 7236\nPer 1000: 0.27639579878385845",
          "At:\nשפרעם\nSick: 2\nPopulation: 40666\nPer 1000: 0.049181134116952734",
          "At:\nאבו גוש\nSick: 1\nPopulation: 7792\nPer 1000: 0.12833675564681726",
          "At:\nבענה\nSick: 1\nPopulation: 8355\nPer 1000: 0.11968880909634949",
          "At:\nבת חפר\nSick: 1\nPopulation: 5124\nPer 1000: 0.195160031225605",
          "At:\nזמר\nSick: 1\nPopulation: 6926\nPer 1000: 0.14438348252959862",
          "At:\nחורפיש\nSick: 1\nPopulation: 6288\nPer 1000: 0.15903307888040713",
          "At:\nטובא-זנגריה\nSick: 1\nPopulation: 6648\nPer 1000: 0.15042117930204574",
          "At:\nירוחם\nSick: 1\nPopulation: 10126\nPer 1000: 0.09875567845151097",
          "At:\nמג'דל שמס\nSick: 1\nPopulation: 11089\nPer 1000: 0.09017945711966814",
          "At:\nנחף\nSick: 1\nPopulation: 13167\nPer 1000: 0.075947444368497",
          "At:\nעראבה\nSick: 1\nPopulation: 25876\nPer 1000: 0.038645849435770596",
          "At:\nערערה-בנגב\nSick: 1\nPopulation: 17465\nPer 1000: 0.0572573718866304",
          "At:\nפרדסיה\nSick: 1\nPopulation: 6027\nPer 1000: 0.16592002654720425",
          "At:\nקיסריה\nSick: 1\nPopulation: 5272\nPer 1000: 0.18968133535660092",
          "At:\nקלנסווה\nSick: 1\nPopulation: 22740\nPer 1000: 0.04397537379067722",
          "At:\nשערי תקווה\nSick: 1\nPopulation: 5584\nPer 1000: 0.17908309455587393",
          "At:\nתל שבע\nSick: 1\nPopulation: 19850\nPer 1000: 0.05037783375314862"
         ],
         "lat": [
          "31.778345",
          "32.0873899",
          "32.0804808",
          "31.6644874",
          "32.0495306",
          "32.0877639",
          "31.9635712",
          "31.9324487",
          "31.746214",
          "31.7977314",
          "32.3286181",
          "32.0193121",
          "31.2525238",
          "32.0686867",
          "32.7938522",
          "32.8191218",
          "32.0154565",
          "31.9085744",
          "31.699222650000003",
          "32.0309712",
          "32.6765744",
          "32.1720339",
          "32.1862752",
          "31.8952532",
          "31.6536462",
          "32.0331756",
          "32.1773471",
          "32.6075587",
          "31.9489012",
          "32.9646301",
          "31.9279988",
          "32.0581907",
          "31.9907676",
          "31.8814286",
          "31.7314672",
          "31.8035128",
          "32.0004845",
          "32.1431276",
          "32.1561974",
          "31.7705643",
          "31.6093998",
          "32.0769463",
          "31.4213546",
          "32.0952929",
          "32.0729606",
          "31.3125831",
          "31.8768863",
          "32.7509558",
          "33.006306",
          "31.526474",
          "32.0282087",
          "32.5711587",
          "32.9159104",
          "32.5375618",
          "32.0604256",
          "31.0686612",
          "32.43699",
          "32.2724852",
          "32.7023065",
          "31.787109",
          "32.5158385",
          "31.8117747",
          "32.86217705",
          "31.9443532",
          "31.8623329",
          "32.8115779",
          "32.6927785",
          "32.9281731",
          "32.8534876",
          "31.9295577",
          "29.5569348",
          "32.7613834",
          "32.314504",
          "32.3293809",
          "32.655224849999996",
          "31.8057198",
          "32.281965650000004",
          "32.9920262",
          "32.2536471",
          "31.2612199",
          "31.5277619",
          "32.842034",
          "31.8514378",
          "33.0157394",
          "31.2659365",
          "33.2074733",
          "32.6758493",
          "32.2671249",
          "32.7066301",
          "32.767822",
          "32.22014095",
          "31.2465374",
          "38.6115892",
          "32.475041",
          "32.84456165",
          "31.8607858",
          "31.3932933",
          "32.6815837",
          "31.3703233",
          "32.8638052",
          "32.1714785",
          "32.5090151",
          "32.1730798",
          "32.1060817",
          "32.7756653",
          "31.8503299",
          "32.7708797",
          "33.0760504",
          "32.0004347",
          "31.7891954",
          "32.4616062",
          "32.1139357",
          "32.5494975",
          "31.7156945",
          "32.24124",
          "31.9420729",
          "32.149177800000004",
          "32.2346856",
          "32.6854269",
          "31.3270854",
          "32.838349",
          "32.7233235",
          "32.1309209",
          "32.8056259",
          "33.20076",
          "32.52568875",
          "32.53230915",
          "32.7362276",
          "32.9295224",
          "32.9430618",
          "32.9791697",
          "32.9972507",
          "32.9533067",
          "32.7449001",
          "32.5029914",
          "32.690712",
          "32.70818545",
          "32.701698",
          "32.8045765",
          "31.806353",
          "32.92773",
          "32.3331192",
          "32.36220995",
          "33.01737",
          "32.9663198",
          "30.9888033",
          "33.2684288",
          "32.9345686",
          "32.8486132",
          "31.1581694",
          "32.3056651",
          "38.7225274",
          "32.2848603",
          "32.0930458",
          "31.2456487"
         ],
         "legendgroup": "",
         "locationmode": "country names",
         "lon": [
          "35.2250786",
          "34.8324376",
          "34.7805274",
          "34.5730157",
          "34.9507087",
          "34.8859985",
          "34.8101149",
          "35.0433428",
          "34.9886825",
          "34.6529922",
          "34.8566246",
          "34.7804076",
          "34.7905787",
          "34.8246812",
          "35.5328566",
          "34.9983856",
          "34.7505283",
          "35.0069297",
          "35.10483926101966",
          "34.8523936",
          "35.2413237",
          "34.83099838250153",
          "34.8692427",
          "34.8105616",
          "35.1508714",
          "34.8907527",
          "34.907459",
          "35.2890861",
          "34.8884857",
          "35.502451",
          "34.8623473",
          "34.85824766018813",
          "34.849123",
          "35.2452887",
          "34.74348",
          "35.1012545",
          "34.9465419",
          "34.8380853",
          "34.8930354",
          "35.2987457",
          "34.7711983",
          "34.8524656",
          "34.5884252",
          "34.9533225",
          "34.8113279",
          "34.6208537",
          "34.7382974",
          "35.1013589",
          "35.0945579",
          "34.5969696",
          "34.802593",
          "34.9529966",
          "35.293429",
          "34.9132199",
          "34.8760954",
          "35.0366482",
          "34.9198258",
          "34.886767",
          "35.3183216",
          "34.7096635",
          "35.152491",
          "34.7803882",
          "35.07888809842724",
          "34.8398648",
          "35.1687498",
          "35.1163659",
          "35.3716044",
          "35.0756378",
          "35.1978748",
          "34.7990609",
          "34.9497949",
          "34.9715506",
          "34.9321169",
          "-83.1137366",
          "35.09980553528567",
          "35.152731",
          "34.91045479199278",
          "35.6877004",
          "34.9185387",
          "35.214581",
          "35.1191651",
          "35.100408081423566",
          "34.8411635",
          "35.2759666",
          "34.847616",
          "35.5707828",
          "35.3918678",
          "35.0089029",
          "35.3048161",
          "35.250779",
          "34.994418065862405",
          "35.0930574",
          "47.4479834",
          "34.9761087",
          "35.08431641851019",
          "34.823337",
          "34.7547693",
          "35.3239769",
          "34.8136886",
          "35.3023184",
          "35.0980763",
          "34.9195677",
          "35.0158426",
          "35.1851368",
          "35.2216911",
          "35.2739808",
          "35.0381249",
          "35.1485842",
          "34.8306669",
          "34.7605995",
          "35.0446899",
          "34.9760002",
          "35.15448566167521",
          "35.0948306",
          "34.9983819",
          "35.2224417",
          "34.94175420560542",
          "34.9544553",
          "35.2789052",
          "34.9384389",
          "35.39777",
          "35.352732",
          "34.9919607",
          "35.3646736",
          "35.7779892",
          "34.959703819638506",
          "35.104832753720274",
          "35.1546502",
          "35.1467427",
          "35.1869431",
          "35.543327",
          "35.2725342",
          "35.165698",
          "35.3437869",
          "35.0504995",
          "34.9422744",
          "35.13072176699177",
          "35.1668263",
          "35.1723866",
          "35.1088651",
          "35.2711176",
          "35.013631778585264",
          "35.03251314416771",
          "35.3469551",
          "35.5944243",
          "34.9250975",
          "35.769371",
          "35.31763",
          "35.3358268",
          "35.0284251",
          "34.9122678",
          "35.4874516",
          "34.9801701",
          "34.9067239225851",
          "34.8577683"
         ],
         "marker": {
          "color": [
           1.7822797654388618,
           8.161885938412068,
           0.9218289085545722,
           1.5535991714137751,
           4.597946963216424,
           0.7835762419683435,
           0.7468569768889258,
           2.357468025146326,
           1.3988676621527663,
           0.7108804698919905,
           0.6963560482495291,
           0.6891316402948192,
           0.6454727961169983,
           0.8788449466415569,
           2.6830203142966655,
           0.4328940803568808,
           0.8734092841874612,
           1.2857602057216329,
           1.7386900742741391,
           2.9274172717619034,
           3.530585616701205,
           0.9350935093509352,
           1.1219400100028387,
           0.5831838924608903,
           5.994754589733983,
           2.1646509070918087,
           0.6467375682667433,
           1.0611956137247966,
           0.6929822223406806,
           1.3456309046564434,
           0.6379076628658001,
           1.2394912696701876,
           6.395002974419988,
           4.882585445245292,
           1.7728251234646069,
           6.651496586732014,
           1.7464198393293748,
           0.7573057733428368,
           0.5577056328268915,
           0.880728068536657,
           0.5776173285198556,
           1.2633466460184204,
           0.8490591876420804,
           0.5559158713981284,
           0.5260961848955971,
           0.927613052840815,
           0.6146416419712435,
           2.364665146524787,
           0.4595744680851064,
           1.0428334170174964,
           2.199847702851341,
           1.1637795980484311,
           0.557987810112456,
           1.6969861525929948,
           1.3206550449022716,
           0.70667382762812,
           0.2656635212105755,
           1.8095453517303777,
           0.547807628221223,
           1.0263275323516288,
           0.39765743619405686,
           0.8525149190110827,
           0.5308929113156032,
           0.702015196564255,
           0.9184224743381956,
           0.29768158576731807,
           1.5363933166890724,
           0.3145148608271741,
           0.4438920454545454,
           0.32812705079406745,
           0.24748974685334468,
           0.6294115002472688,
           0.6572461386789353,
           1.0915197313182199,
           0.5724098454493417,
           0.562941150998138,
           0.6240698958283327,
           1.7631900176319002,
           1.0323195426030334,
           0.44838022643201436,
           1.4937533948940793,
           0.28016912026896235,
           0.6689410662920596,
           0.4492161178743093,
           1.2475049900199602,
           0.4514265077645359,
           1.5705983979896339,
           0.20860374559614314,
           0.11501303481061187,
           0.7570739093403993,
           0.8749863283386198,
           0.41280886949342455,
           0.31300304060096584,
           0.17232041750775443,
           0.16328434802892466,
           0.6603773584905661,
           0.10827700351126854,
           0.4094165813715455,
           0.9711880867594691,
           0.18697996198074107,
           0.7589172780166962,
           0.26464828243264704,
           0.6434178355424012,
           0.27395759136485676,
           0.5067909993918508,
           0.9435742592942065,
           0.22694262890341324,
           0.7718431614695893,
           0.6122761365375785,
           0.585051923358198,
           0.4578230513906375,
           0.1700897223285283,
           0.26916089092254897,
           0.5091649694501018,
           0.6718172657037286,
           0.5202011444425179,
           0.2996703626011388,
           0.11457378551787352,
           0.1574307304785894,
           0.3317483136127391,
           0.5284481240091597,
           0.224081266806095,
           0.22670596236681023,
           0.20052135552436334,
           0.3036744609778318,
           0.13905304873809357,
           0.189897455374098,
           0.25533001404315075,
           0.09744689144416292,
           0.32536196518626975,
           0.20571898786257972,
           0.3572066440435792,
           0.18908953389429894,
           0.08909082809924718,
           0.10626992561105207,
           0.26874496103198064,
           0.12633440717579433,
           0.27639579878385845,
           0.049181134116952734,
           0.12833675564681726,
           0.11968880909634949,
           0.195160031225605,
           0.14438348252959862,
           0.15903307888040713,
           0.15042117930204574,
           0.09875567845151097,
           0.09017945711966814,
           0.075947444368497,
           0.038645849435770596,
           0.0572573718866304,
           0.16592002654720425,
           0.18968133535660092,
           0.04397537379067722,
           0.17908309455587393,
           0.05037783375314862
          ],
          "coloraxis": "coloraxis",
          "size": [
           1630,
           1594,
           415,
           216,
           215,
           190,
           180,
           174,
           169,
           160,
           149,
           128,
           127,
           126,
           119,
           118,
           114,
           112,
           103,
           102,
           92,
           85,
           83,
           80,
           64,
           63,
           63,
           54,
           52,
           48,
           48,
           46,
           43,
           42,
           42,
           38,
           35,
           34,
           33,
           33,
           32,
           31,
           31,
           30,
           29,
           28,
           28,
           28,
           27,
           27,
           26,
           26,
           26,
           25,
           25,
           25,
           25,
           24,
           24,
           23,
           22,
           21,
           21,
           17,
           17,
           17,
           16,
           16,
           15,
           15,
           14,
           14,
           14,
           13,
           13,
           13,
           13,
           13,
           13,
           12,
           11,
           11,
           10,
           10,
           10,
           10,
           10,
           9,
           9,
           8,
           8,
           7,
           7,
           7,
           7,
           7,
           7,
           6,
           6,
           6,
           6,
           5,
           5,
           5,
           5,
           5,
           5,
           5,
           4,
           4,
           4,
           4,
           4,
           4,
           4,
           3,
           3,
           3,
           3,
           3,
           3,
           3,
           2,
           2,
           2,
           2,
           2,
           2,
           2,
           2,
           2,
           2,
           2,
           2,
           2,
           2,
           2,
           2,
           2,
           1,
           1,
           1,
           1,
           1,
           1,
           1,
           1,
           1,
           1,
           1,
           1,
           1,
           1,
           1,
           1
          ],
          "sizemode": "area",
          "sizeref": 4.075
         },
         "name": "",
         "showlegend": false,
         "type": "scattergeo"
        }
       ],
       "layout": {
        "coloraxis": {
         "colorbar": {
          "title": {
           "text": "per 1000"
          }
         },
         "colorscale": [
          [
           0,
           "#0d0887"
          ],
          [
           0.1111111111111111,
           "#46039f"
          ],
          [
           0.2222222222222222,
           "#7201a8"
          ],
          [
           0.3333333333333333,
           "#9c179e"
          ],
          [
           0.4444444444444444,
           "#bd3786"
          ],
          [
           0.5555555555555556,
           "#d8576b"
          ],
          [
           0.6666666666666666,
           "#ed7953"
          ],
          [
           0.7777777777777778,
           "#fb9f3a"
          ],
          [
           0.8888888888888888,
           "#fdca26"
          ],
          [
           1,
           "#f0f921"
          ]
         ]
        },
        "geo": {
         "center": {
          "lat": 31.778345,
          "lon": 35.2250786
         },
         "countrycolor": "RebeccaPurple",
         "domain": {
          "x": [
           0,
           1
          ],
          "y": [
           0,
           1
          ]
         },
         "projection": {
          "type": "natural earth"
         },
         "showcountries": true
        },
        "legend": {
         "itemsizing": "constant",
         "tracegroupgap": 0
        },
        "margin": {
         "t": 60
        },
        "template": {
         "data": {
          "bar": [
           {
            "error_x": {
             "color": "#2a3f5f"
            },
            "error_y": {
             "color": "#2a3f5f"
            },
            "marker": {
             "line": {
              "color": "#E5ECF6",
              "width": 0.5
             }
            },
            "type": "bar"
           }
          ],
          "barpolar": [
           {
            "marker": {
             "line": {
              "color": "#E5ECF6",
              "width": 0.5
             }
            },
            "type": "barpolar"
           }
          ],
          "carpet": [
           {
            "aaxis": {
             "endlinecolor": "#2a3f5f",
             "gridcolor": "white",
             "linecolor": "white",
             "minorgridcolor": "white",
             "startlinecolor": "#2a3f5f"
            },
            "baxis": {
             "endlinecolor": "#2a3f5f",
             "gridcolor": "white",
             "linecolor": "white",
             "minorgridcolor": "white",
             "startlinecolor": "#2a3f5f"
            },
            "type": "carpet"
           }
          ],
          "choropleth": [
           {
            "colorbar": {
             "outlinewidth": 0,
             "ticks": ""
            },
            "type": "choropleth"
           }
          ],
          "contour": [
           {
            "colorbar": {
             "outlinewidth": 0,
             "ticks": ""
            },
            "colorscale": [
             [
              0,
              "#0d0887"
             ],
             [
              0.1111111111111111,
              "#46039f"
             ],
             [
              0.2222222222222222,
              "#7201a8"
             ],
             [
              0.3333333333333333,
              "#9c179e"
             ],
             [
              0.4444444444444444,
              "#bd3786"
             ],
             [
              0.5555555555555556,
              "#d8576b"
             ],
             [
              0.6666666666666666,
              "#ed7953"
             ],
             [
              0.7777777777777778,
              "#fb9f3a"
             ],
             [
              0.8888888888888888,
              "#fdca26"
             ],
             [
              1,
              "#f0f921"
             ]
            ],
            "type": "contour"
           }
          ],
          "contourcarpet": [
           {
            "colorbar": {
             "outlinewidth": 0,
             "ticks": ""
            },
            "type": "contourcarpet"
           }
          ],
          "heatmap": [
           {
            "colorbar": {
             "outlinewidth": 0,
             "ticks": ""
            },
            "colorscale": [
             [
              0,
              "#0d0887"
             ],
             [
              0.1111111111111111,
              "#46039f"
             ],
             [
              0.2222222222222222,
              "#7201a8"
             ],
             [
              0.3333333333333333,
              "#9c179e"
             ],
             [
              0.4444444444444444,
              "#bd3786"
             ],
             [
              0.5555555555555556,
              "#d8576b"
             ],
             [
              0.6666666666666666,
              "#ed7953"
             ],
             [
              0.7777777777777778,
              "#fb9f3a"
             ],
             [
              0.8888888888888888,
              "#fdca26"
             ],
             [
              1,
              "#f0f921"
             ]
            ],
            "type": "heatmap"
           }
          ],
          "heatmapgl": [
           {
            "colorbar": {
             "outlinewidth": 0,
             "ticks": ""
            },
            "colorscale": [
             [
              0,
              "#0d0887"
             ],
             [
              0.1111111111111111,
              "#46039f"
             ],
             [
              0.2222222222222222,
              "#7201a8"
             ],
             [
              0.3333333333333333,
              "#9c179e"
             ],
             [
              0.4444444444444444,
              "#bd3786"
             ],
             [
              0.5555555555555556,
              "#d8576b"
             ],
             [
              0.6666666666666666,
              "#ed7953"
             ],
             [
              0.7777777777777778,
              "#fb9f3a"
             ],
             [
              0.8888888888888888,
              "#fdca26"
             ],
             [
              1,
              "#f0f921"
             ]
            ],
            "type": "heatmapgl"
           }
          ],
          "histogram": [
           {
            "marker": {
             "colorbar": {
              "outlinewidth": 0,
              "ticks": ""
             }
            },
            "type": "histogram"
           }
          ],
          "histogram2d": [
           {
            "colorbar": {
             "outlinewidth": 0,
             "ticks": ""
            },
            "colorscale": [
             [
              0,
              "#0d0887"
             ],
             [
              0.1111111111111111,
              "#46039f"
             ],
             [
              0.2222222222222222,
              "#7201a8"
             ],
             [
              0.3333333333333333,
              "#9c179e"
             ],
             [
              0.4444444444444444,
              "#bd3786"
             ],
             [
              0.5555555555555556,
              "#d8576b"
             ],
             [
              0.6666666666666666,
              "#ed7953"
             ],
             [
              0.7777777777777778,
              "#fb9f3a"
             ],
             [
              0.8888888888888888,
              "#fdca26"
             ],
             [
              1,
              "#f0f921"
             ]
            ],
            "type": "histogram2d"
           }
          ],
          "histogram2dcontour": [
           {
            "colorbar": {
             "outlinewidth": 0,
             "ticks": ""
            },
            "colorscale": [
             [
              0,
              "#0d0887"
             ],
             [
              0.1111111111111111,
              "#46039f"
             ],
             [
              0.2222222222222222,
              "#7201a8"
             ],
             [
              0.3333333333333333,
              "#9c179e"
             ],
             [
              0.4444444444444444,
              "#bd3786"
             ],
             [
              0.5555555555555556,
              "#d8576b"
             ],
             [
              0.6666666666666666,
              "#ed7953"
             ],
             [
              0.7777777777777778,
              "#fb9f3a"
             ],
             [
              0.8888888888888888,
              "#fdca26"
             ],
             [
              1,
              "#f0f921"
             ]
            ],
            "type": "histogram2dcontour"
           }
          ],
          "mesh3d": [
           {
            "colorbar": {
             "outlinewidth": 0,
             "ticks": ""
            },
            "type": "mesh3d"
           }
          ],
          "parcoords": [
           {
            "line": {
             "colorbar": {
              "outlinewidth": 0,
              "ticks": ""
             }
            },
            "type": "parcoords"
           }
          ],
          "pie": [
           {
            "automargin": true,
            "type": "pie"
           }
          ],
          "scatter": [
           {
            "marker": {
             "colorbar": {
              "outlinewidth": 0,
              "ticks": ""
             }
            },
            "type": "scatter"
           }
          ],
          "scatter3d": [
           {
            "line": {
             "colorbar": {
              "outlinewidth": 0,
              "ticks": ""
             }
            },
            "marker": {
             "colorbar": {
              "outlinewidth": 0,
              "ticks": ""
             }
            },
            "type": "scatter3d"
           }
          ],
          "scattercarpet": [
           {
            "marker": {
             "colorbar": {
              "outlinewidth": 0,
              "ticks": ""
             }
            },
            "type": "scattercarpet"
           }
          ],
          "scattergeo": [
           {
            "marker": {
             "colorbar": {
              "outlinewidth": 0,
              "ticks": ""
             }
            },
            "type": "scattergeo"
           }
          ],
          "scattergl": [
           {
            "marker": {
             "colorbar": {
              "outlinewidth": 0,
              "ticks": ""
             }
            },
            "type": "scattergl"
           }
          ],
          "scattermapbox": [
           {
            "marker": {
             "colorbar": {
              "outlinewidth": 0,
              "ticks": ""
             }
            },
            "type": "scattermapbox"
           }
          ],
          "scatterpolar": [
           {
            "marker": {
             "colorbar": {
              "outlinewidth": 0,
              "ticks": ""
             }
            },
            "type": "scatterpolar"
           }
          ],
          "scatterpolargl": [
           {
            "marker": {
             "colorbar": {
              "outlinewidth": 0,
              "ticks": ""
             }
            },
            "type": "scatterpolargl"
           }
          ],
          "scatterternary": [
           {
            "marker": {
             "colorbar": {
              "outlinewidth": 0,
              "ticks": ""
             }
            },
            "type": "scatterternary"
           }
          ],
          "surface": [
           {
            "colorbar": {
             "outlinewidth": 0,
             "ticks": ""
            },
            "colorscale": [
             [
              0,
              "#0d0887"
             ],
             [
              0.1111111111111111,
              "#46039f"
             ],
             [
              0.2222222222222222,
              "#7201a8"
             ],
             [
              0.3333333333333333,
              "#9c179e"
             ],
             [
              0.4444444444444444,
              "#bd3786"
             ],
             [
              0.5555555555555556,
              "#d8576b"
             ],
             [
              0.6666666666666666,
              "#ed7953"
             ],
             [
              0.7777777777777778,
              "#fb9f3a"
             ],
             [
              0.8888888888888888,
              "#fdca26"
             ],
             [
              1,
              "#f0f921"
             ]
            ],
            "type": "surface"
           }
          ],
          "table": [
           {
            "cells": {
             "fill": {
              "color": "#EBF0F8"
             },
             "line": {
              "color": "white"
             }
            },
            "header": {
             "fill": {
              "color": "#C8D4E3"
             },
             "line": {
              "color": "white"
             }
            },
            "type": "table"
           }
          ]
         },
         "layout": {
          "annotationdefaults": {
           "arrowcolor": "#2a3f5f",
           "arrowhead": 0,
           "arrowwidth": 1
          },
          "coloraxis": {
           "colorbar": {
            "outlinewidth": 0,
            "ticks": ""
           }
          },
          "colorscale": {
           "diverging": [
            [
             0,
             "#8e0152"
            ],
            [
             0.1,
             "#c51b7d"
            ],
            [
             0.2,
             "#de77ae"
            ],
            [
             0.3,
             "#f1b6da"
            ],
            [
             0.4,
             "#fde0ef"
            ],
            [
             0.5,
             "#f7f7f7"
            ],
            [
             0.6,
             "#e6f5d0"
            ],
            [
             0.7,
             "#b8e186"
            ],
            [
             0.8,
             "#7fbc41"
            ],
            [
             0.9,
             "#4d9221"
            ],
            [
             1,
             "#276419"
            ]
           ],
           "sequential": [
            [
             0,
             "#0d0887"
            ],
            [
             0.1111111111111111,
             "#46039f"
            ],
            [
             0.2222222222222222,
             "#7201a8"
            ],
            [
             0.3333333333333333,
             "#9c179e"
            ],
            [
             0.4444444444444444,
             "#bd3786"
            ],
            [
             0.5555555555555556,
             "#d8576b"
            ],
            [
             0.6666666666666666,
             "#ed7953"
            ],
            [
             0.7777777777777778,
             "#fb9f3a"
            ],
            [
             0.8888888888888888,
             "#fdca26"
            ],
            [
             1,
             "#f0f921"
            ]
           ],
           "sequentialminus": [
            [
             0,
             "#0d0887"
            ],
            [
             0.1111111111111111,
             "#46039f"
            ],
            [
             0.2222222222222222,
             "#7201a8"
            ],
            [
             0.3333333333333333,
             "#9c179e"
            ],
            [
             0.4444444444444444,
             "#bd3786"
            ],
            [
             0.5555555555555556,
             "#d8576b"
            ],
            [
             0.6666666666666666,
             "#ed7953"
            ],
            [
             0.7777777777777778,
             "#fb9f3a"
            ],
            [
             0.8888888888888888,
             "#fdca26"
            ],
            [
             1,
             "#f0f921"
            ]
           ]
          },
          "colorway": [
           "#636efa",
           "#EF553B",
           "#00cc96",
           "#ab63fa",
           "#FFA15A",
           "#19d3f3",
           "#FF6692",
           "#B6E880",
           "#FF97FF",
           "#FECB52"
          ],
          "font": {
           "color": "#2a3f5f"
          },
          "geo": {
           "bgcolor": "white",
           "lakecolor": "white",
           "landcolor": "#E5ECF6",
           "showlakes": true,
           "showland": true,
           "subunitcolor": "white"
          },
          "hoverlabel": {
           "align": "left"
          },
          "hovermode": "closest",
          "mapbox": {
           "style": "light"
          },
          "paper_bgcolor": "white",
          "plot_bgcolor": "#E5ECF6",
          "polar": {
           "angularaxis": {
            "gridcolor": "white",
            "linecolor": "white",
            "ticks": ""
           },
           "bgcolor": "#E5ECF6",
           "radialaxis": {
            "gridcolor": "white",
            "linecolor": "white",
            "ticks": ""
           }
          },
          "scene": {
           "xaxis": {
            "backgroundcolor": "#E5ECF6",
            "gridcolor": "white",
            "gridwidth": 2,
            "linecolor": "white",
            "showbackground": true,
            "ticks": "",
            "zerolinecolor": "white"
           },
           "yaxis": {
            "backgroundcolor": "#E5ECF6",
            "gridcolor": "white",
            "gridwidth": 2,
            "linecolor": "white",
            "showbackground": true,
            "ticks": "",
            "zerolinecolor": "white"
           },
           "zaxis": {
            "backgroundcolor": "#E5ECF6",
            "gridcolor": "white",
            "gridwidth": 2,
            "linecolor": "white",
            "showbackground": true,
            "ticks": "",
            "zerolinecolor": "white"
           }
          },
          "shapedefaults": {
           "line": {
            "color": "#2a3f5f"
           }
          },
          "ternary": {
           "aaxis": {
            "gridcolor": "white",
            "linecolor": "white",
            "ticks": ""
           },
           "baxis": {
            "gridcolor": "white",
            "linecolor": "white",
            "ticks": ""
           },
           "bgcolor": "#E5ECF6",
           "caxis": {
            "gridcolor": "white",
            "linecolor": "white",
            "ticks": ""
           }
          },
          "title": {
           "x": 0.05
          },
          "xaxis": {
           "automargin": true,
           "gridcolor": "white",
           "linecolor": "white",
           "ticks": "",
           "title": {
            "standoff": 15
           },
           "zerolinecolor": "white",
           "zerolinewidth": 2
          },
          "yaxis": {
           "automargin": true,
           "gridcolor": "white",
           "linecolor": "white",
           "ticks": "",
           "title": {
            "standoff": 15
           },
           "zerolinecolor": "white",
           "zerolinewidth": 2
          }
         }
        }
       }
      },
      "text/html": [
       "<div>\n",
       "        \n",
       "        \n",
       "            <div id=\"3696dcbe-be6a-4aed-9cc5-8165cef322ca\" class=\"plotly-graph-div\" style=\"height:525px; width:100%;\"></div>\n",
       "            <script type=\"text/javascript\">\n",
       "                require([\"plotly\"], function(Plotly) {\n",
       "                    window.PLOTLYENV=window.PLOTLYENV || {};\n",
       "                    \n",
       "                if (document.getElementById(\"3696dcbe-be6a-4aed-9cc5-8165cef322ca\")) {\n",
       "                    Plotly.newPlot(\n",
       "                        '3696dcbe-be6a-4aed-9cc5-8165cef322ca',\n",
       "                        [{\"geo\": \"geo\", \"hoverlabel\": {\"namelength\": 0}, \"hovertemplate\": \"<b>%{hovertext}</b><br><br>sick=%{marker.size}<br>lat=%{lat}<br>lon=%{lon}<br>per 1000=%{marker.color}\", \"hovertext\": [\"At:\\n\\u05d9\\u05e8\\u05d5\\u05e9\\u05dc\\u05d9\\u05dd\\nSick: 1630\\nPopulation: 914559\\nPer 1000: 1.7822797654388618\", \"At:\\n\\u05d1\\u05e0\\u05d9 \\u05d1\\u05e8\\u05e7\\nSick: 1594\\nPopulation: 195298\\nPer 1000: 8.161885938412068\", \"At:\\n\\u05ea\\u05dc \\u05d0\\u05d1\\u05d9\\u05d1 - \\u05d9\\u05e4\\u05d5\\nSick: 415\\nPopulation: 450192\\nPer 1000: 0.9218289085545722\", \"At:\\n\\u05d0\\u05e9\\u05e7\\u05dc\\u05d5\\u05df\\nSick: 216\\nPopulation: 139032\\nPer 1000: 1.5535991714137751\", \"At:\\n\\u05d0\\u05dc\\u05e2\\u05d3\\nSick: 215\\nPopulation: 46760\\nPer 1000: 4.597946963216424\", \"At:\\n\\u05e4\\u05ea\\u05d7 \\u05ea\\u05e7\\u05d5\\u05d5\\u05d4\\nSick: 190\\nPopulation: 242478\\nPer 1000: 0.7835762419683435\", \"At:\\n\\u05e8\\u05d0\\u05e9\\u05d5\\u05df \\u05dc\\u05e6\\u05d9\\u05d5\\u05df\\nSick: 180\\nPopulation: 241010\\nPer 1000: 0.7468569768889258\", \"At:\\n\\u05de\\u05d5\\u05d3\\u05d9\\u05e2\\u05d9\\u05df \\u05e2\\u05d9\\u05dc\\u05d9\\u05ea\\nSick: 174\\nPopulation: 73808\\nPer 1000: 2.357468025146326\", \"At:\\n\\u05d1\\u05d9\\u05ea \\u05e9\\u05de\\u05e9\\nSick: 169\\nPopulation: 120812\\nPer 1000: 1.3988676621527663\", \"At:\\n\\u05d0\\u05e9\\u05d3\\u05d5\\u05d3\\nSick: 160\\nPopulation: 225073\\nPer 1000: 0.7108804698919905\", \"At:\\n\\u05e0\\u05ea\\u05e0\\u05d9\\u05d4\\nSick: 149\\nPopulation: 213971\\nPer 1000: 0.6963560482495291\", \"At:\\n\\u05d7\\u05d5\\u05dc\\u05d5\\u05df\\nSick: 128\\nPopulation: 185741\\nPer 1000: 0.6891316402948192\", \"At:\\n\\u05d1\\u05d0\\u05e8 \\u05e9\\u05d1\\u05e2\\nSick: 127\\nPopulation: 196755\\nPer 1000: 0.6454727961169983\", \"At:\\n\\u05e8\\u05de\\u05ea \\u05d2\\u05df\\nSick: 126\\nPopulation: 143370\\nPer 1000: 0.8788449466415569\", \"At:\\n\\u05d8\\u05d1\\u05e8\\u05d9\\u05d4\\nSick: 119\\nPopulation: 44353\\nPer 1000: 2.6830203142966655\", \"At:\\n\\u05d7\\u05d9\\u05e4\\u05d4\\nSick: 118\\nPopulation: 272584\\nPer 1000: 0.4328940803568808\", \"At:\\n\\u05d1\\u05ea \\u05d9\\u05dd\\nSick: 114\\nPopulation: 130523\\nPer 1000: 0.8734092841874612\", \"At:\\n\\u05de\\u05d5\\u05d3\\u05d9\\u05e2\\u05d9\\u05df-\\u05de\\u05db\\u05d1\\u05d9\\u05dd-\\u05e8\\u05e2\\u05d5\\u05ea\\nSick: 112\\nPopulation: 87108\\nPer 1000: 1.2857602057216329\", \"At:\\n\\u05d1\\u05d9\\u05ea\\u05e8 \\u05e2\\u05d9\\u05dc\\u05d9\\u05ea\\nSick: 103\\nPopulation: 59240\\nPer 1000: 1.7386900742741391\", \"At:\\n\\u05d0\\u05d5\\u05e8 \\u05d9\\u05d4\\u05d5\\u05d3\\u05d4\\nSick: 102\\nPopulation: 34843\\nPer 1000: 2.9274172717619034\", \"At:\\n\\u05de\\u05d2\\u05d3\\u05dc \\u05d4\\u05e2\\u05de\\u05e7\\nSick: 92\\nPopulation: 26058\\nPer 1000: 3.530585616701205\", \"At:\\n\\u05d4\\u05e8\\u05e6\\u05dc\\u05d9\\u05d4\\nSick: 85\\nPopulation: 90900\\nPer 1000: 0.9350935093509352\", \"At:\\n\\u05e8\\u05e2\\u05e0\\u05e0\\u05d4\\nSick: 83\\nPopulation: 73979\\nPer 1000: 1.1219400100028387\", \"At:\\n\\u05e8\\u05d7\\u05d5\\u05d1\\u05d5\\u05ea\\nSick: 80\\nPopulation: 137178\\nPer 1000: 0.5831838924608903\", \"At:\\n\\u05d0\\u05e4\\u05e8\\u05ea\\nSick: 64\\nPopulation: 10676\\nPer 1000: 5.994754589733983\", \"At:\\n\\u05d9\\u05d4\\u05d5\\u05d3-\\u05de\\u05d5\\u05e0\\u05d5\\u05e1\\u05d5\\u05df\\nSick: 63\\nPopulation: 29104\\nPer 1000: 2.1646509070918087\", \"At:\\n\\u05db\\u05e4\\u05e8 \\u05e1\\u05d1\\u05d0\\nSick: 63\\nPopulation: 97412\\nPer 1000: 0.6467375682667433\", \"At:\\n\\u05e2\\u05e4\\u05d5\\u05dc\\u05d4\\nSick: 54\\nPopulation: 50886\\nPer 1000: 1.0611956137247966\", \"At:\\n\\u05dc\\u05d5\\u05d3\\nSick: 52\\nPopulation: 75038\\nPer 1000: 0.6929822223406806\", \"At:\\n\\u05e6\\u05e4\\u05ea\\nSick: 48\\nPopulation: 35671\\nPer 1000: 1.3456309046564434\", \"At:\\n\\u05e8\\u05de\\u05dc\\u05d4\\nSick: 48\\nPopulation: 75246\\nPer 1000: 0.6379076628658001\", \"At:\\n\\u05e7\\u05e8\\u05d9\\u05ea \\u05d0\\u05d5\\u05e0\\u05d5\\nSick: 46\\nPopulation: 37112\\nPer 1000: 1.2394912696701876\", \"At:\\n\\u05db\\u05e4\\u05e8 \\u05d7\\u05d1\\\"\\u05d3\\nSick: 43\\nPopulation: 6724\\nPer 1000: 6.395002974419988\", \"At:\\n\\u05db\\u05d5\\u05db\\u05d1 \\u05d9\\u05e2\\u05e7\\u05d1\\nSick: 42\\nPopulation: 8602\\nPer 1000: 4.882585445245292\", \"At:\\n\\u05e7\\u05e8\\u05d9\\u05ea \\u05de\\u05dc\\u05d0\\u05db\\u05d9\\nSick: 42\\nPopulation: 23691\\nPer 1000: 1.7728251234646069\", \"At:\\n\\u05e7\\u05e8\\u05d9\\u05ea \\u05d9\\u05e2\\u05e8\\u05d9\\u05dd\\nSick: 38\\nPopulation: 5713\\nPer 1000: 6.651496586732014\", \"At:\\n\\u05e9\\u05d5\\u05d4\\u05dd\\nSick: 35\\nPopulation: 20041\\nPer 1000: 1.7464198393293748\", \"At:\\n\\u05e8\\u05de\\u05ea \\u05d4\\u05e9\\u05e8\\u05d5\\u05df\\nSick: 34\\nPopulation: 44896\\nPer 1000: 0.7573057733428368\", \"At:\\n\\u05d4\\u05d5\\u05d3 \\u05d4\\u05e9\\u05e8\\u05d5\\u05df\\nSick: 33\\nPopulation: 59171\\nPer 1000: 0.5577056328268915\", \"At:\\n\\u05de\\u05e2\\u05dc\\u05d4 \\u05d0\\u05d3\\u05d5\\u05de\\u05d9\\u05dd\\nSick: 33\\nPopulation: 37469\\nPer 1000: 0.880728068536657\", \"At:\\n\\u05e7\\u05e8\\u05d9\\u05ea \\u05d2\\u05ea\\nSick: 32\\nPopulation: 55400\\nPer 1000: 0.5776173285198556\", \"At:\\n\\u05d2\\u05d1\\u05e2\\u05ea \\u05e9\\u05de\\u05d5\\u05d0\\u05dc\\nSick: 31\\nPopulation: 24538\\nPer 1000: 1.2633466460184204\", \"At:\\n\\u05e0\\u05ea\\u05d9\\u05d1\\u05d5\\u05ea\\nSick: 31\\nPopulation: 36511\\nPer 1000: 0.8490591876420804\", \"At:\\n\\u05e8\\u05d0\\u05e9 \\u05d4\\u05e2\\u05d9\\u05df\\nSick: 30\\nPopulation: 53965\\nPer 1000: 0.5559158713981284\", \"At:\\n\\u05d2\\u05d1\\u05e2\\u05ea\\u05d9\\u05d9\\u05dd\\nSick: 29\\nPopulation: 55123\\nPer 1000: 0.5260961848955971\", \"At:\\n\\u05d0\\u05d5\\u05e4\\u05e7\\u05d9\\u05dd\\nSick: 28\\nPopulation: 30185\\nPer 1000: 0.927613052840815\", \"At:\\n\\u05d9\\u05d1\\u05e0\\u05d4\\nSick: 28\\nPopulation: 45555\\nPer 1000: 0.6146416419712435\", \"At:\\n\\u05e8\\u05db\\u05e1\\u05d9\\u05dd\\nSick: 28\\nPopulation: 11841\\nPer 1000: 2.364665146524787\", \"At:\\n\\u05e0\\u05d4\\u05e8\\u05d9\\u05d4\\nSick: 27\\nPopulation: 58750\\nPer 1000: 0.4595744680851064\", \"At:\\n\\u05e9\\u05d3\\u05e8\\u05d5\\u05ea\\nSick: 27\\nPopulation: 25891\\nPer 1000: 1.0428334170174964\", \"At:\\n\\u05d0\\u05d6\\u05d5\\u05e8\\nSick: 26\\nPopulation: 11819\\nPer 1000: 2.199847702851341\", \"At:\\n\\u05d6\\u05db\\u05e8\\u05d5\\u05df \\u05d9\\u05e2\\u05e7\\u05d1\\nSick: 26\\nPopulation: 22341\\nPer 1000: 1.1637795980484311\", \"At:\\n\\u05db\\u05e8\\u05de\\u05d9\\u05d0\\u05dc\\nSick: 26\\nPopulation: 46596\\nPer 1000: 0.557987810112456\", \"At:\\n\\u05d2'\\u05e1\\u05e8 \\u05d0-\\u05d6\\u05e8\\u05e7\\u05d0\\nSick: 25\\nPopulation: 14732\\nPer 1000: 1.6969861525929948\", \"At:\\n\\u05d2\\u05e0\\u05d9 \\u05ea\\u05e7\\u05d5\\u05d5\\u05d4\\nSick: 25\\nPopulation: 18930\\nPer 1000: 1.3206550449022716\", \"At:\\n\\u05d3\\u05d9\\u05de\\u05d5\\u05e0\\u05d4\\nSick: 25\\nPopulation: 35377\\nPer 1000: 0.70667382762812\", \"At:\\n\\u05d7\\u05d3\\u05e8\\u05d4\\nSick: 25\\nPopulation: 94104\\nPer 1000: 0.2656635212105755\", \"At:\\n\\u05d0\\u05d1\\u05df \\u05d9\\u05d4\\u05d5\\u05d3\\u05d4\\nSick: 24\\nPopulation: 13263\\nPer 1000: 1.8095453517303777\", \"At:\\n\\u05e0\\u05d5\\u05e3 \\u05d4\\u05d2\\u05dc\\u05d9\\u05dc\\nSick: 24\\nPopulation: 43811\\nPer 1000: 0.547807628221223\", \"At:\\n\\u05d2\\u05df \\u05d9\\u05d1\\u05e0\\u05d4\\nSick: 23\\nPopulation: 22410\\nPer 1000: 1.0263275323516288\", \"At:\\n\\u05d0\\u05d5\\u05dd \\u05d0\\u05dc-\\u05e4\\u05d7\\u05dd\\nSick: 22\\nPopulation: 55324\\nPer 1000: 0.39765743619405686\", \"At:\\n\\u05d2\\u05d3\\u05e8\\u05d4\\nSick: 21\\nPopulation: 24633\\nPer 1000: 0.8525149190110827\", \"At:\\n\\u05e7\\u05e8\\u05d9\\u05ea \\u05d9\\u05dd\\nSick: 21\\nPopulation: 39556\\nPer 1000: 0.5308929113156032\", \"At:\\n\\u05d1\\u05d0\\u05e8 \\u05d9\\u05e2\\u05e7\\u05d1\\nSick: 17\\nPopulation: 24216\\nPer 1000: 0.702015196564255\", \"At:\\n\\u05d2\\u05d1\\u05e2\\u05ea \\u05d6\\u05d0\\u05d1\\nSick: 17\\nPopulation: 18510\\nPer 1000: 0.9184224743381956\", \"At:\\n\\u05e7\\u05e8\\u05d9\\u05ea \\u05d0\\u05ea\\u05d0\\nSick: 17\\nPopulation: 57108\\nPer 1000: 0.29768158576731807\", \"At:\\n\\u05d3\\u05d1\\u05d5\\u05e8\\u05d9\\u05d4\\nSick: 16\\nPopulation: 10414\\nPer 1000: 1.5363933166890724\", \"At:\\n\\u05e2\\u05db\\u05d5\\nSick: 16\\nPopulation: 50872\\nPer 1000: 0.3145148608271741\", \"At:\\n\\u05d8\\u05de\\u05e8\\u05d4\\nSick: 15\\nPopulation: 33792\\nPer 1000: 0.4438920454545454\", \"At:\\n\\u05e0\\u05e1 \\u05e6\\u05d9\\u05d5\\u05e0\\u05d4\\nSick: 15\\nPopulation: 45714\\nPer 1000: 0.32812705079406745\", \"At:\\n\\u05d0\\u05d9\\u05dc\\u05ea\\nSick: 14\\nPopulation: 56568\\nPer 1000: 0.24748974685334468\", \"At:\\n\\u05d8\\u05d9\\u05e8\\u05ea \\u05db\\u05e8\\u05de\\u05dc\\nSick: 14\\nPopulation: 22243\\nPer 1000: 0.6294115002472688\", \"At:\\n\\u05db\\u05e4\\u05e8 \\u05d9\\u05d5\\u05e0\\u05d4\\nSick: 14\\nPopulation: 21301\\nPer 1000: 0.6572461386789353\", \"At:\\n\\u05d2'\\u05ea\\nSick: 13\\nPopulation: 11910\\nPer 1000: 1.0915197313182199\", \"At:\\n\\u05d9\\u05e7\\u05e0\\u05e2\\u05dd \\u05e2\\u05d9\\u05dc\\u05d9\\u05ea\\nSick: 13\\nPopulation: 22711\\nPer 1000: 0.5724098454493417\", \"At:\\n\\u05de\\u05d1\\u05e9\\u05e8\\u05ea \\u05e6\\u05d9\\u05d5\\u05df\\nSick: 13\\nPopulation: 23093\\nPer 1000: 0.562941150998138\", \"At:\\n\\u05e7\\u05d3\\u05d9\\u05de\\u05d4-\\u05e6\\u05d5\\u05e8\\u05df\\nSick: 13\\nPopulation: 20831\\nPer 1000: 0.6240698958283327\", \"At:\\n\\u05e7\\u05e6\\u05e8\\u05d9\\u05df\\nSick: 13\\nPopulation: 7373\\nPer 1000: 1.7631900176319002\", \"At:\\n\\u05ea\\u05dc \\u05de\\u05d5\\u05e0\\u05d3\\nSick: 13\\nPopulation: 12593\\nPer 1000: 1.0323195426030334\", \"At:\\n\\u05e2\\u05e8\\u05d3\\nSick: 12\\nPopulation: 26763\\nPer 1000: 0.44838022643201436\", \"At:\\n\\u05e7\\u05e8\\u05d9\\u05ea \\u05d0\\u05e8\\u05d1\\u05e2\\nSick: 11\\nPopulation: 7364\\nPer 1000: 1.4937533948940793\", \"At:\\n\\u05e7\\u05e8\\u05d9\\u05ea \\u05d1\\u05d9\\u05d0\\u05dc\\u05d9\\u05e7\\nSick: 11\\nPopulation: 39262\\nPer 1000: 0.28016912026896235\", \"At:\\n\\u05de\\u05d6\\u05db\\u05e8\\u05ea \\u05d1\\u05ea\\u05d9\\u05d4\\nSick: 10\\nPopulation: 14949\\nPer 1000: 0.6689410662920596\", \"At:\\n\\u05de\\u05e2\\u05dc\\u05d5\\u05ea-\\u05ea\\u05e8\\u05e9\\u05d9\\u05d7\\u05d0\\nSick: 10\\nPopulation: 22261\\nPer 1000: 0.4492161178743093\", \"At:\\n\\u05e2\\u05d5\\u05de\\u05e8\\nSick: 10\\nPopulation: 8016\\nPer 1000: 1.2475049900199602\", \"At:\\n\\u05e7\\u05e8\\u05d9\\u05ea \\u05e9\\u05de\\u05d5\\u05e0\\u05d4\\nSick: 10\\nPopulation: 22152\\nPer 1000: 0.4514265077645359\", \"At:\\n\\u05e9\\u05d1\\u05dc\\u05d9 - \\u05d0\\u05d5\\u05dd \\u05d0\\u05dc-\\u05d2\\u05e0\\u05dd\\nSick: 10\\nPopulation: 6367\\nPer 1000: 1.5705983979896339\", \"At:\\n\\u05d8\\u05d9\\u05d9\\u05d1\\u05d4\\nSick: 9\\nPopulation: 43144\\nPer 1000: 0.20860374559614314\", \"At:\\n\\u05e0\\u05e6\\u05e8\\u05ea\\nSick: 9\\nPopulation: 78252\\nPer 1000: 0.11501303481061187\", \"At:\\n\\u05d3\\u05d9\\u05d9\\u05e8 \\u05d7\\u05e0\\u05d0\\nSick: 8\\nPopulation: 10567\\nPer 1000: 0.7570739093403993\", \"At:\\n\\u05db\\u05d5\\u05db\\u05d1 \\u05d9\\u05d0\\u05d9\\u05e8\\nSick: 8\\nPopulation: 9143\\nPer 1000: 0.8749863283386198\", \"At:\\n\\u05db\\u05e1\\u05d9\\u05e4\\u05d4\\nSick: 7\\nPopulation: 16957\\nPer 1000: 0.41280886949342455\", \"At:\\n\\u05de\\u05d2\\u05d0\\u05e8\\nSick: 7\\nPopulation: 22364\\nPer 1000: 0.31300304060096584\", \"At:\\n\\u05e4\\u05e8\\u05d3\\u05e1 \\u05d7\\u05e0\\u05d4-\\u05db\\u05e8\\u05db\\u05d5\\u05e8\\nSick: 7\\nPopulation: 40622\\nPer 1000: 0.17232041750775443\", \"At:\\n\\u05e7\\u05e8\\u05d9\\u05ea \\u05de\\u05d5\\u05e6\\u05e7\\u05d9\\u05df\\nSick: 7\\nPopulation: 42870\\nPer 1000: 0.16328434802892466\", \"At:\\n\\u05e7\\u05e8\\u05d9\\u05ea \\u05e2\\u05e7\\u05e8\\u05d5\\u05df\\nSick: 7\\nPopulation: 10600\\nPer 1000: 0.6603773584905661\", \"At:\\n\\u05e8\\u05d4\\u05d8\\nSick: 7\\nPopulation: 64649\\nPer 1000: 0.10827700351126854\", \"At:\\n\\u05d0\\u05db\\u05e1\\u05d0\\u05dc\\nSick: 6\\nPopulation: 14655\\nPer 1000: 0.4094165813715455\", \"At:\\n\\u05dc\\u05d4\\u05d1\\u05d9\\u05dd\\nSick: 6\\nPopulation: 6178\\nPer 1000: 0.9711880867594691\", \"At:\\n\\u05e1\\u05d7'\\u05e0\\u05d9\\u05df\\nSick: 6\\nPopulation: 32089\\nPer 1000: 0.18697996198074107\", \"At:\\n\\u05e7\\u05e8\\u05e0\\u05d9 \\u05e9\\u05d5\\u05de\\u05e8\\u05d5\\u05df\\nSick: 6\\nPopulation: 7906\\nPer 1000: 0.7589172780166962\", \"At:\\n\\u05d0\\u05d5\\u05e8 \\u05e2\\u05e7\\u05d9\\u05d1\\u05d0\\nSick: 5\\nPopulation: 18893\\nPer 1000: 0.26464828243264704\", \"At:\\n\\u05d0\\u05dc\\u05e4\\u05d9 \\u05de\\u05e0\\u05e9\\u05d4\\nSick: 5\\nPopulation: 7771\\nPer 1000: 0.6434178355424012\", \"At:\\n\\u05d0\\u05e8\\u05d9\\u05d0\\u05dc\\nSick: 5\\nPopulation: 18251\\nPer 1000: 0.27395759136485676\", \"At:\\n\\u05d1\\u05d9\\u05e8 \\u05d0\\u05dc-\\u05de\\u05db\\u05e1\\u05d5\\u05e8\\nSick: 5\\nPopulation: 9866\\nPer 1000: 0.5067909993918508\", \"At:\\n\\u05d2\\u05d1\\u05e2 \\u05d1\\u05e0\\u05d9\\u05de\\u05d9\\u05df\\nSick: 5\\nPopulation: 5299\\nPer 1000: 0.9435742592942065\", \"At:\\n\\u05e0\\u05e9\\u05e8\\nSick: 5\\nPopulation: 22032\\nPer 1000: 0.22694262890341324\", \"At:\\n\\u05e9\\u05dc\\u05d5\\u05de\\u05d9\\nSick: 5\\nPopulation: 6478\\nPer 1000: 0.7718431614695893\", \"At:\\n\\u05d1\\u05d9\\u05ea \\u05d3\\u05d2\\u05df\\nSick: 4\\nPopulation: 6533\\nPer 1000: 0.6122761365375785\", \"At:\\n\\u05d1\\u05e0\\u05d9 \\u05e2\\u05d9\\\"\\u05e9\\nSick: 4\\nPopulation: 6837\\nPer 1000: 0.585051923358198\", \"At:\\n\\u05d7\\u05e8\\u05d9\\u05e9\\nSick: 4\\nPopulation: 8737\\nPer 1000: 0.4578230513906375\", \"At:\\n\\u05db\\u05e4\\u05e8 \\u05e7\\u05d0\\u05e1\\u05dd\\nSick: 4\\nPopulation: 23517\\nPer 1000: 0.1700897223285283\", \"At:\\n\\u05de\\u05e2\\u05dc\\u05d4 \\u05e2\\u05d9\\u05e8\\u05d5\\u05df\\nSick: 4\\nPopulation: 14861\\nPer 1000: 0.26916089092254897\", \"At:\\n\\u05e6\\u05d5\\u05e8 \\u05d4\\u05d3\\u05e1\\u05d4\\nSick: 4\\nPopulation: 7856\\nPer 1000: 0.5091649694501018\", \"At:\\n\\u05e6\\u05d5\\u05e8 \\u05d9\\u05e6\\u05d7\\u05e7\\nSick: 4\\nPopulation: 5954\\nPer 1000: 0.6718172657037286\", \"At:\\n\\u05d1\\u05d9\\u05ea \\u05d0\\u05dc\\nSick: 3\\nPopulation: 5767\\nPer 1000: 0.5202011444425179\", \"At:\\n\\u05d2'\\u05dc\\u05d2'\\u05d5\\u05dc\\u05d9\\u05d4\\nSick: 3\\nPopulation: 10011\\nPer 1000: 0.2996703626011388\", \"At:\\n\\u05d8\\u05d9\\u05e8\\u05d4\\nSick: 3\\nPopulation: 26184\\nPer 1000: 0.11457378551787352\", \"At:\\n\\u05d9\\u05e4\\u05d9\\u05e2\\nSick: 3\\nPopulation: 19056\\nPer 1000: 0.1574307304785894\", \"At:\\n\\u05de\\u05d9\\u05ea\\u05e8\\nSick: 3\\nPopulation: 9043\\nPer 1000: 0.3317483136127391\", \"At:\\n\\u05e2\\u05d9\\u05d9\\u05dc\\u05d1\\u05d5\\u05df\\nSick: 3\\nPopulation: 5677\\nPer 1000: 0.5284481240091597\", \"At:\\n\\u05e2\\u05d9\\u05df \\u05de\\u05d0\\u05d4\\u05dc\\nSick: 3\\nPopulation: 13388\\nPer 1000: 0.224081266806095\", \"At:\\n\\u05d0\\u05d5\\u05e8\\u05e0\\u05d9\\u05ea\\nSick: 2\\nPopulation: 8822\\nPer 1000: 0.22670596236681023\", \"At:\\n\\u05d1\\u05d5\\u05e2\\u05d9\\u05d9\\u05e0\\u05d4-\\u05e0\\u05d5\\u05d2'\\u05d9\\u05d3\\u05d0\\u05ea\\nSick: 2\\nPopulation: 9974\\nPer 1000: 0.20052135552436334\", \"At:\\n\\u05d1\\u05d5\\u05e7\\u05e2\\u05d0\\u05ea\\u05d0\\nSick: 2\\nPopulation: 6586\\nPer 1000: 0.3036744609778318\", \"At:\\n\\u05d1\\u05e0\\u05d9\\u05de\\u05d9\\u05e0\\u05d4-\\u05d2\\u05d1\\u05e2\\u05ea \\u05e2\\u05d3\\u05d4\\nSick: 2\\nPopulation: 14383\\nPer 1000: 0.13905304873809357\", \"At:\\n\\u05d1\\u05e1\\u05de\\\"\\u05d4\\nSick: 2\\nPopulation: 10532\\nPer 1000: 0.189897455374098\", \"At:\\n\\u05d1\\u05e1\\u05de\\u05ea \\u05d8\\u05d1\\u05e2\\u05d5\\u05df\\nSick: 2\\nPopulation: 7833\\nPer 1000: 0.25533001404315075\", \"At:\\n\\u05d2'\\u05d3\\u05d9\\u05d9\\u05d3\\u05d4-\\u05de\\u05db\\u05e8\\nSick: 2\\nPopulation: 20524\\nPer 1000: 0.09744689144416292\", \"At:\\n\\u05d2'\\u05d5\\u05dc\\u05e1\\nSick: 2\\nPopulation: 6147\\nPer 1000: 0.32536196518626975\", \"At:\\n\\u05d7\\u05e6\\u05d5\\u05e8 \\u05d4\\u05d2\\u05dc\\u05d9\\u05dc\\u05d9\\u05ea\\nSick: 2\\nPopulation: 9722\\nPer 1000: 0.20571898786257972\", \"At:\\n\\u05db\\u05e4\\u05e8 \\u05d5\\u05e8\\u05d3\\u05d9\\u05dd\\nSick: 2\\nPopulation: 5599\\nPer 1000: 0.3572066440435792\", \"At:\\n\\u05db\\u05e4\\u05e8 \\u05d9\\u05d0\\u05e1\\u05d9\\u05e3\\nSick: 2\\nPopulation: 10577\\nPer 1000: 0.18908953389429894\", \"At:\\n\\u05db\\u05e4\\u05e8 \\u05db\\u05e0\\u05d0\\nSick: 2\\nPopulation: 22449\\nPer 1000: 0.08909082809924718\", \"At:\\n\\u05db\\u05e4\\u05e8 \\u05e7\\u05e8\\u05e2\\nSick: 2\\nPopulation: 18820\\nPer 1000: 0.10626992561105207\", \"At:\\n\\u05e2\\u05ea\\u05dc\\u05d9\\u05ea\\nSick: 2\\nPopulation: 7442\\nPer 1000: 0.26874496103198064\", \"At:\\n\\u05e7\\u05e8\\u05d9\\u05ea \\u05d8\\u05d1\\u05e2\\u05d5\\u05df\\nSick: 2\\nPopulation: 15831\\nPer 1000: 0.12633440717579433\", \"At:\\n\\u05e8\\u05de\\u05ea \\u05d9\\u05e9\\u05d9\\nSick: 2\\nPopulation: 7236\\nPer 1000: 0.27639579878385845\", \"At:\\n\\u05e9\\u05e4\\u05e8\\u05e2\\u05dd\\nSick: 2\\nPopulation: 40666\\nPer 1000: 0.049181134116952734\", \"At:\\n\\u05d0\\u05d1\\u05d5 \\u05d2\\u05d5\\u05e9\\nSick: 1\\nPopulation: 7792\\nPer 1000: 0.12833675564681726\", \"At:\\n\\u05d1\\u05e2\\u05e0\\u05d4\\nSick: 1\\nPopulation: 8355\\nPer 1000: 0.11968880909634949\", \"At:\\n\\u05d1\\u05ea \\u05d7\\u05e4\\u05e8\\nSick: 1\\nPopulation: 5124\\nPer 1000: 0.195160031225605\", \"At:\\n\\u05d6\\u05de\\u05e8\\nSick: 1\\nPopulation: 6926\\nPer 1000: 0.14438348252959862\", \"At:\\n\\u05d7\\u05d5\\u05e8\\u05e4\\u05d9\\u05e9\\nSick: 1\\nPopulation: 6288\\nPer 1000: 0.15903307888040713\", \"At:\\n\\u05d8\\u05d5\\u05d1\\u05d0-\\u05d6\\u05e0\\u05d2\\u05e8\\u05d9\\u05d4\\nSick: 1\\nPopulation: 6648\\nPer 1000: 0.15042117930204574\", \"At:\\n\\u05d9\\u05e8\\u05d5\\u05d7\\u05dd\\nSick: 1\\nPopulation: 10126\\nPer 1000: 0.09875567845151097\", \"At:\\n\\u05de\\u05d2'\\u05d3\\u05dc \\u05e9\\u05de\\u05e1\\nSick: 1\\nPopulation: 11089\\nPer 1000: 0.09017945711966814\", \"At:\\n\\u05e0\\u05d7\\u05e3\\nSick: 1\\nPopulation: 13167\\nPer 1000: 0.075947444368497\", \"At:\\n\\u05e2\\u05e8\\u05d0\\u05d1\\u05d4\\nSick: 1\\nPopulation: 25876\\nPer 1000: 0.038645849435770596\", \"At:\\n\\u05e2\\u05e8\\u05e2\\u05e8\\u05d4-\\u05d1\\u05e0\\u05d2\\u05d1\\nSick: 1\\nPopulation: 17465\\nPer 1000: 0.0572573718866304\", \"At:\\n\\u05e4\\u05e8\\u05d3\\u05e1\\u05d9\\u05d4\\nSick: 1\\nPopulation: 6027\\nPer 1000: 0.16592002654720425\", \"At:\\n\\u05e7\\u05d9\\u05e1\\u05e8\\u05d9\\u05d4\\nSick: 1\\nPopulation: 5272\\nPer 1000: 0.18968133535660092\", \"At:\\n\\u05e7\\u05dc\\u05e0\\u05e1\\u05d5\\u05d5\\u05d4\\nSick: 1\\nPopulation: 22740\\nPer 1000: 0.04397537379067722\", \"At:\\n\\u05e9\\u05e2\\u05e8\\u05d9 \\u05ea\\u05e7\\u05d5\\u05d5\\u05d4\\nSick: 1\\nPopulation: 5584\\nPer 1000: 0.17908309455587393\", \"At:\\n\\u05ea\\u05dc \\u05e9\\u05d1\\u05e2\\nSick: 1\\nPopulation: 19850\\nPer 1000: 0.05037783375314862\"], \"lat\": [\"31.778345\", \"32.0873899\", \"32.0804808\", \"31.6644874\", \"32.0495306\", \"32.0877639\", \"31.9635712\", \"31.9324487\", \"31.746214\", \"31.7977314\", \"32.3286181\", \"32.0193121\", \"31.2525238\", \"32.0686867\", \"32.7938522\", \"32.8191218\", \"32.0154565\", \"31.9085744\", \"31.699222650000003\", \"32.0309712\", \"32.6765744\", \"32.1720339\", \"32.1862752\", \"31.8952532\", \"31.6536462\", \"32.0331756\", \"32.1773471\", \"32.6075587\", \"31.9489012\", \"32.9646301\", \"31.9279988\", \"32.0581907\", \"31.9907676\", \"31.8814286\", \"31.7314672\", \"31.8035128\", \"32.0004845\", \"32.1431276\", \"32.1561974\", \"31.7705643\", \"31.6093998\", \"32.0769463\", \"31.4213546\", \"32.0952929\", \"32.0729606\", \"31.3125831\", \"31.8768863\", \"32.7509558\", \"33.006306\", \"31.526474\", \"32.0282087\", \"32.5711587\", \"32.9159104\", \"32.5375618\", \"32.0604256\", \"31.0686612\", \"32.43699\", \"32.2724852\", \"32.7023065\", \"31.787109\", \"32.5158385\", \"31.8117747\", \"32.86217705\", \"31.9443532\", \"31.8623329\", \"32.8115779\", \"32.6927785\", \"32.9281731\", \"32.8534876\", \"31.9295577\", \"29.5569348\", \"32.7613834\", \"32.314504\", \"32.3293809\", \"32.655224849999996\", \"31.8057198\", \"32.281965650000004\", \"32.9920262\", \"32.2536471\", \"31.2612199\", \"31.5277619\", \"32.842034\", \"31.8514378\", \"33.0157394\", \"31.2659365\", \"33.2074733\", \"32.6758493\", \"32.2671249\", \"32.7066301\", \"32.767822\", \"32.22014095\", \"31.2465374\", \"38.6115892\", \"32.475041\", \"32.84456165\", \"31.8607858\", \"31.3932933\", \"32.6815837\", \"31.3703233\", \"32.8638052\", \"32.1714785\", \"32.5090151\", \"32.1730798\", \"32.1060817\", \"32.7756653\", \"31.8503299\", \"32.7708797\", \"33.0760504\", \"32.0004347\", \"31.7891954\", \"32.4616062\", \"32.1139357\", \"32.5494975\", \"31.7156945\", \"32.24124\", \"31.9420729\", \"32.149177800000004\", \"32.2346856\", \"32.6854269\", \"31.3270854\", \"32.838349\", \"32.7233235\", \"32.1309209\", \"32.8056259\", \"33.20076\", \"32.52568875\", \"32.53230915\", \"32.7362276\", \"32.9295224\", \"32.9430618\", \"32.9791697\", \"32.9972507\", \"32.9533067\", \"32.7449001\", \"32.5029914\", \"32.690712\", \"32.70818545\", \"32.701698\", \"32.8045765\", \"31.806353\", \"32.92773\", \"32.3331192\", \"32.36220995\", \"33.01737\", \"32.9663198\", \"30.9888033\", \"33.2684288\", \"32.9345686\", \"32.8486132\", \"31.1581694\", \"32.3056651\", \"38.7225274\", \"32.2848603\", \"32.0930458\", \"31.2456487\"], \"legendgroup\": \"\", \"locationmode\": \"country names\", \"lon\": [\"35.2250786\", \"34.8324376\", \"34.7805274\", \"34.5730157\", \"34.9507087\", \"34.8859985\", \"34.8101149\", \"35.0433428\", \"34.9886825\", \"34.6529922\", \"34.8566246\", \"34.7804076\", \"34.7905787\", \"34.8246812\", \"35.5328566\", \"34.9983856\", \"34.7505283\", \"35.0069297\", \"35.10483926101966\", \"34.8523936\", \"35.2413237\", \"34.83099838250153\", \"34.8692427\", \"34.8105616\", \"35.1508714\", \"34.8907527\", \"34.907459\", \"35.2890861\", \"34.8884857\", \"35.502451\", \"34.8623473\", \"34.85824766018813\", \"34.849123\", \"35.2452887\", \"34.74348\", \"35.1012545\", \"34.9465419\", \"34.8380853\", \"34.8930354\", \"35.2987457\", \"34.7711983\", \"34.8524656\", \"34.5884252\", \"34.9533225\", \"34.8113279\", \"34.6208537\", \"34.7382974\", \"35.1013589\", \"35.0945579\", \"34.5969696\", \"34.802593\", \"34.9529966\", \"35.293429\", \"34.9132199\", \"34.8760954\", \"35.0366482\", \"34.9198258\", \"34.886767\", \"35.3183216\", \"34.7096635\", \"35.152491\", \"34.7803882\", \"35.07888809842724\", \"34.8398648\", \"35.1687498\", \"35.1163659\", \"35.3716044\", \"35.0756378\", \"35.1978748\", \"34.7990609\", \"34.9497949\", \"34.9715506\", \"34.9321169\", \"-83.1137366\", \"35.09980553528567\", \"35.152731\", \"34.91045479199278\", \"35.6877004\", \"34.9185387\", \"35.214581\", \"35.1191651\", \"35.100408081423566\", \"34.8411635\", \"35.2759666\", \"34.847616\", \"35.5707828\", \"35.3918678\", \"35.0089029\", \"35.3048161\", \"35.250779\", \"34.994418065862405\", \"35.0930574\", \"47.4479834\", \"34.9761087\", \"35.08431641851019\", \"34.823337\", \"34.7547693\", \"35.3239769\", \"34.8136886\", \"35.3023184\", \"35.0980763\", \"34.9195677\", \"35.0158426\", \"35.1851368\", \"35.2216911\", \"35.2739808\", \"35.0381249\", \"35.1485842\", \"34.8306669\", \"34.7605995\", \"35.0446899\", \"34.9760002\", \"35.15448566167521\", \"35.0948306\", \"34.9983819\", \"35.2224417\", \"34.94175420560542\", \"34.9544553\", \"35.2789052\", \"34.9384389\", \"35.39777\", \"35.352732\", \"34.9919607\", \"35.3646736\", \"35.7779892\", \"34.959703819638506\", \"35.104832753720274\", \"35.1546502\", \"35.1467427\", \"35.1869431\", \"35.543327\", \"35.2725342\", \"35.165698\", \"35.3437869\", \"35.0504995\", \"34.9422744\", \"35.13072176699177\", \"35.1668263\", \"35.1723866\", \"35.1088651\", \"35.2711176\", \"35.013631778585264\", \"35.03251314416771\", \"35.3469551\", \"35.5944243\", \"34.9250975\", \"35.769371\", \"35.31763\", \"35.3358268\", \"35.0284251\", \"34.9122678\", \"35.4874516\", \"34.9801701\", \"34.9067239225851\", \"34.8577683\"], \"marker\": {\"color\": [1.7822797654388618, 8.161885938412068, 0.9218289085545722, 1.5535991714137751, 4.597946963216424, 0.7835762419683435, 0.7468569768889258, 2.357468025146326, 1.3988676621527663, 0.7108804698919905, 0.6963560482495291, 0.6891316402948192, 0.6454727961169983, 0.8788449466415569, 2.6830203142966655, 0.4328940803568808, 0.8734092841874612, 1.2857602057216329, 1.7386900742741391, 2.9274172717619034, 3.530585616701205, 0.9350935093509352, 1.1219400100028387, 0.5831838924608903, 5.994754589733983, 2.1646509070918087, 0.6467375682667433, 1.0611956137247966, 0.6929822223406806, 1.3456309046564434, 0.6379076628658001, 1.2394912696701876, 6.395002974419988, 4.882585445245292, 1.7728251234646069, 6.651496586732014, 1.7464198393293748, 0.7573057733428368, 0.5577056328268915, 0.880728068536657, 0.5776173285198556, 1.2633466460184204, 0.8490591876420804, 0.5559158713981284, 0.5260961848955971, 0.927613052840815, 0.6146416419712435, 2.364665146524787, 0.4595744680851064, 1.0428334170174964, 2.199847702851341, 1.1637795980484311, 0.557987810112456, 1.6969861525929948, 1.3206550449022716, 0.70667382762812, 0.2656635212105755, 1.8095453517303777, 0.547807628221223, 1.0263275323516288, 0.39765743619405686, 0.8525149190110827, 0.5308929113156032, 0.702015196564255, 0.9184224743381956, 0.29768158576731807, 1.5363933166890724, 0.3145148608271741, 0.4438920454545454, 0.32812705079406745, 0.24748974685334468, 0.6294115002472688, 0.6572461386789353, 1.0915197313182199, 0.5724098454493417, 0.562941150998138, 0.6240698958283327, 1.7631900176319002, 1.0323195426030334, 0.44838022643201436, 1.4937533948940793, 0.28016912026896235, 0.6689410662920596, 0.4492161178743093, 1.2475049900199602, 0.4514265077645359, 1.5705983979896339, 0.20860374559614314, 0.11501303481061187, 0.7570739093403993, 0.8749863283386198, 0.41280886949342455, 0.31300304060096584, 0.17232041750775443, 0.16328434802892466, 0.6603773584905661, 0.10827700351126854, 0.4094165813715455, 0.9711880867594691, 0.18697996198074107, 0.7589172780166962, 0.26464828243264704, 0.6434178355424012, 0.27395759136485676, 0.5067909993918508, 0.9435742592942065, 0.22694262890341324, 0.7718431614695893, 0.6122761365375785, 0.585051923358198, 0.4578230513906375, 0.1700897223285283, 0.26916089092254897, 0.5091649694501018, 0.6718172657037286, 0.5202011444425179, 0.2996703626011388, 0.11457378551787352, 0.1574307304785894, 0.3317483136127391, 0.5284481240091597, 0.224081266806095, 0.22670596236681023, 0.20052135552436334, 0.3036744609778318, 0.13905304873809357, 0.189897455374098, 0.25533001404315075, 0.09744689144416292, 0.32536196518626975, 0.20571898786257972, 0.3572066440435792, 0.18908953389429894, 0.08909082809924718, 0.10626992561105207, 0.26874496103198064, 0.12633440717579433, 0.27639579878385845, 0.049181134116952734, 0.12833675564681726, 0.11968880909634949, 0.195160031225605, 0.14438348252959862, 0.15903307888040713, 0.15042117930204574, 0.09875567845151097, 0.09017945711966814, 0.075947444368497, 0.038645849435770596, 0.0572573718866304, 0.16592002654720425, 0.18968133535660092, 0.04397537379067722, 0.17908309455587393, 0.05037783375314862], \"coloraxis\": \"coloraxis\", \"size\": [1630, 1594, 415, 216, 215, 190, 180, 174, 169, 160, 149, 128, 127, 126, 119, 118, 114, 112, 103, 102, 92, 85, 83, 80, 64, 63, 63, 54, 52, 48, 48, 46, 43, 42, 42, 38, 35, 34, 33, 33, 32, 31, 31, 30, 29, 28, 28, 28, 27, 27, 26, 26, 26, 25, 25, 25, 25, 24, 24, 23, 22, 21, 21, 17, 17, 17, 16, 16, 15, 15, 14, 14, 14, 13, 13, 13, 13, 13, 13, 12, 11, 11, 10, 10, 10, 10, 10, 9, 9, 8, 8, 7, 7, 7, 7, 7, 7, 6, 6, 6, 6, 5, 5, 5, 5, 5, 5, 5, 4, 4, 4, 4, 4, 4, 4, 3, 3, 3, 3, 3, 3, 3, 2, 2, 2, 2, 2, 2, 2, 2, 2, 2, 2, 2, 2, 2, 2, 2, 2, 1, 1, 1, 1, 1, 1, 1, 1, 1, 1, 1, 1, 1, 1, 1, 1], \"sizemode\": \"area\", \"sizeref\": 4.075}, \"name\": \"\", \"showlegend\": false, \"type\": \"scattergeo\"}],\n",
       "                        {\"coloraxis\": {\"colorbar\": {\"title\": {\"text\": \"per 1000\"}}, \"colorscale\": [[0.0, \"#0d0887\"], [0.1111111111111111, \"#46039f\"], [0.2222222222222222, \"#7201a8\"], [0.3333333333333333, \"#9c179e\"], [0.4444444444444444, \"#bd3786\"], [0.5555555555555556, \"#d8576b\"], [0.6666666666666666, \"#ed7953\"], [0.7777777777777778, \"#fb9f3a\"], [0.8888888888888888, \"#fdca26\"], [1.0, \"#f0f921\"]]}, \"geo\": {\"center\": {\"lat\": 31.778345, \"lon\": 35.2250786}, \"countrycolor\": \"RebeccaPurple\", \"domain\": {\"x\": [0.0, 1.0], \"y\": [0.0, 1.0]}, \"projection\": {\"type\": \"natural earth\"}, \"showcountries\": true}, \"legend\": {\"itemsizing\": \"constant\", \"tracegroupgap\": 0}, \"margin\": {\"t\": 60}, \"template\": {\"data\": {\"bar\": [{\"error_x\": {\"color\": \"#2a3f5f\"}, \"error_y\": {\"color\": \"#2a3f5f\"}, \"marker\": {\"line\": {\"color\": \"#E5ECF6\", \"width\": 0.5}}, \"type\": \"bar\"}], \"barpolar\": [{\"marker\": {\"line\": {\"color\": \"#E5ECF6\", \"width\": 0.5}}, \"type\": \"barpolar\"}], \"carpet\": [{\"aaxis\": {\"endlinecolor\": \"#2a3f5f\", \"gridcolor\": \"white\", \"linecolor\": \"white\", \"minorgridcolor\": \"white\", \"startlinecolor\": \"#2a3f5f\"}, \"baxis\": {\"endlinecolor\": \"#2a3f5f\", \"gridcolor\": \"white\", \"linecolor\": \"white\", \"minorgridcolor\": \"white\", \"startlinecolor\": \"#2a3f5f\"}, \"type\": \"carpet\"}], \"choropleth\": [{\"colorbar\": {\"outlinewidth\": 0, \"ticks\": \"\"}, \"type\": \"choropleth\"}], \"contour\": [{\"colorbar\": {\"outlinewidth\": 0, \"ticks\": \"\"}, \"colorscale\": [[0.0, \"#0d0887\"], [0.1111111111111111, \"#46039f\"], [0.2222222222222222, \"#7201a8\"], [0.3333333333333333, \"#9c179e\"], [0.4444444444444444, \"#bd3786\"], [0.5555555555555556, \"#d8576b\"], [0.6666666666666666, \"#ed7953\"], [0.7777777777777778, \"#fb9f3a\"], [0.8888888888888888, \"#fdca26\"], [1.0, \"#f0f921\"]], \"type\": \"contour\"}], \"contourcarpet\": [{\"colorbar\": {\"outlinewidth\": 0, \"ticks\": \"\"}, \"type\": \"contourcarpet\"}], \"heatmap\": [{\"colorbar\": {\"outlinewidth\": 0, \"ticks\": \"\"}, \"colorscale\": [[0.0, \"#0d0887\"], [0.1111111111111111, \"#46039f\"], [0.2222222222222222, \"#7201a8\"], [0.3333333333333333, \"#9c179e\"], [0.4444444444444444, \"#bd3786\"], [0.5555555555555556, \"#d8576b\"], [0.6666666666666666, \"#ed7953\"], [0.7777777777777778, \"#fb9f3a\"], [0.8888888888888888, \"#fdca26\"], [1.0, \"#f0f921\"]], \"type\": \"heatmap\"}], \"heatmapgl\": [{\"colorbar\": {\"outlinewidth\": 0, \"ticks\": \"\"}, \"colorscale\": [[0.0, \"#0d0887\"], [0.1111111111111111, \"#46039f\"], [0.2222222222222222, \"#7201a8\"], [0.3333333333333333, \"#9c179e\"], [0.4444444444444444, \"#bd3786\"], [0.5555555555555556, \"#d8576b\"], [0.6666666666666666, \"#ed7953\"], [0.7777777777777778, \"#fb9f3a\"], [0.8888888888888888, \"#fdca26\"], [1.0, \"#f0f921\"]], \"type\": \"heatmapgl\"}], \"histogram\": [{\"marker\": {\"colorbar\": {\"outlinewidth\": 0, \"ticks\": \"\"}}, \"type\": \"histogram\"}], \"histogram2d\": [{\"colorbar\": {\"outlinewidth\": 0, \"ticks\": \"\"}, \"colorscale\": [[0.0, \"#0d0887\"], [0.1111111111111111, \"#46039f\"], [0.2222222222222222, \"#7201a8\"], [0.3333333333333333, \"#9c179e\"], [0.4444444444444444, \"#bd3786\"], [0.5555555555555556, \"#d8576b\"], [0.6666666666666666, \"#ed7953\"], [0.7777777777777778, \"#fb9f3a\"], [0.8888888888888888, \"#fdca26\"], [1.0, \"#f0f921\"]], \"type\": \"histogram2d\"}], \"histogram2dcontour\": [{\"colorbar\": {\"outlinewidth\": 0, \"ticks\": \"\"}, \"colorscale\": [[0.0, \"#0d0887\"], [0.1111111111111111, \"#46039f\"], [0.2222222222222222, \"#7201a8\"], [0.3333333333333333, \"#9c179e\"], [0.4444444444444444, \"#bd3786\"], [0.5555555555555556, \"#d8576b\"], [0.6666666666666666, \"#ed7953\"], [0.7777777777777778, \"#fb9f3a\"], [0.8888888888888888, \"#fdca26\"], [1.0, \"#f0f921\"]], \"type\": \"histogram2dcontour\"}], \"mesh3d\": [{\"colorbar\": {\"outlinewidth\": 0, \"ticks\": \"\"}, \"type\": \"mesh3d\"}], \"parcoords\": [{\"line\": {\"colorbar\": {\"outlinewidth\": 0, \"ticks\": \"\"}}, \"type\": \"parcoords\"}], \"pie\": [{\"automargin\": true, \"type\": \"pie\"}], \"scatter\": [{\"marker\": {\"colorbar\": {\"outlinewidth\": 0, \"ticks\": \"\"}}, \"type\": \"scatter\"}], \"scatter3d\": [{\"line\": {\"colorbar\": {\"outlinewidth\": 0, \"ticks\": \"\"}}, \"marker\": {\"colorbar\": {\"outlinewidth\": 0, \"ticks\": \"\"}}, \"type\": \"scatter3d\"}], \"scattercarpet\": [{\"marker\": {\"colorbar\": {\"outlinewidth\": 0, \"ticks\": \"\"}}, \"type\": \"scattercarpet\"}], \"scattergeo\": [{\"marker\": {\"colorbar\": {\"outlinewidth\": 0, \"ticks\": \"\"}}, \"type\": \"scattergeo\"}], \"scattergl\": [{\"marker\": {\"colorbar\": {\"outlinewidth\": 0, \"ticks\": \"\"}}, \"type\": \"scattergl\"}], \"scattermapbox\": [{\"marker\": {\"colorbar\": {\"outlinewidth\": 0, \"ticks\": \"\"}}, \"type\": \"scattermapbox\"}], \"scatterpolar\": [{\"marker\": {\"colorbar\": {\"outlinewidth\": 0, \"ticks\": \"\"}}, \"type\": \"scatterpolar\"}], \"scatterpolargl\": [{\"marker\": {\"colorbar\": {\"outlinewidth\": 0, \"ticks\": \"\"}}, \"type\": \"scatterpolargl\"}], \"scatterternary\": [{\"marker\": {\"colorbar\": {\"outlinewidth\": 0, \"ticks\": \"\"}}, \"type\": \"scatterternary\"}], \"surface\": [{\"colorbar\": {\"outlinewidth\": 0, \"ticks\": \"\"}, \"colorscale\": [[0.0, \"#0d0887\"], [0.1111111111111111, \"#46039f\"], [0.2222222222222222, \"#7201a8\"], [0.3333333333333333, \"#9c179e\"], [0.4444444444444444, \"#bd3786\"], [0.5555555555555556, \"#d8576b\"], [0.6666666666666666, \"#ed7953\"], [0.7777777777777778, \"#fb9f3a\"], [0.8888888888888888, \"#fdca26\"], [1.0, \"#f0f921\"]], \"type\": \"surface\"}], \"table\": [{\"cells\": {\"fill\": {\"color\": \"#EBF0F8\"}, \"line\": {\"color\": \"white\"}}, \"header\": {\"fill\": {\"color\": \"#C8D4E3\"}, \"line\": {\"color\": \"white\"}}, \"type\": \"table\"}]}, \"layout\": {\"annotationdefaults\": {\"arrowcolor\": \"#2a3f5f\", \"arrowhead\": 0, \"arrowwidth\": 1}, \"coloraxis\": {\"colorbar\": {\"outlinewidth\": 0, \"ticks\": \"\"}}, \"colorscale\": {\"diverging\": [[0, \"#8e0152\"], [0.1, \"#c51b7d\"], [0.2, \"#de77ae\"], [0.3, \"#f1b6da\"], [0.4, \"#fde0ef\"], [0.5, \"#f7f7f7\"], [0.6, \"#e6f5d0\"], [0.7, \"#b8e186\"], [0.8, \"#7fbc41\"], [0.9, \"#4d9221\"], [1, \"#276419\"]], \"sequential\": [[0.0, \"#0d0887\"], [0.1111111111111111, \"#46039f\"], [0.2222222222222222, \"#7201a8\"], [0.3333333333333333, \"#9c179e\"], [0.4444444444444444, \"#bd3786\"], [0.5555555555555556, \"#d8576b\"], [0.6666666666666666, \"#ed7953\"], [0.7777777777777778, \"#fb9f3a\"], [0.8888888888888888, \"#fdca26\"], [1.0, \"#f0f921\"]], \"sequentialminus\": [[0.0, \"#0d0887\"], [0.1111111111111111, \"#46039f\"], [0.2222222222222222, \"#7201a8\"], [0.3333333333333333, \"#9c179e\"], [0.4444444444444444, \"#bd3786\"], [0.5555555555555556, \"#d8576b\"], [0.6666666666666666, \"#ed7953\"], [0.7777777777777778, \"#fb9f3a\"], [0.8888888888888888, \"#fdca26\"], [1.0, \"#f0f921\"]]}, \"colorway\": [\"#636efa\", \"#EF553B\", \"#00cc96\", \"#ab63fa\", \"#FFA15A\", \"#19d3f3\", \"#FF6692\", \"#B6E880\", \"#FF97FF\", \"#FECB52\"], \"font\": {\"color\": \"#2a3f5f\"}, \"geo\": {\"bgcolor\": \"white\", \"lakecolor\": \"white\", \"landcolor\": \"#E5ECF6\", \"showlakes\": true, \"showland\": true, \"subunitcolor\": \"white\"}, \"hoverlabel\": {\"align\": \"left\"}, \"hovermode\": \"closest\", \"mapbox\": {\"style\": \"light\"}, \"paper_bgcolor\": \"white\", \"plot_bgcolor\": \"#E5ECF6\", \"polar\": {\"angularaxis\": {\"gridcolor\": \"white\", \"linecolor\": \"white\", \"ticks\": \"\"}, \"bgcolor\": \"#E5ECF6\", \"radialaxis\": {\"gridcolor\": \"white\", \"linecolor\": \"white\", \"ticks\": \"\"}}, \"scene\": {\"xaxis\": {\"backgroundcolor\": \"#E5ECF6\", \"gridcolor\": \"white\", \"gridwidth\": 2, \"linecolor\": \"white\", \"showbackground\": true, \"ticks\": \"\", \"zerolinecolor\": \"white\"}, \"yaxis\": {\"backgroundcolor\": \"#E5ECF6\", \"gridcolor\": \"white\", \"gridwidth\": 2, \"linecolor\": \"white\", \"showbackground\": true, \"ticks\": \"\", \"zerolinecolor\": \"white\"}, \"zaxis\": {\"backgroundcolor\": \"#E5ECF6\", \"gridcolor\": \"white\", \"gridwidth\": 2, \"linecolor\": \"white\", \"showbackground\": true, \"ticks\": \"\", \"zerolinecolor\": \"white\"}}, \"shapedefaults\": {\"line\": {\"color\": \"#2a3f5f\"}}, \"ternary\": {\"aaxis\": {\"gridcolor\": \"white\", \"linecolor\": \"white\", \"ticks\": \"\"}, \"baxis\": {\"gridcolor\": \"white\", \"linecolor\": \"white\", \"ticks\": \"\"}, \"bgcolor\": \"#E5ECF6\", \"caxis\": {\"gridcolor\": \"white\", \"linecolor\": \"white\", \"ticks\": \"\"}}, \"title\": {\"x\": 0.05}, \"xaxis\": {\"automargin\": true, \"gridcolor\": \"white\", \"linecolor\": \"white\", \"ticks\": \"\", \"title\": {\"standoff\": 15}, \"zerolinecolor\": \"white\", \"zerolinewidth\": 2}, \"yaxis\": {\"automargin\": true, \"gridcolor\": \"white\", \"linecolor\": \"white\", \"ticks\": \"\", \"title\": {\"standoff\": 15}, \"zerolinecolor\": \"white\", \"zerolinewidth\": 2}}}},\n",
       "                        {\"responsive\": true}\n",
       "                    ).then(function(){\n",
       "                            \n",
       "var gd = document.getElementById('3696dcbe-be6a-4aed-9cc5-8165cef322ca');\n",
       "var x = new MutationObserver(function (mutations, observer) {{\n",
       "        var display = window.getComputedStyle(gd).display;\n",
       "        if (!display || display === 'none') {{\n",
       "            console.log([gd, 'removed!']);\n",
       "            Plotly.purge(gd);\n",
       "            observer.disconnect();\n",
       "        }}\n",
       "}});\n",
       "\n",
       "// Listen for the removal of the full notebook cells\n",
       "var notebookContainer = gd.closest('#notebook-container');\n",
       "if (notebookContainer) {{\n",
       "    x.observe(notebookContainer, {childList: true});\n",
       "}}\n",
       "\n",
       "// Listen for the clearing of the current output cell\n",
       "var outputEl = gd.closest('.output');\n",
       "if (outputEl) {{\n",
       "    x.observe(outputEl, {childList: true});\n",
       "}}\n",
       "\n",
       "                        })\n",
       "                };\n",
       "                });\n",
       "            </script>\n",
       "        </div>"
      ]
     },
     "metadata": {},
     "output_type": "display_data"
    }
   ],
   "source": [
    "import plotly.express as px\n",
    "import plotly.io as pio\n",
    "df = cities_pretty[cities_pretty['valid GEO']==True]\n",
    "fig = px.scatter_geo(df,\n",
    "                     locationmode = 'country names',\n",
    "                    lon = df['lon'],\n",
    "                    lat = df['lat'],\n",
    "                     hover_name=\"text\", # column added to hover information\n",
    "                     size=\"sick\", # size of markers\n",
    "                     color = \"per 1000\",\n",
    "                     projection = 'natural earth',\n",
    "                    #projection_scale= 0.1,\n",
    "                    center = {'lat': 31.778345, 'lon':35.2250786})\n",
    "fig.update_geos(\n",
    "    showcountries=True, countrycolor=\"RebeccaPurple\")\n",
    "\n",
    "fig.show()\n",
    "pio.write_html(fig,'index.html',auto_open=True)"
   ]
  },
  {
   "cell_type": "code",
   "execution_count": null,
   "metadata": {},
   "outputs": [],
   "source": []
  }
 ],
 "metadata": {
  "kernelspec": {
   "display_name": "Python 3",
   "language": "python",
   "name": "python3"
  },
  "language_info": {
   "codemirror_mode": {
    "name": "ipython",
    "version": 3
   },
   "file_extension": ".py",
   "mimetype": "text/x-python",
   "name": "python",
   "nbconvert_exporter": "python",
   "pygments_lexer": "ipython3",
   "version": "3.7.4"
  }
 },
 "nbformat": 4,
 "nbformat_minor": 2
}
