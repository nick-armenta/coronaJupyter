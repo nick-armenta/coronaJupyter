{
 "cells": [
  {
   "cell_type": "code",
   "execution_count": 25,
   "metadata": {},
   "outputs": [],
   "source": [
    "import pandas as pd\n",
    "from IPython.display import display, HTML"
   ]
  },
  {
   "cell_type": "code",
   "execution_count": 26,
   "metadata": {},
   "outputs": [
    {
     "name": "stdout",
     "output_type": "stream",
     "text": [
      "{0: {'population': 914559, 'sick': 1132, 'city names': 'ירושלים'}, 1: {'population': 195298, 'sick': 1061, 'city names': 'בני ברק'}, 2: {'population': 450192, 'sick': 337, 'city names': 'תל אביב - יפו'}, 3: {'population': 139032, 'sick': 170, 'city names': 'אשקלון'}, 4: {'population': 242478, 'sick': 138, 'city names': 'פתח תקווה'}, 5: {'population': 241010, 'sick': 132, 'city names': 'ראשון לציון'}, 6: {'population': 213971, 'sick': 126, 'city names': 'נתניה'}, 7: {'population': 46760, 'sick': 120, 'city names': 'אלעד'}, 8: {'population': 120812, 'sick': 118, 'city names': 'בית שמש'}, 9: {'population': 196755, 'sick': 112, 'city names': 'באר שבע'}, 10: {'population': 225073, 'sick': 111, 'city names': 'אשדוד'}, 11: {'population': 143370, 'sick': 106, 'city names': 'רמת גן'}, 12: {'population': 185741, 'sick': 104, 'city names': 'חולון'}, 13: {'population': 130523, 'sick': 102, 'city names': 'בת ים'}, 14: {'population': 272584, 'sick': 96, 'city names': 'חיפה'}, 15: {'population': 73808, 'sick': 91, 'city names': 'מודיעין עילית'}, 16: {'population': 87108, 'sick': 91, 'city names': 'מודיעין-מכבים-רעות'}, 17: {'population': 44353, 'sick': 83, 'city names': 'טבריה'}, 18: {'population': 26058, 'sick': 82, 'city names': 'מגדל העמק'}, 19: {'population': 34843, 'sick': 74, 'city names': 'אור יהודה'}, 20: {'population': 73979, 'sick': 73, 'city names': 'רעננה'}, 21: {'population': 59240, 'sick': 70, 'city names': 'ביתר עילית'}, 22: {'population': 90900, 'sick': 69, 'city names': 'הרצליה'}, 23: {'population': 137178, 'sick': 66, 'city names': 'רחובות'}, 24: {'population': 10676, 'sick': 61, 'city names': 'אפרת'}, 25: {'population': 29104, 'sick': 59, 'city names': 'יהוד-מונוסון'}, 26: {'population': 97412, 'sick': 50, 'city names': 'כפר סבא'}, 27: {'population': 75038, 'sick': 44, 'city names': 'לוד'}, 28: {'population': 50886, 'sick': 41, 'city names': 'עפולה'}, 29: {'population': 6724, 'sick': 39, 'city names': 'כפר חב\"ד'}, 30: {'population': 37112, 'sick': 38, 'city names': 'קרית אונו'}, 31: {'population': 35671, 'sick': 37, 'city names': 'צפת'}, 32: {'population': 5713, 'sick': 36, 'city names': 'קרית יערים'}, 33: {'population': 75246, 'sick': 36, 'city names': 'רמלה'}, 34: {'population': 23691, 'sick': 35, 'city names': 'קרית מלאכי'}, 35: {'population': 8602, 'sick': 32, 'city names': 'כוכב יעקב'}, 36: {'population': 44896, 'sick': 32, 'city names': 'רמת השרון'}, 37: {'population': 59171, 'sick': 29, 'city names': 'הוד השרון'}, 38: {'population': 55123, 'sick': 27, 'city names': 'גבעתיים'}, 39: {'population': 37469, 'sick': 27, 'city names': 'מעלה אדומים'}, 40: {'population': 58750, 'sick': 26, 'city names': 'נהריה'}, 41: {'population': 55400, 'sick': 26, 'city names': 'קרית גת'}, 42: {'population': 20041, 'sick': 25, 'city names': 'שוהם'}, 43: {'population': 24538, 'sick': 24, 'city names': 'גבעת שמואל'}, 44: {'population': 25891, 'sick': 24, 'city names': 'שדרות'}, 45: {'population': 18930, 'sick': 23, 'city names': 'גני תקווה'}, 46: {'population': 22341, 'sick': 22, 'city names': 'זכרון יעקב'}, 47: {'population': 94104, 'sick': 22, 'city names': 'חדרה'}, 48: {'population': 13263, 'sick': 21, 'city names': 'אבן יהודה'}, 49: {'population': 22410, 'sick': 21, 'city names': 'גן יבנה'}, 50: {'population': 45555, 'sick': 21, 'city names': 'יבנה'}, 51: {'population': 46596, 'sick': 21, 'city names': 'כרמיאל'}, 52: {'population': 53965, 'sick': 21, 'city names': 'ראש העין'}, 53: {'population': 11819, 'sick': 20, 'city names': 'אזור'}, 54: {'population': 36511, 'sick': 20, 'city names': 'נתיבות'}, 55: {'population': 11841, 'sick': 20, 'city names': 'רכסים'}, 56: {'population': 24633, 'sick': 19, 'city names': 'גדרה'}, 57: {'population': 35377, 'sick': 19, 'city names': 'דימונה'}, 58: {'population': 39556, 'sick': 19, 'city names': 'קרית ים'}, 59: {'population': 43811, 'sick': 18, 'city names': 'נוף הגליל'}, 60: {'population': 30185, 'sick': 17, 'city names': 'אופקים'}, 61: {'population': 24216, 'sick': 16, 'city names': 'באר יעקב'}, 62: {'population': 57108, 'sick': 16, 'city names': 'קרית אתא'}, 63: {'population': 18510, 'sick': 14, 'city names': 'גבעת זאב'}, 64: {'population': 33792, 'sick': 14, 'city names': 'טמרה'}, 65: {'population': 55324, 'sick': 13, 'city names': 'אום אל-פחם'}, 66: {'population': 22243, 'sick': 13, 'city names': 'טירת כרמל'}, 67: {'population': 12593, 'sick': 13, 'city names': 'תל מונד'}, 68: {'population': 21301, 'sick': 12, 'city names': 'כפר יונה'}, 69: {'population': 50872, 'sick': 12, 'city names': 'עכו'}, 70: {'population': 26763, 'sick': 12, 'city names': 'ערד'}, 71: {'population': 20831, 'sick': 11, 'city names': 'קדימה-צורן'}, 72: {'population': 7364, 'sick': 11, 'city names': 'קרית ארבע'}, 73: {'population': 56568, 'sick': 10, 'city names': 'אילת'}, 74: {'population': 22711, 'sick': 10, 'city names': 'יקנעם עילית'}, 75: {'population': 8016, 'sick': 10, 'city names': 'עומר'}, 76: {'population': 23093, 'sick': 9, 'city names': 'מבשרת ציון'}, 77: {'population': 22261, 'sick': 9, 'city names': 'מעלות-תרשיחא'}, 78: {'population': 22152, 'sick': 9, 'city names': 'קרית שמונה'}, 79: {'population': 43144, 'sick': 8, 'city names': 'טייבה'}, 80: {'population': 9143, 'sick': 8, 'city names': 'כוכב יאיר'}, 81: {'population': 45714, 'sick': 8, 'city names': 'נס ציונה'}, 82: {'population': 7373, 'sick': 8, 'city names': 'קצרין'}, 83: {'population': 10414, 'sick': 7, 'city names': 'דבוריה'}, 84: {'population': 22364, 'sick': 7, 'city names': 'מגאר'}, 85: {'population': 78252, 'sick': 7, 'city names': 'נצרת'}, 86: {'population': 39262, 'sick': 7, 'city names': 'קרית ביאליק'}, 87: {'population': 6367, 'sick': 7, 'city names': 'שבלי - אום אל-גנם'}, 88: {'population': 11910, 'sick': 6, 'city names': \"ג'ת\"}, 89: {'population': 10567, 'sick': 6, 'city names': 'דייר חנא'}, 90: {'population': 16957, 'sick': 6, 'city names': 'כסיפה'}, 91: {'population': 6178, 'sick': 6, 'city names': 'להבים'}, 92: {'population': 14949, 'sick': 6, 'city names': 'מזכרת בתיה'}, 93: {'population': 32089, 'sick': 6, 'city names': \"סח'נין\"}, 94: {'population': 40622, 'sick': 6, 'city names': 'פרדס חנה-כרכור'}, 95: {'population': 42870, 'sick': 6, 'city names': 'קרית מוצקין'}, 96: {'population': 7906, 'sick': 6, 'city names': 'קרני שומרון'}, 97: {'population': 7771, 'sick': 5, 'city names': 'אלפי מנשה'}, 98: {'population': 9866, 'sick': 5, 'city names': 'ביר אל-מכסור'}, 99: {'population': 22032, 'sick': 5, 'city names': 'נשר'}, 100: {'population': 6478, 'sick': 5, 'city names': 'שלומי'}, 101: {'population': 18251, 'sick': 4, 'city names': 'אריאל'}, 102: {'population': 29035, 'sick': 4, 'city names': 'באקה אל-גרביה'}, 103: {'population': 6837, 'sick': 4, 'city names': 'בני עי\"ש'}, 104: {'population': 5299, 'sick': 4, 'city names': 'גבע בנימין'}, 105: {'population': 7856, 'sick': 4, 'city names': 'צור הדסה'}, 106: {'population': 10600, 'sick': 4, 'city names': 'קרית עקרון'}, 107: {'population': 64649, 'sick': 4, 'city names': 'רהט'}, 108: {'population': 18893, 'sick': 3, 'city names': 'אור עקיבא'}, 109: {'population': 14655, 'sick': 3, 'city names': 'אכסאל'}, 110: {'population': 6533, 'sick': 3, 'city names': 'בית דגן'}, 111: {'population': 14732, 'sick': 3, 'city names': \"ג'סר א-זרקא\"}, 112: {'population': 8737, 'sick': 3, 'city names': 'חריש'}, 113: {'population': 19056, 'sick': 3, 'city names': 'יפיע'}, 114: {'population': 14861, 'sick': 3, 'city names': 'מעלה עירון'}, 115: {'population': 5954, 'sick': 3, 'city names': 'צור יצחק'}, 116: {'population': 6586, 'sick': 2, 'city names': 'בוקעאתא'}, 117: {'population': 5767, 'sick': 2, 'city names': 'בית אל'}, 118: {'population': 10532, 'sick': 2, 'city names': 'בסמ\"ה'}, 119: {'population': 7833, 'sick': 2, 'city names': 'בסמת טבעון'}, 120: {'population': 20524, 'sick': 2, 'city names': \"ג'דיידה-מכר\"}, 121: {'population': 6147, 'sick': 2, 'city names': \"ג'ולס\"}, 122: {'population': 26184, 'sick': 2, 'city names': 'טירה'}, 123: {'population': 22449, 'sick': 2, 'city names': 'כפר כנא'}, 124: {'population': 18820, 'sick': 2, 'city names': 'כפר קרע'}, 125: {'population': 9043, 'sick': 2, 'city names': 'מיתר'}, 126: {'population': 7442, 'sick': 2, 'city names': 'עתלית'}, 127: {'population': 15831, 'sick': 2, 'city names': 'קרית טבעון'}, 128: {'population': 7236, 'sick': 2, 'city names': 'רמת ישי'}, 129: {'population': 40666, 'sick': 2, 'city names': 'שפרעם'}, 130: {'population': 7792, 'sick': 1, 'city names': 'אבו גוש'}, 131: {'population': 8446, 'sick': 1, 'city names': 'אבו רובייעה )שבט('}, 132: {'population': 8822, 'sick': 1, 'city names': 'אורנית'}, 133: {'population': 14383, 'sick': 1, 'city names': 'בנימינה-גבעת עדה'}, 134: {'population': 8355, 'sick': 1, 'city names': 'בענה'}, 135: {'population': 5124, 'sick': 1, 'city names': 'בת חפר'}, 136: {'population': 10011, 'sick': 1, 'city names': \"ג'לג'וליה\"}, 137: {'population': 12435, 'sick': 1, 'city names': 'דייר אל-אסד'}, 138: {'population': 6926, 'sick': 1, 'city names': 'זמר'}, 139: {'population': 6288, 'sick': 1, 'city names': 'חורפיש'}, 140: {'population': 6648, 'sick': 1, 'city names': 'טובא-זנגריה'}, 141: {'population': 10126, 'sick': 1, 'city names': 'ירוחם'}, 142: {'population': 5599, 'sick': 1, 'city names': 'כפר ורדים'}, 143: {'population': 10577, 'sick': 1, 'city names': 'כפר יאסיף'}, 144: {'population': 11089, 'sick': 1, 'city names': \"מג'דל שמס\"}, 145: {'population': 16644, 'sick': 1, 'city names': 'מסעודין אל-עזאזמה'}, 146: {'population': 13167, 'sick': 1, 'city names': 'נחף'}, 147: {'population': 5677, 'sick': 1, 'city names': 'עיילבון'}, 148: {'population': 12141, 'sick': 1, 'city names': 'עספיא'}, 149: {'population': 25876, 'sick': 1, 'city names': 'עראבה'}, 150: {'population': 6027, 'sick': 1, 'city names': 'פרדסיה'}, 151: {'population': 22740, 'sick': 1, 'city names': 'קלנסווה'}, 152: {'population': 19850, 'sick': 1, 'city names': 'תל שבע'}}\n"
     ]
    }
   ],
   "source": [
    "dict_cities = {}\n",
    "cities_file = open(\"corona_cities_apr_3.txt\",\"r\",encoding=\"utf-8\")\n",
    "index_ = 0\n",
    "for line_ in cities_file:\n",
    "    parts = line_.split()\n",
    "    temp_ints = []\n",
    "    temp_name = []\n",
    "    for part_ in parts:\n",
    "        if part_.isnumeric():\n",
    "            temp_ints.append(part_)\n",
    "        else:\n",
    "            temp_name.append(part_)\n",
    "\n",
    "    dict_cities[index_] = {'population': int(temp_ints[0]), 'sick': int(temp_ints[1]), 'city names': ' '.join(temp_name)}\n",
    "    index_ = index_ + 1\n",
    "print(dict_cities)"
   ]
  },
  {
   "cell_type": "code",
   "execution_count": 27,
   "metadata": {},
   "outputs": [
    {
     "data": {
      "text/html": [
       "<table border=\"1\" class=\"dataframe\">\n",
       "  <thead>\n",
       "    <tr style=\"text-align: right;\">\n",
       "      <th></th>\n",
       "      <th>population</th>\n",
       "      <th>sick</th>\n",
       "      <th>city names</th>\n",
       "      <th>wiki article</th>\n",
       "      <th>wiki</th>\n",
       "    </tr>\n",
       "  </thead>\n",
       "  <tbody>\n",
       "    <tr>\n",
       "      <th>0</th>\n",
       "      <td>914559</td>\n",
       "      <td>1132</td>\n",
       "      <td>ירושלים</td>\n",
       "      <td>https://nominatim.openstreetmap.org/search.php?q=ירושלים&format=json</td>\n",
       "      <td><a href=\"https://nominatim.openstreetmap.org/search.php?q=ירושלים&format=json\">link</a></td>\n",
       "    </tr>\n",
       "    <tr>\n",
       "      <th>2</th>\n",
       "      <td>450192</td>\n",
       "      <td>337</td>\n",
       "      <td>תל אביב - יפו</td>\n",
       "      <td>https://nominatim.openstreetmap.org/search.php?q=תל אביב - יפו&format=json</td>\n",
       "      <td><a href=\"https://nominatim.openstreetmap.org/search.php?q=תל אביב - יפו&format=json\">link</a></td>\n",
       "    </tr>\n",
       "    <tr>\n",
       "      <th>14</th>\n",
       "      <td>272584</td>\n",
       "      <td>96</td>\n",
       "      <td>חיפה</td>\n",
       "      <td>https://nominatim.openstreetmap.org/search.php?q=חיפה&format=json</td>\n",
       "      <td><a href=\"https://nominatim.openstreetmap.org/search.php?q=חיפה&format=json\">link</a></td>\n",
       "    </tr>\n",
       "    <tr>\n",
       "      <th>4</th>\n",
       "      <td>242478</td>\n",
       "      <td>138</td>\n",
       "      <td>פתח תקווה</td>\n",
       "      <td>https://nominatim.openstreetmap.org/search.php?q=פתח תקווה&format=json</td>\n",
       "      <td><a href=\"https://nominatim.openstreetmap.org/search.php?q=פתח תקווה&format=json\">link</a></td>\n",
       "    </tr>\n",
       "    <tr>\n",
       "      <th>5</th>\n",
       "      <td>241010</td>\n",
       "      <td>132</td>\n",
       "      <td>ראשון לציון</td>\n",
       "      <td>https://nominatim.openstreetmap.org/search.php?q=ראשון לציון&format=json</td>\n",
       "      <td><a href=\"https://nominatim.openstreetmap.org/search.php?q=ראשון לציון&format=json\">link</a></td>\n",
       "    </tr>\n",
       "  </tbody>\n",
       "</table>"
      ],
      "text/plain": [
       "<IPython.core.display.HTML object>"
      ]
     },
     "metadata": {},
     "output_type": "display_data"
    }
   ],
   "source": [
    "cities_pretty = pd.DataFrame.from_dict(dict_cities, orient='index')\n",
    "cities_pretty['wiki article'] = [\"\"\"https://nominatim.openstreetmap.org/search.php?q=\"\"\"+str(i)+\"\"\"&format=json\"\"\" for i in cities_pretty['city names']]\n",
    "cities_pretty['wiki'] = cities_pretty['wiki article'].apply(lambda x: '<a href=\"{0}\">link</a>'.format(x))\n",
    "display(HTML(cities_pretty.sort_values(by=['population'],ascending=False).head().to_html(escape=False)))"
   ]
  },
  {
   "cell_type": "code",
   "execution_count": 28,
   "metadata": {},
   "outputs": [],
   "source": [
    "import requests\n",
    "import json\n",
    "import time\n",
    "\n",
    "def get_geo(link):\n",
    "    time.sleep(0.5)\n",
    "    try:\n",
    "        r = requests.get(link, timeout=1)\n",
    "        if r.status_code  == 200:\n",
    "            try:\n",
    "                data = json.loads(r.content)\n",
    "                if len(data[0]) > 1:\n",
    "                    #display(data[0])\n",
    "                    lat = data[0]['lat']\n",
    "                    lon = data[0]['lon']\n",
    "                    return lat, lon, True\n",
    "                else:\n",
    "                    return 0, 0, False\n",
    "            except IndexError:\n",
    "                return 0, 0, False\n",
    "            except TypeError:\n",
    "                return 0, 0, False\n",
    "        else:\n",
    "            return 0, 0, False\n",
    "    except OSError:\n",
    "        print(\"Failed to load {}\".format(link))\n",
    "        return 0, 0, False\n"
   ]
  },
  {
   "cell_type": "code",
   "execution_count": 29,
   "metadata": {},
   "outputs": [
    {
     "name": "stdout",
     "output_type": "stream",
     "text": [
      "https://nominatim.openstreetmap.org/search.php?q=ירושלים&format=json\n"
     ]
    },
    {
     "data": {
      "text/plain": [
       "('31.778345', '35.2250786', True)"
      ]
     },
     "execution_count": 29,
     "metadata": {},
     "output_type": "execute_result"
    }
   ],
   "source": [
    "print(cities_pretty['wiki article'][0])\n",
    "get_geo(cities_pretty['wiki article'][0])"
   ]
  },
  {
   "cell_type": "code",
   "execution_count": 30,
   "metadata": {},
   "outputs": [
    {
     "data": {
      "application/vnd.jupyter.widget-view+json": {
       "model_id": "a29b84726d274783a57b29e1f729a5f6",
       "version_major": 2,
       "version_minor": 0
      },
      "text/plain": [
       "IntProgress(value=0, description='Loading:', max=153)"
      ]
     },
     "metadata": {},
     "output_type": "display_data"
    }
   ],
   "source": [
    "lats = []\n",
    "lons = []\n",
    "valids = []\n",
    "\n",
    "import ipywidgets as widgets\n",
    "\n",
    "bar = widgets.IntProgress(\n",
    "    value=0,\n",
    "    min=0,\n",
    "    max=len(cities_pretty['wiki article']),\n",
    "    step=1,\n",
    "    description='Loading:',\n",
    "    bar_style='', # 'success', 'info', 'warning', 'danger' or ''\n",
    "    orientation='horizontal'\n",
    ")\n",
    "\n",
    "\n",
    "display(bar)\n",
    "\n",
    "for n, i in enumerate(cities_pretty['wiki article']):\n",
    "    lat, lon, valid_geo = get_geo(i)\n",
    "    lats.append(lat)\n",
    "    lons.append(lon)\n",
    "    valids.append(valid_geo)\n",
    "    bar.value = (n+1)\n",
    "\n",
    "\n"
   ]
  },
  {
   "cell_type": "code",
   "execution_count": 39,
   "metadata": {},
   "outputs": [],
   "source": [
    "cities_pretty['lat'] = lats\n",
    "cities_pretty['lon'] = lons\n",
    "cities_pretty['valid GEO'] = valids\n",
    "cities_pretty['text'] = 'At:\\n' + cities_pretty['city names'] +'\\nSick: '+ cities_pretty['sick'].astype(str) + '\\nPopulation: ' + cities_pretty['population'].astype(str) "
   ]
  },
  {
   "cell_type": "code",
   "execution_count": 40,
   "metadata": {
    "scrolled": false
   },
   "outputs": [
    {
     "data": {
      "text/html": [
       "<table border=\"1\" class=\"dataframe\">\n",
       "  <thead>\n",
       "    <tr style=\"text-align: right;\">\n",
       "      <th></th>\n",
       "      <th>population</th>\n",
       "      <th>sick</th>\n",
       "      <th>city names</th>\n",
       "      <th>wiki article</th>\n",
       "      <th>wiki</th>\n",
       "      <th>lat</th>\n",
       "      <th>lon</th>\n",
       "      <th>valid GEO</th>\n",
       "      <th>text</th>\n",
       "      <th>percent</th>\n",
       "    </tr>\n",
       "  </thead>\n",
       "  <tbody>\n",
       "    <tr>\n",
       "      <th>0</th>\n",
       "      <td>914559</td>\n",
       "      <td>1132</td>\n",
       "      <td>ירושלים</td>\n",
       "      <td>https://nominatim.openstreetmap.org/search.php?q=ירושלים&format=json</td>\n",
       "      <td><a href=\"https://nominatim.openstreetmap.org/search.php?q=ירושלים&format=json\">link</a></td>\n",
       "      <td>31.778345</td>\n",
       "      <td>35.2250786</td>\n",
       "      <td>True</td>\n",
       "      <td>At:\\nירושלים\\nSick: 1132\\nPopulation: 914559</td>\n",
       "      <td>0.001238</td>\n",
       "    </tr>\n",
       "    <tr>\n",
       "      <th>2</th>\n",
       "      <td>450192</td>\n",
       "      <td>337</td>\n",
       "      <td>תל אביב - יפו</td>\n",
       "      <td>https://nominatim.openstreetmap.org/search.php?q=תל אביב - יפו&format=json</td>\n",
       "      <td><a href=\"https://nominatim.openstreetmap.org/search.php?q=תל אביב - יפו&format=json\">link</a></td>\n",
       "      <td>32.0804808</td>\n",
       "      <td>34.7805274</td>\n",
       "      <td>True</td>\n",
       "      <td>At:\\nתל אביב - יפו\\nSick: 337\\nPopulation: 450192</td>\n",
       "      <td>0.000749</td>\n",
       "    </tr>\n",
       "    <tr>\n",
       "      <th>14</th>\n",
       "      <td>272584</td>\n",
       "      <td>96</td>\n",
       "      <td>חיפה</td>\n",
       "      <td>https://nominatim.openstreetmap.org/search.php?q=חיפה&format=json</td>\n",
       "      <td><a href=\"https://nominatim.openstreetmap.org/search.php?q=חיפה&format=json\">link</a></td>\n",
       "      <td>32.8191218</td>\n",
       "      <td>34.9983856</td>\n",
       "      <td>True</td>\n",
       "      <td>At:\\nחיפה\\nSick: 96\\nPopulation: 272584</td>\n",
       "      <td>0.000352</td>\n",
       "    </tr>\n",
       "    <tr>\n",
       "      <th>4</th>\n",
       "      <td>242478</td>\n",
       "      <td>138</td>\n",
       "      <td>פתח תקווה</td>\n",
       "      <td>https://nominatim.openstreetmap.org/search.php?q=פתח תקווה&format=json</td>\n",
       "      <td><a href=\"https://nominatim.openstreetmap.org/search.php?q=פתח תקווה&format=json\">link</a></td>\n",
       "      <td>32.0877639</td>\n",
       "      <td>34.8859985</td>\n",
       "      <td>True</td>\n",
       "      <td>At:\\nפתח תקווה\\nSick: 138\\nPopulation: 242478</td>\n",
       "      <td>0.000569</td>\n",
       "    </tr>\n",
       "    <tr>\n",
       "      <th>5</th>\n",
       "      <td>241010</td>\n",
       "      <td>132</td>\n",
       "      <td>ראשון לציון</td>\n",
       "      <td>https://nominatim.openstreetmap.org/search.php?q=ראשון לציון&format=json</td>\n",
       "      <td><a href=\"https://nominatim.openstreetmap.org/search.php?q=ראשון לציון&format=json\">link</a></td>\n",
       "      <td>31.9635712</td>\n",
       "      <td>34.8101149</td>\n",
       "      <td>True</td>\n",
       "      <td>At:\\nראשון לציון\\nSick: 132\\nPopulation: 241010</td>\n",
       "      <td>0.000548</td>\n",
       "    </tr>\n",
       "  </tbody>\n",
       "</table>"
      ],
      "text/plain": [
       "<IPython.core.display.HTML object>"
      ]
     },
     "metadata": {},
     "output_type": "display_data"
    }
   ],
   "source": [
    "display(HTML(cities_pretty.sort_values(by=['population'],ascending=False).head().to_html(escape=False)))\n",
    "cities_pretty.sort_values(by=['population'],ascending=False).to_csv('CompleteCities.csv')"
   ]
  },
  {
   "cell_type": "code",
   "execution_count": 41,
   "metadata": {},
   "outputs": [
    {
     "data": {
      "application/vnd.plotly.v1+json": {
       "config": {
        "plotlyServerURL": "https://plot.ly"
       },
       "data": [
        {
         "geo": "geo",
         "hoverlabel": {
          "namelength": 0
         },
         "hovertemplate": "<b>%{hovertext}</b><br><br>sick=%{marker.size}<br>lat=%{lat}<br>lon=%{lon}",
         "hovertext": [
          "At:\nירושלים\nSick: 1132\nPopulation: 914559",
          "At:\nבני ברק\nSick: 1061\nPopulation: 195298",
          "At:\nתל אביב - יפו\nSick: 337\nPopulation: 450192",
          "At:\nאשקלון\nSick: 170\nPopulation: 139032",
          "At:\nפתח תקווה\nSick: 138\nPopulation: 242478",
          "At:\nראשון לציון\nSick: 132\nPopulation: 241010",
          "At:\nנתניה\nSick: 126\nPopulation: 213971",
          "At:\nאלעד\nSick: 120\nPopulation: 46760",
          "At:\nבית שמש\nSick: 118\nPopulation: 120812",
          "At:\nבאר שבע\nSick: 112\nPopulation: 196755",
          "At:\nאשדוד\nSick: 111\nPopulation: 225073",
          "At:\nרמת גן\nSick: 106\nPopulation: 143370",
          "At:\nחולון\nSick: 104\nPopulation: 185741",
          "At:\nבת ים\nSick: 102\nPopulation: 130523",
          "At:\nחיפה\nSick: 96\nPopulation: 272584",
          "At:\nמודיעין עילית\nSick: 91\nPopulation: 73808",
          "At:\nמודיעין-מכבים-רעות\nSick: 91\nPopulation: 87108",
          "At:\nטבריה\nSick: 83\nPopulation: 44353",
          "At:\nמגדל העמק\nSick: 82\nPopulation: 26058",
          "At:\nאור יהודה\nSick: 74\nPopulation: 34843",
          "At:\nרעננה\nSick: 73\nPopulation: 73979",
          "At:\nביתר עילית\nSick: 70\nPopulation: 59240",
          "At:\nהרצליה\nSick: 69\nPopulation: 90900",
          "At:\nרחובות\nSick: 66\nPopulation: 137178",
          "At:\nאפרת\nSick: 61\nPopulation: 10676",
          "At:\nיהוד-מונוסון\nSick: 59\nPopulation: 29104",
          "At:\nכפר סבא\nSick: 50\nPopulation: 97412",
          "At:\nלוד\nSick: 44\nPopulation: 75038",
          "At:\nעפולה\nSick: 41\nPopulation: 50886",
          "At:\nכפר חב\"ד\nSick: 39\nPopulation: 6724",
          "At:\nקרית אונו\nSick: 38\nPopulation: 37112",
          "At:\nצפת\nSick: 37\nPopulation: 35671",
          "At:\nקרית יערים\nSick: 36\nPopulation: 5713",
          "At:\nרמלה\nSick: 36\nPopulation: 75246",
          "At:\nקרית מלאכי\nSick: 35\nPopulation: 23691",
          "At:\nכוכב יעקב\nSick: 32\nPopulation: 8602",
          "At:\nרמת השרון\nSick: 32\nPopulation: 44896",
          "At:\nהוד השרון\nSick: 29\nPopulation: 59171",
          "At:\nגבעתיים\nSick: 27\nPopulation: 55123",
          "At:\nמעלה אדומים\nSick: 27\nPopulation: 37469",
          "At:\nנהריה\nSick: 26\nPopulation: 58750",
          "At:\nקרית גת\nSick: 26\nPopulation: 55400",
          "At:\nשוהם\nSick: 25\nPopulation: 20041",
          "At:\nגבעת שמואל\nSick: 24\nPopulation: 24538",
          "At:\nשדרות\nSick: 24\nPopulation: 25891",
          "At:\nגני תקווה\nSick: 23\nPopulation: 18930",
          "At:\nזכרון יעקב\nSick: 22\nPopulation: 22341",
          "At:\nחדרה\nSick: 22\nPopulation: 94104",
          "At:\nאבן יהודה\nSick: 21\nPopulation: 13263",
          "At:\nגן יבנה\nSick: 21\nPopulation: 22410",
          "At:\nיבנה\nSick: 21\nPopulation: 45555",
          "At:\nכרמיאל\nSick: 21\nPopulation: 46596",
          "At:\nראש העין\nSick: 21\nPopulation: 53965",
          "At:\nאזור\nSick: 20\nPopulation: 11819",
          "At:\nנתיבות\nSick: 20\nPopulation: 36511",
          "At:\nרכסים\nSick: 20\nPopulation: 11841",
          "At:\nגדרה\nSick: 19\nPopulation: 24633",
          "At:\nדימונה\nSick: 19\nPopulation: 35377",
          "At:\nקרית ים\nSick: 19\nPopulation: 39556",
          "At:\nנוף הגליל\nSick: 18\nPopulation: 43811",
          "At:\nאופקים\nSick: 17\nPopulation: 30185",
          "At:\nבאר יעקב\nSick: 16\nPopulation: 24216",
          "At:\nקרית אתא\nSick: 16\nPopulation: 57108",
          "At:\nגבעת זאב\nSick: 14\nPopulation: 18510",
          "At:\nטמרה\nSick: 14\nPopulation: 33792",
          "At:\nאום אל-פחם\nSick: 13\nPopulation: 55324",
          "At:\nטירת כרמל\nSick: 13\nPopulation: 22243",
          "At:\nתל מונד\nSick: 13\nPopulation: 12593",
          "At:\nכפר יונה\nSick: 12\nPopulation: 21301",
          "At:\nעכו\nSick: 12\nPopulation: 50872",
          "At:\nערד\nSick: 12\nPopulation: 26763",
          "At:\nקדימה-צורן\nSick: 11\nPopulation: 20831",
          "At:\nקרית ארבע\nSick: 11\nPopulation: 7364",
          "At:\nאילת\nSick: 10\nPopulation: 56568",
          "At:\nיקנעם עילית\nSick: 10\nPopulation: 22711",
          "At:\nעומר\nSick: 10\nPopulation: 8016",
          "At:\nמבשרת ציון\nSick: 9\nPopulation: 23093",
          "At:\nמעלות-תרשיחא\nSick: 9\nPopulation: 22261",
          "At:\nקרית שמונה\nSick: 9\nPopulation: 22152",
          "At:\nטייבה\nSick: 8\nPopulation: 43144",
          "At:\nכוכב יאיר\nSick: 8\nPopulation: 9143",
          "At:\nנס ציונה\nSick: 8\nPopulation: 45714",
          "At:\nקצרין\nSick: 8\nPopulation: 7373",
          "At:\nדבוריה\nSick: 7\nPopulation: 10414",
          "At:\nמגאר\nSick: 7\nPopulation: 22364",
          "At:\nנצרת\nSick: 7\nPopulation: 78252",
          "At:\nקרית ביאליק\nSick: 7\nPopulation: 39262",
          "At:\nשבלי - אום אל-גנם\nSick: 7\nPopulation: 6367",
          "At:\nג'ת\nSick: 6\nPopulation: 11910",
          "At:\nדייר חנא\nSick: 6\nPopulation: 10567",
          "At:\nכסיפה\nSick: 6\nPopulation: 16957",
          "At:\nלהבים\nSick: 6\nPopulation: 6178",
          "At:\nמזכרת בתיה\nSick: 6\nPopulation: 14949",
          "At:\nסח'נין\nSick: 6\nPopulation: 32089",
          "At:\nפרדס חנה-כרכור\nSick: 6\nPopulation: 40622",
          "At:\nקרית מוצקין\nSick: 6\nPopulation: 42870",
          "At:\nקרני שומרון\nSick: 6\nPopulation: 7906",
          "At:\nאלפי מנשה\nSick: 5\nPopulation: 7771",
          "At:\nביר אל-מכסור\nSick: 5\nPopulation: 9866",
          "At:\nנשר\nSick: 5\nPopulation: 22032",
          "At:\nשלומי\nSick: 5\nPopulation: 6478",
          "At:\nאריאל\nSick: 4\nPopulation: 18251",
          "At:\nבני עי\"ש\nSick: 4\nPopulation: 6837",
          "At:\nגבע בנימין\nSick: 4\nPopulation: 5299",
          "At:\nצור הדסה\nSick: 4\nPopulation: 7856",
          "At:\nקרית עקרון\nSick: 4\nPopulation: 10600",
          "At:\nרהט\nSick: 4\nPopulation: 64649",
          "At:\nאור עקיבא\nSick: 3\nPopulation: 18893",
          "At:\nאכסאל\nSick: 3\nPopulation: 14655",
          "At:\nבית דגן\nSick: 3\nPopulation: 6533",
          "At:\nג'סר א-זרקא\nSick: 3\nPopulation: 14732",
          "At:\nחריש\nSick: 3\nPopulation: 8737",
          "At:\nיפיע\nSick: 3\nPopulation: 19056",
          "At:\nמעלה עירון\nSick: 3\nPopulation: 14861",
          "At:\nצור יצחק\nSick: 3\nPopulation: 5954",
          "At:\nבוקעאתא\nSick: 2\nPopulation: 6586",
          "At:\nבית אל\nSick: 2\nPopulation: 5767",
          "At:\nבסמ\"ה\nSick: 2\nPopulation: 10532",
          "At:\nבסמת טבעון\nSick: 2\nPopulation: 7833",
          "At:\nג'דיידה-מכר\nSick: 2\nPopulation: 20524",
          "At:\nג'ולס\nSick: 2\nPopulation: 6147",
          "At:\nטירה\nSick: 2\nPopulation: 26184",
          "At:\nכפר כנא\nSick: 2\nPopulation: 22449",
          "At:\nכפר קרע\nSick: 2\nPopulation: 18820",
          "At:\nמיתר\nSick: 2\nPopulation: 9043",
          "At:\nעתלית\nSick: 2\nPopulation: 7442",
          "At:\nקרית טבעון\nSick: 2\nPopulation: 15831",
          "At:\nרמת ישי\nSick: 2\nPopulation: 7236",
          "At:\nשפרעם\nSick: 2\nPopulation: 40666",
          "At:\nאבו גוש\nSick: 1\nPopulation: 7792",
          "At:\nאורנית\nSick: 1\nPopulation: 8822",
          "At:\nבנימינה-גבעת עדה\nSick: 1\nPopulation: 14383",
          "At:\nבענה\nSick: 1\nPopulation: 8355",
          "At:\nבת חפר\nSick: 1\nPopulation: 5124",
          "At:\nג'לג'וליה\nSick: 1\nPopulation: 10011",
          "At:\nזמר\nSick: 1\nPopulation: 6926",
          "At:\nחורפיש\nSick: 1\nPopulation: 6288",
          "At:\nטובא-זנגריה\nSick: 1\nPopulation: 6648",
          "At:\nירוחם\nSick: 1\nPopulation: 10126",
          "At:\nכפר ורדים\nSick: 1\nPopulation: 5599",
          "At:\nכפר יאסיף\nSick: 1\nPopulation: 10577",
          "At:\nמג'דל שמס\nSick: 1\nPopulation: 11089",
          "At:\nנחף\nSick: 1\nPopulation: 13167",
          "At:\nעיילבון\nSick: 1\nPopulation: 5677",
          "At:\nעראבה\nSick: 1\nPopulation: 25876",
          "At:\nפרדסיה\nSick: 1\nPopulation: 6027",
          "At:\nקלנסווה\nSick: 1\nPopulation: 22740",
          "At:\nתל שבע\nSick: 1\nPopulation: 19850"
         ],
         "lat": [
          "31.778345",
          "32.0873899",
          "32.0804808",
          "31.6644874",
          "32.0877639",
          "31.9635712",
          "32.3286181",
          "32.0495306",
          "31.746214",
          "31.2525238",
          "31.7977314",
          "32.0686867",
          "32.0193121",
          "32.0154565",
          "32.8191218",
          "31.9324487",
          "31.9085744",
          "32.7938522",
          "32.6765744",
          "32.0309712",
          "32.1862752",
          "31.699222650000003",
          "32.1720339",
          "31.8952532",
          "31.6536462",
          "32.0331756",
          "32.1773471",
          "31.9489012",
          "32.6075587",
          "31.9907676",
          "32.0581907",
          "32.9646301",
          "31.8035128",
          "31.9279988",
          "31.7314672",
          "31.8814286",
          "32.1431276",
          "32.1561974",
          "32.0729606",
          "31.7705643",
          "33.006306",
          "31.6093998",
          "32.0004845",
          "32.0769463",
          "31.526474",
          "32.0604256",
          "32.5711587",
          "32.43699",
          "32.2724852",
          "31.787109",
          "31.8768863",
          "32.91098395",
          "32.0952929",
          "32.0282087",
          "31.4213546",
          "32.7509558",
          "31.8117747",
          "31.0686612",
          "32.86217705",
          "32.7023065",
          "31.3125831",
          "31.9443532",
          "32.8115779",
          "31.8623329",
          "32.8534876",
          "32.5158385",
          "32.7613834",
          "32.2536471",
          "32.314504",
          "32.9281731",
          "31.2612199",
          "32.281965650000004",
          "31.5277619",
          "29.5569348",
          "32.655224849999996",
          "31.2659365",
          "31.8057198",
          "33.0157394",
          "33.2074733",
          "32.2671249",
          "32.22014095",
          "31.9295577",
          "32.9920262",
          "32.6927785",
          "38.6115892",
          "32.7066301",
          "32.842034",
          "32.6758493",
          "32.3293809",
          "32.767822",
          "31.2465374",
          "31.3703233",
          "31.8514378",
          "32.8638052",
          "32.475041",
          "32.84456165",
          "32.1714785",
          "32.1730798",
          "32.7756653",
          "32.7708797",
          "33.0760504",
          "32.1060817",
          "31.7891954",
          "31.8503299",
          "31.7156945",
          "31.8607858",
          "31.3932933",
          "32.5090151",
          "32.6815837",
          "32.0004347",
          "32.5375618",
          "32.4616062",
          "32.6854269",
          "32.5494975",
          "32.24124",
          "33.20076",
          "31.9420729",
          "32.53230915",
          "32.7362276",
          "32.9295224",
          "32.9430618",
          "32.2346856",
          "32.7449001",
          "32.5029914",
          "31.3270854",
          "32.690712",
          "32.70818545",
          "32.701698",
          "32.8045765",
          "31.806353",
          "32.1309209",
          "32.52568875",
          "32.92773",
          "32.3331192",
          "32.149177800000004",
          "32.36220995",
          "33.01737",
          "32.9663198",
          "30.9888033",
          "32.9972507",
          "32.9533067",
          "33.2684288",
          "32.9345686",
          "32.838349",
          "32.8486132",
          "32.3056651",
          "32.2848603",
          "31.2456487"
         ],
         "legendgroup": "",
         "locationmode": "country names",
         "lon": [
          "35.2250786",
          "34.8324376",
          "34.7805274",
          "34.5730157",
          "34.8859985",
          "34.8101149",
          "34.8566246",
          "34.9507087",
          "34.9886825",
          "34.7905787",
          "34.6529922",
          "34.8246812",
          "34.7804076",
          "34.7505283",
          "34.9983856",
          "35.0433428",
          "35.0069297",
          "35.5328566",
          "35.2413237",
          "34.8523936",
          "34.8692427",
          "35.10483926101966",
          "34.83099838250153",
          "34.8105616",
          "35.1508714",
          "34.8907527",
          "34.907459",
          "34.8884857",
          "35.2890861",
          "34.849123",
          "34.85824766018813",
          "35.502451",
          "35.1012545",
          "34.8623473",
          "34.74348",
          "35.2452887",
          "34.8380853",
          "34.8930354",
          "34.8113279",
          "35.2987457",
          "35.0945579",
          "34.7711983",
          "34.9465419",
          "34.8524656",
          "34.5969696",
          "34.8760954",
          "34.9529966",
          "34.9198258",
          "34.886767",
          "34.7096635",
          "34.7382974",
          "35.293544377961176",
          "34.9533225",
          "34.802593",
          "34.5884252",
          "35.1013589",
          "34.7803882",
          "35.0366482",
          "35.07888809842724",
          "35.3183216",
          "34.6208537",
          "34.8398648",
          "35.1163659",
          "35.1687498",
          "35.1978748",
          "35.152491",
          "34.9715506",
          "34.9185387",
          "34.9321169",
          "35.0756378",
          "35.214581",
          "34.91045479199278",
          "35.1191651",
          "34.9497949",
          "35.09980553528567",
          "34.847616",
          "35.152731",
          "35.2759666",
          "35.5707828",
          "35.0089029",
          "34.994418065862405",
          "34.7990609",
          "35.6877004",
          "35.3716044",
          "47.4479834",
          "35.3048161",
          "35.100408081423566",
          "35.3918678",
          "-83.1137366",
          "35.250779",
          "35.0930574",
          "34.8136886",
          "34.8411635",
          "35.3023184",
          "34.9761087",
          "35.08431641851019",
          "35.0980763",
          "35.0158426",
          "35.2216911",
          "35.0381249",
          "35.1485842",
          "35.1851368",
          "34.7605995",
          "35.2739808",
          "35.0948306",
          "34.823337",
          "34.7547693",
          "34.9195677",
          "35.3239769",
          "34.8306669",
          "34.9132199",
          "35.0446899",
          "35.2789052",
          "35.15448566167521",
          "34.9983819",
          "35.7779892",
          "35.2224417",
          "35.104832753720274",
          "35.1546502",
          "35.1467427",
          "35.1869431",
          "34.9544553",
          "35.3437869",
          "35.0504995",
          "34.9384389",
          "34.9422744",
          "35.13072176699177",
          "35.1668263",
          "35.1723866",
          "35.1088651",
          "34.9919607",
          "34.959703819638506",
          "35.2711176",
          "35.013631778585264",
          "34.94175420560542",
          "35.03251314416771",
          "35.3469551",
          "35.5944243",
          "34.9250975",
          "35.2725342",
          "35.165698",
          "35.769371",
          "35.31763",
          "35.39777",
          "35.3358268",
          "34.9122678",
          "34.9801701",
          "34.8577683"
         ],
         "marker": {
          "color": "#636efa",
          "size": [
           1132,
           1061,
           337,
           170,
           138,
           132,
           126,
           120,
           118,
           112,
           111,
           106,
           104,
           102,
           96,
           91,
           91,
           83,
           82,
           74,
           73,
           70,
           69,
           66,
           61,
           59,
           50,
           44,
           41,
           39,
           38,
           37,
           36,
           36,
           35,
           32,
           32,
           29,
           27,
           27,
           26,
           26,
           25,
           24,
           24,
           23,
           22,
           22,
           21,
           21,
           21,
           21,
           21,
           20,
           20,
           20,
           19,
           19,
           19,
           18,
           17,
           16,
           16,
           14,
           14,
           13,
           13,
           13,
           12,
           12,
           12,
           11,
           11,
           10,
           10,
           10,
           9,
           9,
           9,
           8,
           8,
           8,
           8,
           7,
           7,
           7,
           7,
           7,
           6,
           6,
           6,
           6,
           6,
           6,
           6,
           6,
           6,
           5,
           5,
           5,
           5,
           4,
           4,
           4,
           4,
           4,
           4,
           3,
           3,
           3,
           3,
           3,
           3,
           3,
           3,
           2,
           2,
           2,
           2,
           2,
           2,
           2,
           2,
           2,
           2,
           2,
           2,
           2,
           2,
           1,
           1,
           1,
           1,
           1,
           1,
           1,
           1,
           1,
           1,
           1,
           1,
           1,
           1,
           1,
           1,
           1,
           1,
           1
          ],
          "sizemode": "area",
          "sizeref": 2.83
         },
         "name": "",
         "showlegend": false,
         "type": "scattergeo"
        }
       ],
       "layout": {
        "geo": {
         "center": {
          "lat": 31.778345,
          "lon": 35.2250786
         },
         "countrycolor": "RebeccaPurple",
         "domain": {
          "x": [
           0,
           1
          ],
          "y": [
           0,
           1
          ]
         },
         "projection": {
          "type": "natural earth"
         },
         "showcountries": true
        },
        "legend": {
         "itemsizing": "constant",
         "tracegroupgap": 0
        },
        "margin": {
         "t": 60
        },
        "template": {
         "data": {
          "bar": [
           {
            "error_x": {
             "color": "#2a3f5f"
            },
            "error_y": {
             "color": "#2a3f5f"
            },
            "marker": {
             "line": {
              "color": "#E5ECF6",
              "width": 0.5
             }
            },
            "type": "bar"
           }
          ],
          "barpolar": [
           {
            "marker": {
             "line": {
              "color": "#E5ECF6",
              "width": 0.5
             }
            },
            "type": "barpolar"
           }
          ],
          "carpet": [
           {
            "aaxis": {
             "endlinecolor": "#2a3f5f",
             "gridcolor": "white",
             "linecolor": "white",
             "minorgridcolor": "white",
             "startlinecolor": "#2a3f5f"
            },
            "baxis": {
             "endlinecolor": "#2a3f5f",
             "gridcolor": "white",
             "linecolor": "white",
             "minorgridcolor": "white",
             "startlinecolor": "#2a3f5f"
            },
            "type": "carpet"
           }
          ],
          "choropleth": [
           {
            "colorbar": {
             "outlinewidth": 0,
             "ticks": ""
            },
            "type": "choropleth"
           }
          ],
          "contour": [
           {
            "colorbar": {
             "outlinewidth": 0,
             "ticks": ""
            },
            "colorscale": [
             [
              0,
              "#0d0887"
             ],
             [
              0.1111111111111111,
              "#46039f"
             ],
             [
              0.2222222222222222,
              "#7201a8"
             ],
             [
              0.3333333333333333,
              "#9c179e"
             ],
             [
              0.4444444444444444,
              "#bd3786"
             ],
             [
              0.5555555555555556,
              "#d8576b"
             ],
             [
              0.6666666666666666,
              "#ed7953"
             ],
             [
              0.7777777777777778,
              "#fb9f3a"
             ],
             [
              0.8888888888888888,
              "#fdca26"
             ],
             [
              1,
              "#f0f921"
             ]
            ],
            "type": "contour"
           }
          ],
          "contourcarpet": [
           {
            "colorbar": {
             "outlinewidth": 0,
             "ticks": ""
            },
            "type": "contourcarpet"
           }
          ],
          "heatmap": [
           {
            "colorbar": {
             "outlinewidth": 0,
             "ticks": ""
            },
            "colorscale": [
             [
              0,
              "#0d0887"
             ],
             [
              0.1111111111111111,
              "#46039f"
             ],
             [
              0.2222222222222222,
              "#7201a8"
             ],
             [
              0.3333333333333333,
              "#9c179e"
             ],
             [
              0.4444444444444444,
              "#bd3786"
             ],
             [
              0.5555555555555556,
              "#d8576b"
             ],
             [
              0.6666666666666666,
              "#ed7953"
             ],
             [
              0.7777777777777778,
              "#fb9f3a"
             ],
             [
              0.8888888888888888,
              "#fdca26"
             ],
             [
              1,
              "#f0f921"
             ]
            ],
            "type": "heatmap"
           }
          ],
          "heatmapgl": [
           {
            "colorbar": {
             "outlinewidth": 0,
             "ticks": ""
            },
            "colorscale": [
             [
              0,
              "#0d0887"
             ],
             [
              0.1111111111111111,
              "#46039f"
             ],
             [
              0.2222222222222222,
              "#7201a8"
             ],
             [
              0.3333333333333333,
              "#9c179e"
             ],
             [
              0.4444444444444444,
              "#bd3786"
             ],
             [
              0.5555555555555556,
              "#d8576b"
             ],
             [
              0.6666666666666666,
              "#ed7953"
             ],
             [
              0.7777777777777778,
              "#fb9f3a"
             ],
             [
              0.8888888888888888,
              "#fdca26"
             ],
             [
              1,
              "#f0f921"
             ]
            ],
            "type": "heatmapgl"
           }
          ],
          "histogram": [
           {
            "marker": {
             "colorbar": {
              "outlinewidth": 0,
              "ticks": ""
             }
            },
            "type": "histogram"
           }
          ],
          "histogram2d": [
           {
            "colorbar": {
             "outlinewidth": 0,
             "ticks": ""
            },
            "colorscale": [
             [
              0,
              "#0d0887"
             ],
             [
              0.1111111111111111,
              "#46039f"
             ],
             [
              0.2222222222222222,
              "#7201a8"
             ],
             [
              0.3333333333333333,
              "#9c179e"
             ],
             [
              0.4444444444444444,
              "#bd3786"
             ],
             [
              0.5555555555555556,
              "#d8576b"
             ],
             [
              0.6666666666666666,
              "#ed7953"
             ],
             [
              0.7777777777777778,
              "#fb9f3a"
             ],
             [
              0.8888888888888888,
              "#fdca26"
             ],
             [
              1,
              "#f0f921"
             ]
            ],
            "type": "histogram2d"
           }
          ],
          "histogram2dcontour": [
           {
            "colorbar": {
             "outlinewidth": 0,
             "ticks": ""
            },
            "colorscale": [
             [
              0,
              "#0d0887"
             ],
             [
              0.1111111111111111,
              "#46039f"
             ],
             [
              0.2222222222222222,
              "#7201a8"
             ],
             [
              0.3333333333333333,
              "#9c179e"
             ],
             [
              0.4444444444444444,
              "#bd3786"
             ],
             [
              0.5555555555555556,
              "#d8576b"
             ],
             [
              0.6666666666666666,
              "#ed7953"
             ],
             [
              0.7777777777777778,
              "#fb9f3a"
             ],
             [
              0.8888888888888888,
              "#fdca26"
             ],
             [
              1,
              "#f0f921"
             ]
            ],
            "type": "histogram2dcontour"
           }
          ],
          "mesh3d": [
           {
            "colorbar": {
             "outlinewidth": 0,
             "ticks": ""
            },
            "type": "mesh3d"
           }
          ],
          "parcoords": [
           {
            "line": {
             "colorbar": {
              "outlinewidth": 0,
              "ticks": ""
             }
            },
            "type": "parcoords"
           }
          ],
          "pie": [
           {
            "automargin": true,
            "type": "pie"
           }
          ],
          "scatter": [
           {
            "marker": {
             "colorbar": {
              "outlinewidth": 0,
              "ticks": ""
             }
            },
            "type": "scatter"
           }
          ],
          "scatter3d": [
           {
            "line": {
             "colorbar": {
              "outlinewidth": 0,
              "ticks": ""
             }
            },
            "marker": {
             "colorbar": {
              "outlinewidth": 0,
              "ticks": ""
             }
            },
            "type": "scatter3d"
           }
          ],
          "scattercarpet": [
           {
            "marker": {
             "colorbar": {
              "outlinewidth": 0,
              "ticks": ""
             }
            },
            "type": "scattercarpet"
           }
          ],
          "scattergeo": [
           {
            "marker": {
             "colorbar": {
              "outlinewidth": 0,
              "ticks": ""
             }
            },
            "type": "scattergeo"
           }
          ],
          "scattergl": [
           {
            "marker": {
             "colorbar": {
              "outlinewidth": 0,
              "ticks": ""
             }
            },
            "type": "scattergl"
           }
          ],
          "scattermapbox": [
           {
            "marker": {
             "colorbar": {
              "outlinewidth": 0,
              "ticks": ""
             }
            },
            "type": "scattermapbox"
           }
          ],
          "scatterpolar": [
           {
            "marker": {
             "colorbar": {
              "outlinewidth": 0,
              "ticks": ""
             }
            },
            "type": "scatterpolar"
           }
          ],
          "scatterpolargl": [
           {
            "marker": {
             "colorbar": {
              "outlinewidth": 0,
              "ticks": ""
             }
            },
            "type": "scatterpolargl"
           }
          ],
          "scatterternary": [
           {
            "marker": {
             "colorbar": {
              "outlinewidth": 0,
              "ticks": ""
             }
            },
            "type": "scatterternary"
           }
          ],
          "surface": [
           {
            "colorbar": {
             "outlinewidth": 0,
             "ticks": ""
            },
            "colorscale": [
             [
              0,
              "#0d0887"
             ],
             [
              0.1111111111111111,
              "#46039f"
             ],
             [
              0.2222222222222222,
              "#7201a8"
             ],
             [
              0.3333333333333333,
              "#9c179e"
             ],
             [
              0.4444444444444444,
              "#bd3786"
             ],
             [
              0.5555555555555556,
              "#d8576b"
             ],
             [
              0.6666666666666666,
              "#ed7953"
             ],
             [
              0.7777777777777778,
              "#fb9f3a"
             ],
             [
              0.8888888888888888,
              "#fdca26"
             ],
             [
              1,
              "#f0f921"
             ]
            ],
            "type": "surface"
           }
          ],
          "table": [
           {
            "cells": {
             "fill": {
              "color": "#EBF0F8"
             },
             "line": {
              "color": "white"
             }
            },
            "header": {
             "fill": {
              "color": "#C8D4E3"
             },
             "line": {
              "color": "white"
             }
            },
            "type": "table"
           }
          ]
         },
         "layout": {
          "annotationdefaults": {
           "arrowcolor": "#2a3f5f",
           "arrowhead": 0,
           "arrowwidth": 1
          },
          "coloraxis": {
           "colorbar": {
            "outlinewidth": 0,
            "ticks": ""
           }
          },
          "colorscale": {
           "diverging": [
            [
             0,
             "#8e0152"
            ],
            [
             0.1,
             "#c51b7d"
            ],
            [
             0.2,
             "#de77ae"
            ],
            [
             0.3,
             "#f1b6da"
            ],
            [
             0.4,
             "#fde0ef"
            ],
            [
             0.5,
             "#f7f7f7"
            ],
            [
             0.6,
             "#e6f5d0"
            ],
            [
             0.7,
             "#b8e186"
            ],
            [
             0.8,
             "#7fbc41"
            ],
            [
             0.9,
             "#4d9221"
            ],
            [
             1,
             "#276419"
            ]
           ],
           "sequential": [
            [
             0,
             "#0d0887"
            ],
            [
             0.1111111111111111,
             "#46039f"
            ],
            [
             0.2222222222222222,
             "#7201a8"
            ],
            [
             0.3333333333333333,
             "#9c179e"
            ],
            [
             0.4444444444444444,
             "#bd3786"
            ],
            [
             0.5555555555555556,
             "#d8576b"
            ],
            [
             0.6666666666666666,
             "#ed7953"
            ],
            [
             0.7777777777777778,
             "#fb9f3a"
            ],
            [
             0.8888888888888888,
             "#fdca26"
            ],
            [
             1,
             "#f0f921"
            ]
           ],
           "sequentialminus": [
            [
             0,
             "#0d0887"
            ],
            [
             0.1111111111111111,
             "#46039f"
            ],
            [
             0.2222222222222222,
             "#7201a8"
            ],
            [
             0.3333333333333333,
             "#9c179e"
            ],
            [
             0.4444444444444444,
             "#bd3786"
            ],
            [
             0.5555555555555556,
             "#d8576b"
            ],
            [
             0.6666666666666666,
             "#ed7953"
            ],
            [
             0.7777777777777778,
             "#fb9f3a"
            ],
            [
             0.8888888888888888,
             "#fdca26"
            ],
            [
             1,
             "#f0f921"
            ]
           ]
          },
          "colorway": [
           "#636efa",
           "#EF553B",
           "#00cc96",
           "#ab63fa",
           "#FFA15A",
           "#19d3f3",
           "#FF6692",
           "#B6E880",
           "#FF97FF",
           "#FECB52"
          ],
          "font": {
           "color": "#2a3f5f"
          },
          "geo": {
           "bgcolor": "white",
           "lakecolor": "white",
           "landcolor": "#E5ECF6",
           "showlakes": true,
           "showland": true,
           "subunitcolor": "white"
          },
          "hoverlabel": {
           "align": "left"
          },
          "hovermode": "closest",
          "mapbox": {
           "style": "light"
          },
          "paper_bgcolor": "white",
          "plot_bgcolor": "#E5ECF6",
          "polar": {
           "angularaxis": {
            "gridcolor": "white",
            "linecolor": "white",
            "ticks": ""
           },
           "bgcolor": "#E5ECF6",
           "radialaxis": {
            "gridcolor": "white",
            "linecolor": "white",
            "ticks": ""
           }
          },
          "scene": {
           "xaxis": {
            "backgroundcolor": "#E5ECF6",
            "gridcolor": "white",
            "gridwidth": 2,
            "linecolor": "white",
            "showbackground": true,
            "ticks": "",
            "zerolinecolor": "white"
           },
           "yaxis": {
            "backgroundcolor": "#E5ECF6",
            "gridcolor": "white",
            "gridwidth": 2,
            "linecolor": "white",
            "showbackground": true,
            "ticks": "",
            "zerolinecolor": "white"
           },
           "zaxis": {
            "backgroundcolor": "#E5ECF6",
            "gridcolor": "white",
            "gridwidth": 2,
            "linecolor": "white",
            "showbackground": true,
            "ticks": "",
            "zerolinecolor": "white"
           }
          },
          "shapedefaults": {
           "line": {
            "color": "#2a3f5f"
           }
          },
          "ternary": {
           "aaxis": {
            "gridcolor": "white",
            "linecolor": "white",
            "ticks": ""
           },
           "baxis": {
            "gridcolor": "white",
            "linecolor": "white",
            "ticks": ""
           },
           "bgcolor": "#E5ECF6",
           "caxis": {
            "gridcolor": "white",
            "linecolor": "white",
            "ticks": ""
           }
          },
          "title": {
           "x": 0.05
          },
          "xaxis": {
           "automargin": true,
           "gridcolor": "white",
           "linecolor": "white",
           "ticks": "",
           "title": {
            "standoff": 15
           },
           "zerolinecolor": "white",
           "zerolinewidth": 2
          },
          "yaxis": {
           "automargin": true,
           "gridcolor": "white",
           "linecolor": "white",
           "ticks": "",
           "title": {
            "standoff": 15
           },
           "zerolinecolor": "white",
           "zerolinewidth": 2
          }
         }
        }
       }
      },
      "text/html": [
       "<div>\n",
       "        \n",
       "        \n",
       "            <div id=\"6f421b49-d669-4446-b4d5-25e2b58378f1\" class=\"plotly-graph-div\" style=\"height:525px; width:100%;\"></div>\n",
       "            <script type=\"text/javascript\">\n",
       "                require([\"plotly\"], function(Plotly) {\n",
       "                    window.PLOTLYENV=window.PLOTLYENV || {};\n",
       "                    \n",
       "                if (document.getElementById(\"6f421b49-d669-4446-b4d5-25e2b58378f1\")) {\n",
       "                    Plotly.newPlot(\n",
       "                        '6f421b49-d669-4446-b4d5-25e2b58378f1',\n",
       "                        [{\"geo\": \"geo\", \"hoverlabel\": {\"namelength\": 0}, \"hovertemplate\": \"<b>%{hovertext}</b><br><br>sick=%{marker.size}<br>lat=%{lat}<br>lon=%{lon}\", \"hovertext\": [\"At:\\n\\u05d9\\u05e8\\u05d5\\u05e9\\u05dc\\u05d9\\u05dd\\nSick: 1132\\nPopulation: 914559\", \"At:\\n\\u05d1\\u05e0\\u05d9 \\u05d1\\u05e8\\u05e7\\nSick: 1061\\nPopulation: 195298\", \"At:\\n\\u05ea\\u05dc \\u05d0\\u05d1\\u05d9\\u05d1 - \\u05d9\\u05e4\\u05d5\\nSick: 337\\nPopulation: 450192\", \"At:\\n\\u05d0\\u05e9\\u05e7\\u05dc\\u05d5\\u05df\\nSick: 170\\nPopulation: 139032\", \"At:\\n\\u05e4\\u05ea\\u05d7 \\u05ea\\u05e7\\u05d5\\u05d5\\u05d4\\nSick: 138\\nPopulation: 242478\", \"At:\\n\\u05e8\\u05d0\\u05e9\\u05d5\\u05df \\u05dc\\u05e6\\u05d9\\u05d5\\u05df\\nSick: 132\\nPopulation: 241010\", \"At:\\n\\u05e0\\u05ea\\u05e0\\u05d9\\u05d4\\nSick: 126\\nPopulation: 213971\", \"At:\\n\\u05d0\\u05dc\\u05e2\\u05d3\\nSick: 120\\nPopulation: 46760\", \"At:\\n\\u05d1\\u05d9\\u05ea \\u05e9\\u05de\\u05e9\\nSick: 118\\nPopulation: 120812\", \"At:\\n\\u05d1\\u05d0\\u05e8 \\u05e9\\u05d1\\u05e2\\nSick: 112\\nPopulation: 196755\", \"At:\\n\\u05d0\\u05e9\\u05d3\\u05d5\\u05d3\\nSick: 111\\nPopulation: 225073\", \"At:\\n\\u05e8\\u05de\\u05ea \\u05d2\\u05df\\nSick: 106\\nPopulation: 143370\", \"At:\\n\\u05d7\\u05d5\\u05dc\\u05d5\\u05df\\nSick: 104\\nPopulation: 185741\", \"At:\\n\\u05d1\\u05ea \\u05d9\\u05dd\\nSick: 102\\nPopulation: 130523\", \"At:\\n\\u05d7\\u05d9\\u05e4\\u05d4\\nSick: 96\\nPopulation: 272584\", \"At:\\n\\u05de\\u05d5\\u05d3\\u05d9\\u05e2\\u05d9\\u05df \\u05e2\\u05d9\\u05dc\\u05d9\\u05ea\\nSick: 91\\nPopulation: 73808\", \"At:\\n\\u05de\\u05d5\\u05d3\\u05d9\\u05e2\\u05d9\\u05df-\\u05de\\u05db\\u05d1\\u05d9\\u05dd-\\u05e8\\u05e2\\u05d5\\u05ea\\nSick: 91\\nPopulation: 87108\", \"At:\\n\\u05d8\\u05d1\\u05e8\\u05d9\\u05d4\\nSick: 83\\nPopulation: 44353\", \"At:\\n\\u05de\\u05d2\\u05d3\\u05dc \\u05d4\\u05e2\\u05de\\u05e7\\nSick: 82\\nPopulation: 26058\", \"At:\\n\\u05d0\\u05d5\\u05e8 \\u05d9\\u05d4\\u05d5\\u05d3\\u05d4\\nSick: 74\\nPopulation: 34843\", \"At:\\n\\u05e8\\u05e2\\u05e0\\u05e0\\u05d4\\nSick: 73\\nPopulation: 73979\", \"At:\\n\\u05d1\\u05d9\\u05ea\\u05e8 \\u05e2\\u05d9\\u05dc\\u05d9\\u05ea\\nSick: 70\\nPopulation: 59240\", \"At:\\n\\u05d4\\u05e8\\u05e6\\u05dc\\u05d9\\u05d4\\nSick: 69\\nPopulation: 90900\", \"At:\\n\\u05e8\\u05d7\\u05d5\\u05d1\\u05d5\\u05ea\\nSick: 66\\nPopulation: 137178\", \"At:\\n\\u05d0\\u05e4\\u05e8\\u05ea\\nSick: 61\\nPopulation: 10676\", \"At:\\n\\u05d9\\u05d4\\u05d5\\u05d3-\\u05de\\u05d5\\u05e0\\u05d5\\u05e1\\u05d5\\u05df\\nSick: 59\\nPopulation: 29104\", \"At:\\n\\u05db\\u05e4\\u05e8 \\u05e1\\u05d1\\u05d0\\nSick: 50\\nPopulation: 97412\", \"At:\\n\\u05dc\\u05d5\\u05d3\\nSick: 44\\nPopulation: 75038\", \"At:\\n\\u05e2\\u05e4\\u05d5\\u05dc\\u05d4\\nSick: 41\\nPopulation: 50886\", \"At:\\n\\u05db\\u05e4\\u05e8 \\u05d7\\u05d1\\\"\\u05d3\\nSick: 39\\nPopulation: 6724\", \"At:\\n\\u05e7\\u05e8\\u05d9\\u05ea \\u05d0\\u05d5\\u05e0\\u05d5\\nSick: 38\\nPopulation: 37112\", \"At:\\n\\u05e6\\u05e4\\u05ea\\nSick: 37\\nPopulation: 35671\", \"At:\\n\\u05e7\\u05e8\\u05d9\\u05ea \\u05d9\\u05e2\\u05e8\\u05d9\\u05dd\\nSick: 36\\nPopulation: 5713\", \"At:\\n\\u05e8\\u05de\\u05dc\\u05d4\\nSick: 36\\nPopulation: 75246\", \"At:\\n\\u05e7\\u05e8\\u05d9\\u05ea \\u05de\\u05dc\\u05d0\\u05db\\u05d9\\nSick: 35\\nPopulation: 23691\", \"At:\\n\\u05db\\u05d5\\u05db\\u05d1 \\u05d9\\u05e2\\u05e7\\u05d1\\nSick: 32\\nPopulation: 8602\", \"At:\\n\\u05e8\\u05de\\u05ea \\u05d4\\u05e9\\u05e8\\u05d5\\u05df\\nSick: 32\\nPopulation: 44896\", \"At:\\n\\u05d4\\u05d5\\u05d3 \\u05d4\\u05e9\\u05e8\\u05d5\\u05df\\nSick: 29\\nPopulation: 59171\", \"At:\\n\\u05d2\\u05d1\\u05e2\\u05ea\\u05d9\\u05d9\\u05dd\\nSick: 27\\nPopulation: 55123\", \"At:\\n\\u05de\\u05e2\\u05dc\\u05d4 \\u05d0\\u05d3\\u05d5\\u05de\\u05d9\\u05dd\\nSick: 27\\nPopulation: 37469\", \"At:\\n\\u05e0\\u05d4\\u05e8\\u05d9\\u05d4\\nSick: 26\\nPopulation: 58750\", \"At:\\n\\u05e7\\u05e8\\u05d9\\u05ea \\u05d2\\u05ea\\nSick: 26\\nPopulation: 55400\", \"At:\\n\\u05e9\\u05d5\\u05d4\\u05dd\\nSick: 25\\nPopulation: 20041\", \"At:\\n\\u05d2\\u05d1\\u05e2\\u05ea \\u05e9\\u05de\\u05d5\\u05d0\\u05dc\\nSick: 24\\nPopulation: 24538\", \"At:\\n\\u05e9\\u05d3\\u05e8\\u05d5\\u05ea\\nSick: 24\\nPopulation: 25891\", \"At:\\n\\u05d2\\u05e0\\u05d9 \\u05ea\\u05e7\\u05d5\\u05d5\\u05d4\\nSick: 23\\nPopulation: 18930\", \"At:\\n\\u05d6\\u05db\\u05e8\\u05d5\\u05df \\u05d9\\u05e2\\u05e7\\u05d1\\nSick: 22\\nPopulation: 22341\", \"At:\\n\\u05d7\\u05d3\\u05e8\\u05d4\\nSick: 22\\nPopulation: 94104\", \"At:\\n\\u05d0\\u05d1\\u05df \\u05d9\\u05d4\\u05d5\\u05d3\\u05d4\\nSick: 21\\nPopulation: 13263\", \"At:\\n\\u05d2\\u05df \\u05d9\\u05d1\\u05e0\\u05d4\\nSick: 21\\nPopulation: 22410\", \"At:\\n\\u05d9\\u05d1\\u05e0\\u05d4\\nSick: 21\\nPopulation: 45555\", \"At:\\n\\u05db\\u05e8\\u05de\\u05d9\\u05d0\\u05dc\\nSick: 21\\nPopulation: 46596\", \"At:\\n\\u05e8\\u05d0\\u05e9 \\u05d4\\u05e2\\u05d9\\u05df\\nSick: 21\\nPopulation: 53965\", \"At:\\n\\u05d0\\u05d6\\u05d5\\u05e8\\nSick: 20\\nPopulation: 11819\", \"At:\\n\\u05e0\\u05ea\\u05d9\\u05d1\\u05d5\\u05ea\\nSick: 20\\nPopulation: 36511\", \"At:\\n\\u05e8\\u05db\\u05e1\\u05d9\\u05dd\\nSick: 20\\nPopulation: 11841\", \"At:\\n\\u05d2\\u05d3\\u05e8\\u05d4\\nSick: 19\\nPopulation: 24633\", \"At:\\n\\u05d3\\u05d9\\u05de\\u05d5\\u05e0\\u05d4\\nSick: 19\\nPopulation: 35377\", \"At:\\n\\u05e7\\u05e8\\u05d9\\u05ea \\u05d9\\u05dd\\nSick: 19\\nPopulation: 39556\", \"At:\\n\\u05e0\\u05d5\\u05e3 \\u05d4\\u05d2\\u05dc\\u05d9\\u05dc\\nSick: 18\\nPopulation: 43811\", \"At:\\n\\u05d0\\u05d5\\u05e4\\u05e7\\u05d9\\u05dd\\nSick: 17\\nPopulation: 30185\", \"At:\\n\\u05d1\\u05d0\\u05e8 \\u05d9\\u05e2\\u05e7\\u05d1\\nSick: 16\\nPopulation: 24216\", \"At:\\n\\u05e7\\u05e8\\u05d9\\u05ea \\u05d0\\u05ea\\u05d0\\nSick: 16\\nPopulation: 57108\", \"At:\\n\\u05d2\\u05d1\\u05e2\\u05ea \\u05d6\\u05d0\\u05d1\\nSick: 14\\nPopulation: 18510\", \"At:\\n\\u05d8\\u05de\\u05e8\\u05d4\\nSick: 14\\nPopulation: 33792\", \"At:\\n\\u05d0\\u05d5\\u05dd \\u05d0\\u05dc-\\u05e4\\u05d7\\u05dd\\nSick: 13\\nPopulation: 55324\", \"At:\\n\\u05d8\\u05d9\\u05e8\\u05ea \\u05db\\u05e8\\u05de\\u05dc\\nSick: 13\\nPopulation: 22243\", \"At:\\n\\u05ea\\u05dc \\u05de\\u05d5\\u05e0\\u05d3\\nSick: 13\\nPopulation: 12593\", \"At:\\n\\u05db\\u05e4\\u05e8 \\u05d9\\u05d5\\u05e0\\u05d4\\nSick: 12\\nPopulation: 21301\", \"At:\\n\\u05e2\\u05db\\u05d5\\nSick: 12\\nPopulation: 50872\", \"At:\\n\\u05e2\\u05e8\\u05d3\\nSick: 12\\nPopulation: 26763\", \"At:\\n\\u05e7\\u05d3\\u05d9\\u05de\\u05d4-\\u05e6\\u05d5\\u05e8\\u05df\\nSick: 11\\nPopulation: 20831\", \"At:\\n\\u05e7\\u05e8\\u05d9\\u05ea \\u05d0\\u05e8\\u05d1\\u05e2\\nSick: 11\\nPopulation: 7364\", \"At:\\n\\u05d0\\u05d9\\u05dc\\u05ea\\nSick: 10\\nPopulation: 56568\", \"At:\\n\\u05d9\\u05e7\\u05e0\\u05e2\\u05dd \\u05e2\\u05d9\\u05dc\\u05d9\\u05ea\\nSick: 10\\nPopulation: 22711\", \"At:\\n\\u05e2\\u05d5\\u05de\\u05e8\\nSick: 10\\nPopulation: 8016\", \"At:\\n\\u05de\\u05d1\\u05e9\\u05e8\\u05ea \\u05e6\\u05d9\\u05d5\\u05df\\nSick: 9\\nPopulation: 23093\", \"At:\\n\\u05de\\u05e2\\u05dc\\u05d5\\u05ea-\\u05ea\\u05e8\\u05e9\\u05d9\\u05d7\\u05d0\\nSick: 9\\nPopulation: 22261\", \"At:\\n\\u05e7\\u05e8\\u05d9\\u05ea \\u05e9\\u05de\\u05d5\\u05e0\\u05d4\\nSick: 9\\nPopulation: 22152\", \"At:\\n\\u05d8\\u05d9\\u05d9\\u05d1\\u05d4\\nSick: 8\\nPopulation: 43144\", \"At:\\n\\u05db\\u05d5\\u05db\\u05d1 \\u05d9\\u05d0\\u05d9\\u05e8\\nSick: 8\\nPopulation: 9143\", \"At:\\n\\u05e0\\u05e1 \\u05e6\\u05d9\\u05d5\\u05e0\\u05d4\\nSick: 8\\nPopulation: 45714\", \"At:\\n\\u05e7\\u05e6\\u05e8\\u05d9\\u05df\\nSick: 8\\nPopulation: 7373\", \"At:\\n\\u05d3\\u05d1\\u05d5\\u05e8\\u05d9\\u05d4\\nSick: 7\\nPopulation: 10414\", \"At:\\n\\u05de\\u05d2\\u05d0\\u05e8\\nSick: 7\\nPopulation: 22364\", \"At:\\n\\u05e0\\u05e6\\u05e8\\u05ea\\nSick: 7\\nPopulation: 78252\", \"At:\\n\\u05e7\\u05e8\\u05d9\\u05ea \\u05d1\\u05d9\\u05d0\\u05dc\\u05d9\\u05e7\\nSick: 7\\nPopulation: 39262\", \"At:\\n\\u05e9\\u05d1\\u05dc\\u05d9 - \\u05d0\\u05d5\\u05dd \\u05d0\\u05dc-\\u05d2\\u05e0\\u05dd\\nSick: 7\\nPopulation: 6367\", \"At:\\n\\u05d2'\\u05ea\\nSick: 6\\nPopulation: 11910\", \"At:\\n\\u05d3\\u05d9\\u05d9\\u05e8 \\u05d7\\u05e0\\u05d0\\nSick: 6\\nPopulation: 10567\", \"At:\\n\\u05db\\u05e1\\u05d9\\u05e4\\u05d4\\nSick: 6\\nPopulation: 16957\", \"At:\\n\\u05dc\\u05d4\\u05d1\\u05d9\\u05dd\\nSick: 6\\nPopulation: 6178\", \"At:\\n\\u05de\\u05d6\\u05db\\u05e8\\u05ea \\u05d1\\u05ea\\u05d9\\u05d4\\nSick: 6\\nPopulation: 14949\", \"At:\\n\\u05e1\\u05d7'\\u05e0\\u05d9\\u05df\\nSick: 6\\nPopulation: 32089\", \"At:\\n\\u05e4\\u05e8\\u05d3\\u05e1 \\u05d7\\u05e0\\u05d4-\\u05db\\u05e8\\u05db\\u05d5\\u05e8\\nSick: 6\\nPopulation: 40622\", \"At:\\n\\u05e7\\u05e8\\u05d9\\u05ea \\u05de\\u05d5\\u05e6\\u05e7\\u05d9\\u05df\\nSick: 6\\nPopulation: 42870\", \"At:\\n\\u05e7\\u05e8\\u05e0\\u05d9 \\u05e9\\u05d5\\u05de\\u05e8\\u05d5\\u05df\\nSick: 6\\nPopulation: 7906\", \"At:\\n\\u05d0\\u05dc\\u05e4\\u05d9 \\u05de\\u05e0\\u05e9\\u05d4\\nSick: 5\\nPopulation: 7771\", \"At:\\n\\u05d1\\u05d9\\u05e8 \\u05d0\\u05dc-\\u05de\\u05db\\u05e1\\u05d5\\u05e8\\nSick: 5\\nPopulation: 9866\", \"At:\\n\\u05e0\\u05e9\\u05e8\\nSick: 5\\nPopulation: 22032\", \"At:\\n\\u05e9\\u05dc\\u05d5\\u05de\\u05d9\\nSick: 5\\nPopulation: 6478\", \"At:\\n\\u05d0\\u05e8\\u05d9\\u05d0\\u05dc\\nSick: 4\\nPopulation: 18251\", \"At:\\n\\u05d1\\u05e0\\u05d9 \\u05e2\\u05d9\\\"\\u05e9\\nSick: 4\\nPopulation: 6837\", \"At:\\n\\u05d2\\u05d1\\u05e2 \\u05d1\\u05e0\\u05d9\\u05de\\u05d9\\u05df\\nSick: 4\\nPopulation: 5299\", \"At:\\n\\u05e6\\u05d5\\u05e8 \\u05d4\\u05d3\\u05e1\\u05d4\\nSick: 4\\nPopulation: 7856\", \"At:\\n\\u05e7\\u05e8\\u05d9\\u05ea \\u05e2\\u05e7\\u05e8\\u05d5\\u05df\\nSick: 4\\nPopulation: 10600\", \"At:\\n\\u05e8\\u05d4\\u05d8\\nSick: 4\\nPopulation: 64649\", \"At:\\n\\u05d0\\u05d5\\u05e8 \\u05e2\\u05e7\\u05d9\\u05d1\\u05d0\\nSick: 3\\nPopulation: 18893\", \"At:\\n\\u05d0\\u05db\\u05e1\\u05d0\\u05dc\\nSick: 3\\nPopulation: 14655\", \"At:\\n\\u05d1\\u05d9\\u05ea \\u05d3\\u05d2\\u05df\\nSick: 3\\nPopulation: 6533\", \"At:\\n\\u05d2'\\u05e1\\u05e8 \\u05d0-\\u05d6\\u05e8\\u05e7\\u05d0\\nSick: 3\\nPopulation: 14732\", \"At:\\n\\u05d7\\u05e8\\u05d9\\u05e9\\nSick: 3\\nPopulation: 8737\", \"At:\\n\\u05d9\\u05e4\\u05d9\\u05e2\\nSick: 3\\nPopulation: 19056\", \"At:\\n\\u05de\\u05e2\\u05dc\\u05d4 \\u05e2\\u05d9\\u05e8\\u05d5\\u05df\\nSick: 3\\nPopulation: 14861\", \"At:\\n\\u05e6\\u05d5\\u05e8 \\u05d9\\u05e6\\u05d7\\u05e7\\nSick: 3\\nPopulation: 5954\", \"At:\\n\\u05d1\\u05d5\\u05e7\\u05e2\\u05d0\\u05ea\\u05d0\\nSick: 2\\nPopulation: 6586\", \"At:\\n\\u05d1\\u05d9\\u05ea \\u05d0\\u05dc\\nSick: 2\\nPopulation: 5767\", \"At:\\n\\u05d1\\u05e1\\u05de\\\"\\u05d4\\nSick: 2\\nPopulation: 10532\", \"At:\\n\\u05d1\\u05e1\\u05de\\u05ea \\u05d8\\u05d1\\u05e2\\u05d5\\u05df\\nSick: 2\\nPopulation: 7833\", \"At:\\n\\u05d2'\\u05d3\\u05d9\\u05d9\\u05d3\\u05d4-\\u05de\\u05db\\u05e8\\nSick: 2\\nPopulation: 20524\", \"At:\\n\\u05d2'\\u05d5\\u05dc\\u05e1\\nSick: 2\\nPopulation: 6147\", \"At:\\n\\u05d8\\u05d9\\u05e8\\u05d4\\nSick: 2\\nPopulation: 26184\", \"At:\\n\\u05db\\u05e4\\u05e8 \\u05db\\u05e0\\u05d0\\nSick: 2\\nPopulation: 22449\", \"At:\\n\\u05db\\u05e4\\u05e8 \\u05e7\\u05e8\\u05e2\\nSick: 2\\nPopulation: 18820\", \"At:\\n\\u05de\\u05d9\\u05ea\\u05e8\\nSick: 2\\nPopulation: 9043\", \"At:\\n\\u05e2\\u05ea\\u05dc\\u05d9\\u05ea\\nSick: 2\\nPopulation: 7442\", \"At:\\n\\u05e7\\u05e8\\u05d9\\u05ea \\u05d8\\u05d1\\u05e2\\u05d5\\u05df\\nSick: 2\\nPopulation: 15831\", \"At:\\n\\u05e8\\u05de\\u05ea \\u05d9\\u05e9\\u05d9\\nSick: 2\\nPopulation: 7236\", \"At:\\n\\u05e9\\u05e4\\u05e8\\u05e2\\u05dd\\nSick: 2\\nPopulation: 40666\", \"At:\\n\\u05d0\\u05d1\\u05d5 \\u05d2\\u05d5\\u05e9\\nSick: 1\\nPopulation: 7792\", \"At:\\n\\u05d0\\u05d5\\u05e8\\u05e0\\u05d9\\u05ea\\nSick: 1\\nPopulation: 8822\", \"At:\\n\\u05d1\\u05e0\\u05d9\\u05de\\u05d9\\u05e0\\u05d4-\\u05d2\\u05d1\\u05e2\\u05ea \\u05e2\\u05d3\\u05d4\\nSick: 1\\nPopulation: 14383\", \"At:\\n\\u05d1\\u05e2\\u05e0\\u05d4\\nSick: 1\\nPopulation: 8355\", \"At:\\n\\u05d1\\u05ea \\u05d7\\u05e4\\u05e8\\nSick: 1\\nPopulation: 5124\", \"At:\\n\\u05d2'\\u05dc\\u05d2'\\u05d5\\u05dc\\u05d9\\u05d4\\nSick: 1\\nPopulation: 10011\", \"At:\\n\\u05d6\\u05de\\u05e8\\nSick: 1\\nPopulation: 6926\", \"At:\\n\\u05d7\\u05d5\\u05e8\\u05e4\\u05d9\\u05e9\\nSick: 1\\nPopulation: 6288\", \"At:\\n\\u05d8\\u05d5\\u05d1\\u05d0-\\u05d6\\u05e0\\u05d2\\u05e8\\u05d9\\u05d4\\nSick: 1\\nPopulation: 6648\", \"At:\\n\\u05d9\\u05e8\\u05d5\\u05d7\\u05dd\\nSick: 1\\nPopulation: 10126\", \"At:\\n\\u05db\\u05e4\\u05e8 \\u05d5\\u05e8\\u05d3\\u05d9\\u05dd\\nSick: 1\\nPopulation: 5599\", \"At:\\n\\u05db\\u05e4\\u05e8 \\u05d9\\u05d0\\u05e1\\u05d9\\u05e3\\nSick: 1\\nPopulation: 10577\", \"At:\\n\\u05de\\u05d2'\\u05d3\\u05dc \\u05e9\\u05de\\u05e1\\nSick: 1\\nPopulation: 11089\", \"At:\\n\\u05e0\\u05d7\\u05e3\\nSick: 1\\nPopulation: 13167\", \"At:\\n\\u05e2\\u05d9\\u05d9\\u05dc\\u05d1\\u05d5\\u05df\\nSick: 1\\nPopulation: 5677\", \"At:\\n\\u05e2\\u05e8\\u05d0\\u05d1\\u05d4\\nSick: 1\\nPopulation: 25876\", \"At:\\n\\u05e4\\u05e8\\u05d3\\u05e1\\u05d9\\u05d4\\nSick: 1\\nPopulation: 6027\", \"At:\\n\\u05e7\\u05dc\\u05e0\\u05e1\\u05d5\\u05d5\\u05d4\\nSick: 1\\nPopulation: 22740\", \"At:\\n\\u05ea\\u05dc \\u05e9\\u05d1\\u05e2\\nSick: 1\\nPopulation: 19850\"], \"lat\": [\"31.778345\", \"32.0873899\", \"32.0804808\", \"31.6644874\", \"32.0877639\", \"31.9635712\", \"32.3286181\", \"32.0495306\", \"31.746214\", \"31.2525238\", \"31.7977314\", \"32.0686867\", \"32.0193121\", \"32.0154565\", \"32.8191218\", \"31.9324487\", \"31.9085744\", \"32.7938522\", \"32.6765744\", \"32.0309712\", \"32.1862752\", \"31.699222650000003\", \"32.1720339\", \"31.8952532\", \"31.6536462\", \"32.0331756\", \"32.1773471\", \"31.9489012\", \"32.6075587\", \"31.9907676\", \"32.0581907\", \"32.9646301\", \"31.8035128\", \"31.9279988\", \"31.7314672\", \"31.8814286\", \"32.1431276\", \"32.1561974\", \"32.0729606\", \"31.7705643\", \"33.006306\", \"31.6093998\", \"32.0004845\", \"32.0769463\", \"31.526474\", \"32.0604256\", \"32.5711587\", \"32.43699\", \"32.2724852\", \"31.787109\", \"31.8768863\", \"32.91098395\", \"32.0952929\", \"32.0282087\", \"31.4213546\", \"32.7509558\", \"31.8117747\", \"31.0686612\", \"32.86217705\", \"32.7023065\", \"31.3125831\", \"31.9443532\", \"32.8115779\", \"31.8623329\", \"32.8534876\", \"32.5158385\", \"32.7613834\", \"32.2536471\", \"32.314504\", \"32.9281731\", \"31.2612199\", \"32.281965650000004\", \"31.5277619\", \"29.5569348\", \"32.655224849999996\", \"31.2659365\", \"31.8057198\", \"33.0157394\", \"33.2074733\", \"32.2671249\", \"32.22014095\", \"31.9295577\", \"32.9920262\", \"32.6927785\", \"38.6115892\", \"32.7066301\", \"32.842034\", \"32.6758493\", \"32.3293809\", \"32.767822\", \"31.2465374\", \"31.3703233\", \"31.8514378\", \"32.8638052\", \"32.475041\", \"32.84456165\", \"32.1714785\", \"32.1730798\", \"32.7756653\", \"32.7708797\", \"33.0760504\", \"32.1060817\", \"31.7891954\", \"31.8503299\", \"31.7156945\", \"31.8607858\", \"31.3932933\", \"32.5090151\", \"32.6815837\", \"32.0004347\", \"32.5375618\", \"32.4616062\", \"32.6854269\", \"32.5494975\", \"32.24124\", \"33.20076\", \"31.9420729\", \"32.53230915\", \"32.7362276\", \"32.9295224\", \"32.9430618\", \"32.2346856\", \"32.7449001\", \"32.5029914\", \"31.3270854\", \"32.690712\", \"32.70818545\", \"32.701698\", \"32.8045765\", \"31.806353\", \"32.1309209\", \"32.52568875\", \"32.92773\", \"32.3331192\", \"32.149177800000004\", \"32.36220995\", \"33.01737\", \"32.9663198\", \"30.9888033\", \"32.9972507\", \"32.9533067\", \"33.2684288\", \"32.9345686\", \"32.838349\", \"32.8486132\", \"32.3056651\", \"32.2848603\", \"31.2456487\"], \"legendgroup\": \"\", \"locationmode\": \"country names\", \"lon\": [\"35.2250786\", \"34.8324376\", \"34.7805274\", \"34.5730157\", \"34.8859985\", \"34.8101149\", \"34.8566246\", \"34.9507087\", \"34.9886825\", \"34.7905787\", \"34.6529922\", \"34.8246812\", \"34.7804076\", \"34.7505283\", \"34.9983856\", \"35.0433428\", \"35.0069297\", \"35.5328566\", \"35.2413237\", \"34.8523936\", \"34.8692427\", \"35.10483926101966\", \"34.83099838250153\", \"34.8105616\", \"35.1508714\", \"34.8907527\", \"34.907459\", \"34.8884857\", \"35.2890861\", \"34.849123\", \"34.85824766018813\", \"35.502451\", \"35.1012545\", \"34.8623473\", \"34.74348\", \"35.2452887\", \"34.8380853\", \"34.8930354\", \"34.8113279\", \"35.2987457\", \"35.0945579\", \"34.7711983\", \"34.9465419\", \"34.8524656\", \"34.5969696\", \"34.8760954\", \"34.9529966\", \"34.9198258\", \"34.886767\", \"34.7096635\", \"34.7382974\", \"35.293544377961176\", \"34.9533225\", \"34.802593\", \"34.5884252\", \"35.1013589\", \"34.7803882\", \"35.0366482\", \"35.07888809842724\", \"35.3183216\", \"34.6208537\", \"34.8398648\", \"35.1163659\", \"35.1687498\", \"35.1978748\", \"35.152491\", \"34.9715506\", \"34.9185387\", \"34.9321169\", \"35.0756378\", \"35.214581\", \"34.91045479199278\", \"35.1191651\", \"34.9497949\", \"35.09980553528567\", \"34.847616\", \"35.152731\", \"35.2759666\", \"35.5707828\", \"35.0089029\", \"34.994418065862405\", \"34.7990609\", \"35.6877004\", \"35.3716044\", \"47.4479834\", \"35.3048161\", \"35.100408081423566\", \"35.3918678\", \"-83.1137366\", \"35.250779\", \"35.0930574\", \"34.8136886\", \"34.8411635\", \"35.3023184\", \"34.9761087\", \"35.08431641851019\", \"35.0980763\", \"35.0158426\", \"35.2216911\", \"35.0381249\", \"35.1485842\", \"35.1851368\", \"34.7605995\", \"35.2739808\", \"35.0948306\", \"34.823337\", \"34.7547693\", \"34.9195677\", \"35.3239769\", \"34.8306669\", \"34.9132199\", \"35.0446899\", \"35.2789052\", \"35.15448566167521\", \"34.9983819\", \"35.7779892\", \"35.2224417\", \"35.104832753720274\", \"35.1546502\", \"35.1467427\", \"35.1869431\", \"34.9544553\", \"35.3437869\", \"35.0504995\", \"34.9384389\", \"34.9422744\", \"35.13072176699177\", \"35.1668263\", \"35.1723866\", \"35.1088651\", \"34.9919607\", \"34.959703819638506\", \"35.2711176\", \"35.013631778585264\", \"34.94175420560542\", \"35.03251314416771\", \"35.3469551\", \"35.5944243\", \"34.9250975\", \"35.2725342\", \"35.165698\", \"35.769371\", \"35.31763\", \"35.39777\", \"35.3358268\", \"34.9122678\", \"34.9801701\", \"34.8577683\"], \"marker\": {\"color\": \"#636efa\", \"size\": [1132, 1061, 337, 170, 138, 132, 126, 120, 118, 112, 111, 106, 104, 102, 96, 91, 91, 83, 82, 74, 73, 70, 69, 66, 61, 59, 50, 44, 41, 39, 38, 37, 36, 36, 35, 32, 32, 29, 27, 27, 26, 26, 25, 24, 24, 23, 22, 22, 21, 21, 21, 21, 21, 20, 20, 20, 19, 19, 19, 18, 17, 16, 16, 14, 14, 13, 13, 13, 12, 12, 12, 11, 11, 10, 10, 10, 9, 9, 9, 8, 8, 8, 8, 7, 7, 7, 7, 7, 6, 6, 6, 6, 6, 6, 6, 6, 6, 5, 5, 5, 5, 4, 4, 4, 4, 4, 4, 3, 3, 3, 3, 3, 3, 3, 3, 2, 2, 2, 2, 2, 2, 2, 2, 2, 2, 2, 2, 2, 2, 1, 1, 1, 1, 1, 1, 1, 1, 1, 1, 1, 1, 1, 1, 1, 1, 1, 1, 1], \"sizemode\": \"area\", \"sizeref\": 2.83}, \"name\": \"\", \"showlegend\": false, \"type\": \"scattergeo\"}],\n",
       "                        {\"geo\": {\"center\": {\"lat\": 31.778345, \"lon\": 35.2250786}, \"countrycolor\": \"RebeccaPurple\", \"domain\": {\"x\": [0.0, 1.0], \"y\": [0.0, 1.0]}, \"projection\": {\"type\": \"natural earth\"}, \"showcountries\": true}, \"legend\": {\"itemsizing\": \"constant\", \"tracegroupgap\": 0}, \"margin\": {\"t\": 60}, \"template\": {\"data\": {\"bar\": [{\"error_x\": {\"color\": \"#2a3f5f\"}, \"error_y\": {\"color\": \"#2a3f5f\"}, \"marker\": {\"line\": {\"color\": \"#E5ECF6\", \"width\": 0.5}}, \"type\": \"bar\"}], \"barpolar\": [{\"marker\": {\"line\": {\"color\": \"#E5ECF6\", \"width\": 0.5}}, \"type\": \"barpolar\"}], \"carpet\": [{\"aaxis\": {\"endlinecolor\": \"#2a3f5f\", \"gridcolor\": \"white\", \"linecolor\": \"white\", \"minorgridcolor\": \"white\", \"startlinecolor\": \"#2a3f5f\"}, \"baxis\": {\"endlinecolor\": \"#2a3f5f\", \"gridcolor\": \"white\", \"linecolor\": \"white\", \"minorgridcolor\": \"white\", \"startlinecolor\": \"#2a3f5f\"}, \"type\": \"carpet\"}], \"choropleth\": [{\"colorbar\": {\"outlinewidth\": 0, \"ticks\": \"\"}, \"type\": \"choropleth\"}], \"contour\": [{\"colorbar\": {\"outlinewidth\": 0, \"ticks\": \"\"}, \"colorscale\": [[0.0, \"#0d0887\"], [0.1111111111111111, \"#46039f\"], [0.2222222222222222, \"#7201a8\"], [0.3333333333333333, \"#9c179e\"], [0.4444444444444444, \"#bd3786\"], [0.5555555555555556, \"#d8576b\"], [0.6666666666666666, \"#ed7953\"], [0.7777777777777778, \"#fb9f3a\"], [0.8888888888888888, \"#fdca26\"], [1.0, \"#f0f921\"]], \"type\": \"contour\"}], \"contourcarpet\": [{\"colorbar\": {\"outlinewidth\": 0, \"ticks\": \"\"}, \"type\": \"contourcarpet\"}], \"heatmap\": [{\"colorbar\": {\"outlinewidth\": 0, \"ticks\": \"\"}, \"colorscale\": [[0.0, \"#0d0887\"], [0.1111111111111111, \"#46039f\"], [0.2222222222222222, \"#7201a8\"], [0.3333333333333333, \"#9c179e\"], [0.4444444444444444, \"#bd3786\"], [0.5555555555555556, \"#d8576b\"], [0.6666666666666666, \"#ed7953\"], [0.7777777777777778, \"#fb9f3a\"], [0.8888888888888888, \"#fdca26\"], [1.0, \"#f0f921\"]], \"type\": \"heatmap\"}], \"heatmapgl\": [{\"colorbar\": {\"outlinewidth\": 0, \"ticks\": \"\"}, \"colorscale\": [[0.0, \"#0d0887\"], [0.1111111111111111, \"#46039f\"], [0.2222222222222222, \"#7201a8\"], [0.3333333333333333, \"#9c179e\"], [0.4444444444444444, \"#bd3786\"], [0.5555555555555556, \"#d8576b\"], [0.6666666666666666, \"#ed7953\"], [0.7777777777777778, \"#fb9f3a\"], [0.8888888888888888, \"#fdca26\"], [1.0, \"#f0f921\"]], \"type\": \"heatmapgl\"}], \"histogram\": [{\"marker\": {\"colorbar\": {\"outlinewidth\": 0, \"ticks\": \"\"}}, \"type\": \"histogram\"}], \"histogram2d\": [{\"colorbar\": {\"outlinewidth\": 0, \"ticks\": \"\"}, \"colorscale\": [[0.0, \"#0d0887\"], [0.1111111111111111, \"#46039f\"], [0.2222222222222222, \"#7201a8\"], [0.3333333333333333, \"#9c179e\"], [0.4444444444444444, \"#bd3786\"], [0.5555555555555556, \"#d8576b\"], [0.6666666666666666, \"#ed7953\"], [0.7777777777777778, \"#fb9f3a\"], [0.8888888888888888, \"#fdca26\"], [1.0, \"#f0f921\"]], \"type\": \"histogram2d\"}], \"histogram2dcontour\": [{\"colorbar\": {\"outlinewidth\": 0, \"ticks\": \"\"}, \"colorscale\": [[0.0, \"#0d0887\"], [0.1111111111111111, \"#46039f\"], [0.2222222222222222, \"#7201a8\"], [0.3333333333333333, \"#9c179e\"], [0.4444444444444444, \"#bd3786\"], [0.5555555555555556, \"#d8576b\"], [0.6666666666666666, \"#ed7953\"], [0.7777777777777778, \"#fb9f3a\"], [0.8888888888888888, \"#fdca26\"], [1.0, \"#f0f921\"]], \"type\": \"histogram2dcontour\"}], \"mesh3d\": [{\"colorbar\": {\"outlinewidth\": 0, \"ticks\": \"\"}, \"type\": \"mesh3d\"}], \"parcoords\": [{\"line\": {\"colorbar\": {\"outlinewidth\": 0, \"ticks\": \"\"}}, \"type\": \"parcoords\"}], \"pie\": [{\"automargin\": true, \"type\": \"pie\"}], \"scatter\": [{\"marker\": {\"colorbar\": {\"outlinewidth\": 0, \"ticks\": \"\"}}, \"type\": \"scatter\"}], \"scatter3d\": [{\"line\": {\"colorbar\": {\"outlinewidth\": 0, \"ticks\": \"\"}}, \"marker\": {\"colorbar\": {\"outlinewidth\": 0, \"ticks\": \"\"}}, \"type\": \"scatter3d\"}], \"scattercarpet\": [{\"marker\": {\"colorbar\": {\"outlinewidth\": 0, \"ticks\": \"\"}}, \"type\": \"scattercarpet\"}], \"scattergeo\": [{\"marker\": {\"colorbar\": {\"outlinewidth\": 0, \"ticks\": \"\"}}, \"type\": \"scattergeo\"}], \"scattergl\": [{\"marker\": {\"colorbar\": {\"outlinewidth\": 0, \"ticks\": \"\"}}, \"type\": \"scattergl\"}], \"scattermapbox\": [{\"marker\": {\"colorbar\": {\"outlinewidth\": 0, \"ticks\": \"\"}}, \"type\": \"scattermapbox\"}], \"scatterpolar\": [{\"marker\": {\"colorbar\": {\"outlinewidth\": 0, \"ticks\": \"\"}}, \"type\": \"scatterpolar\"}], \"scatterpolargl\": [{\"marker\": {\"colorbar\": {\"outlinewidth\": 0, \"ticks\": \"\"}}, \"type\": \"scatterpolargl\"}], \"scatterternary\": [{\"marker\": {\"colorbar\": {\"outlinewidth\": 0, \"ticks\": \"\"}}, \"type\": \"scatterternary\"}], \"surface\": [{\"colorbar\": {\"outlinewidth\": 0, \"ticks\": \"\"}, \"colorscale\": [[0.0, \"#0d0887\"], [0.1111111111111111, \"#46039f\"], [0.2222222222222222, \"#7201a8\"], [0.3333333333333333, \"#9c179e\"], [0.4444444444444444, \"#bd3786\"], [0.5555555555555556, \"#d8576b\"], [0.6666666666666666, \"#ed7953\"], [0.7777777777777778, \"#fb9f3a\"], [0.8888888888888888, \"#fdca26\"], [1.0, \"#f0f921\"]], \"type\": \"surface\"}], \"table\": [{\"cells\": {\"fill\": {\"color\": \"#EBF0F8\"}, \"line\": {\"color\": \"white\"}}, \"header\": {\"fill\": {\"color\": \"#C8D4E3\"}, \"line\": {\"color\": \"white\"}}, \"type\": \"table\"}]}, \"layout\": {\"annotationdefaults\": {\"arrowcolor\": \"#2a3f5f\", \"arrowhead\": 0, \"arrowwidth\": 1}, \"coloraxis\": {\"colorbar\": {\"outlinewidth\": 0, \"ticks\": \"\"}}, \"colorscale\": {\"diverging\": [[0, \"#8e0152\"], [0.1, \"#c51b7d\"], [0.2, \"#de77ae\"], [0.3, \"#f1b6da\"], [0.4, \"#fde0ef\"], [0.5, \"#f7f7f7\"], [0.6, \"#e6f5d0\"], [0.7, \"#b8e186\"], [0.8, \"#7fbc41\"], [0.9, \"#4d9221\"], [1, \"#276419\"]], \"sequential\": [[0.0, \"#0d0887\"], [0.1111111111111111, \"#46039f\"], [0.2222222222222222, \"#7201a8\"], [0.3333333333333333, \"#9c179e\"], [0.4444444444444444, \"#bd3786\"], [0.5555555555555556, \"#d8576b\"], [0.6666666666666666, \"#ed7953\"], [0.7777777777777778, \"#fb9f3a\"], [0.8888888888888888, \"#fdca26\"], [1.0, \"#f0f921\"]], \"sequentialminus\": [[0.0, \"#0d0887\"], [0.1111111111111111, \"#46039f\"], [0.2222222222222222, \"#7201a8\"], [0.3333333333333333, \"#9c179e\"], [0.4444444444444444, \"#bd3786\"], [0.5555555555555556, \"#d8576b\"], [0.6666666666666666, \"#ed7953\"], [0.7777777777777778, \"#fb9f3a\"], [0.8888888888888888, \"#fdca26\"], [1.0, \"#f0f921\"]]}, \"colorway\": [\"#636efa\", \"#EF553B\", \"#00cc96\", \"#ab63fa\", \"#FFA15A\", \"#19d3f3\", \"#FF6692\", \"#B6E880\", \"#FF97FF\", \"#FECB52\"], \"font\": {\"color\": \"#2a3f5f\"}, \"geo\": {\"bgcolor\": \"white\", \"lakecolor\": \"white\", \"landcolor\": \"#E5ECF6\", \"showlakes\": true, \"showland\": true, \"subunitcolor\": \"white\"}, \"hoverlabel\": {\"align\": \"left\"}, \"hovermode\": \"closest\", \"mapbox\": {\"style\": \"light\"}, \"paper_bgcolor\": \"white\", \"plot_bgcolor\": \"#E5ECF6\", \"polar\": {\"angularaxis\": {\"gridcolor\": \"white\", \"linecolor\": \"white\", \"ticks\": \"\"}, \"bgcolor\": \"#E5ECF6\", \"radialaxis\": {\"gridcolor\": \"white\", \"linecolor\": \"white\", \"ticks\": \"\"}}, \"scene\": {\"xaxis\": {\"backgroundcolor\": \"#E5ECF6\", \"gridcolor\": \"white\", \"gridwidth\": 2, \"linecolor\": \"white\", \"showbackground\": true, \"ticks\": \"\", \"zerolinecolor\": \"white\"}, \"yaxis\": {\"backgroundcolor\": \"#E5ECF6\", \"gridcolor\": \"white\", \"gridwidth\": 2, \"linecolor\": \"white\", \"showbackground\": true, \"ticks\": \"\", \"zerolinecolor\": \"white\"}, \"zaxis\": {\"backgroundcolor\": \"#E5ECF6\", \"gridcolor\": \"white\", \"gridwidth\": 2, \"linecolor\": \"white\", \"showbackground\": true, \"ticks\": \"\", \"zerolinecolor\": \"white\"}}, \"shapedefaults\": {\"line\": {\"color\": \"#2a3f5f\"}}, \"ternary\": {\"aaxis\": {\"gridcolor\": \"white\", \"linecolor\": \"white\", \"ticks\": \"\"}, \"baxis\": {\"gridcolor\": \"white\", \"linecolor\": \"white\", \"ticks\": \"\"}, \"bgcolor\": \"#E5ECF6\", \"caxis\": {\"gridcolor\": \"white\", \"linecolor\": \"white\", \"ticks\": \"\"}}, \"title\": {\"x\": 0.05}, \"xaxis\": {\"automargin\": true, \"gridcolor\": \"white\", \"linecolor\": \"white\", \"ticks\": \"\", \"title\": {\"standoff\": 15}, \"zerolinecolor\": \"white\", \"zerolinewidth\": 2}, \"yaxis\": {\"automargin\": true, \"gridcolor\": \"white\", \"linecolor\": \"white\", \"ticks\": \"\", \"title\": {\"standoff\": 15}, \"zerolinecolor\": \"white\", \"zerolinewidth\": 2}}}},\n",
       "                        {\"responsive\": true}\n",
       "                    ).then(function(){\n",
       "                            \n",
       "var gd = document.getElementById('6f421b49-d669-4446-b4d5-25e2b58378f1');\n",
       "var x = new MutationObserver(function (mutations, observer) {{\n",
       "        var display = window.getComputedStyle(gd).display;\n",
       "        if (!display || display === 'none') {{\n",
       "            console.log([gd, 'removed!']);\n",
       "            Plotly.purge(gd);\n",
       "            observer.disconnect();\n",
       "        }}\n",
       "}});\n",
       "\n",
       "// Listen for the removal of the full notebook cells\n",
       "var notebookContainer = gd.closest('#notebook-container');\n",
       "if (notebookContainer) {{\n",
       "    x.observe(notebookContainer, {childList: true});\n",
       "}}\n",
       "\n",
       "// Listen for the clearing of the current output cell\n",
       "var outputEl = gd.closest('.output');\n",
       "if (outputEl) {{\n",
       "    x.observe(outputEl, {childList: true});\n",
       "}}\n",
       "\n",
       "                        })\n",
       "                };\n",
       "                });\n",
       "            </script>\n",
       "        </div>"
      ]
     },
     "metadata": {},
     "output_type": "display_data"
    }
   ],
   "source": [
    "import plotly.express as px\n",
    "import plotly.io as pio\n",
    "df = cities_pretty[cities_pretty['valid GEO']==True]\n",
    "fig = px.scatter_geo(df,\n",
    "                     locationmode = 'country names',\n",
    "                    lon = df['lon'],\n",
    "                    lat = df['lat'],\n",
    "                     hover_name=\"text\", # column added to hover information\n",
    "                     size=\"sick\", # size of markers\n",
    "                     projection = 'natural earth',\n",
    "                    #projection_scale= 0.1,\n",
    "                    center = {'lat': 31.778345, 'lon':35.2250786})\n",
    "fig.update_geos(\n",
    "    showcountries=True, countrycolor=\"RebeccaPurple\")\n",
    "\n",
    "fig.show()\n",
    "pio.write_html(fig,'index.html',auto_open=True)"
   ]
  },
  {
   "cell_type": "code",
   "execution_count": 38,
   "metadata": {},
   "outputs": [
    {
     "data": {
      "text/html": [
       "<table border=\"1\" class=\"dataframe\">\n",
       "  <thead>\n",
       "    <tr style=\"text-align: right;\">\n",
       "      <th></th>\n",
       "      <th>population</th>\n",
       "      <th>sick</th>\n",
       "      <th>city names</th>\n",
       "      <th>wiki article</th>\n",
       "      <th>wiki</th>\n",
       "      <th>lat</th>\n",
       "      <th>lon</th>\n",
       "      <th>valid GEO</th>\n",
       "      <th>text</th>\n",
       "      <th>percent</th>\n",
       "    </tr>\n",
       "  </thead>\n",
       "  <tbody>\n",
       "    <tr>\n",
       "      <th>32</th>\n",
       "      <td>5713</td>\n",
       "      <td>36</td>\n",
       "      <td>קרית יערים</td>\n",
       "      <td>https://nominatim.openstreetmap.org/search.php?q=קרית יערים&format=json</td>\n",
       "      <td><a href=\"https://nominatim.openstreetmap.org/search.php?q=קרית יערים&format=json\">link</a></td>\n",
       "      <td>31.8035128</td>\n",
       "      <td>35.1012545</td>\n",
       "      <td>True</td>\n",
       "      <td>Ammount of sick at: קרית יערים 36 population at city 5713</td>\n",
       "      <td>0.006301</td>\n",
       "    </tr>\n",
       "    <tr>\n",
       "      <th>29</th>\n",
       "      <td>6724</td>\n",
       "      <td>39</td>\n",
       "      <td>כפר חב\"ד</td>\n",
       "      <td>https://nominatim.openstreetmap.org/search.php?q=כפר חב\"ד&format=json</td>\n",
       "      <td><a href=\"https://nominatim.openstreetmap.org/search.php?q=כפר חב\"ד&format=json\">link</a></td>\n",
       "      <td>31.9907676</td>\n",
       "      <td>34.849123</td>\n",
       "      <td>True</td>\n",
       "      <td>Ammount of sick at: כפר חב\"ד 39 population at city 6724</td>\n",
       "      <td>0.005800</td>\n",
       "    </tr>\n",
       "    <tr>\n",
       "      <th>24</th>\n",
       "      <td>10676</td>\n",
       "      <td>61</td>\n",
       "      <td>אפרת</td>\n",
       "      <td>https://nominatim.openstreetmap.org/search.php?q=אפרת&format=json</td>\n",
       "      <td><a href=\"https://nominatim.openstreetmap.org/search.php?q=אפרת&format=json\">link</a></td>\n",
       "      <td>31.6536462</td>\n",
       "      <td>35.1508714</td>\n",
       "      <td>True</td>\n",
       "      <td>Ammount of sick at: אפרת 61 population at city 10676</td>\n",
       "      <td>0.005714</td>\n",
       "    </tr>\n",
       "    <tr>\n",
       "      <th>1</th>\n",
       "      <td>195298</td>\n",
       "      <td>1061</td>\n",
       "      <td>בני ברק</td>\n",
       "      <td>https://nominatim.openstreetmap.org/search.php?q=בני ברק&format=json</td>\n",
       "      <td><a href=\"https://nominatim.openstreetmap.org/search.php?q=בני ברק&format=json\">link</a></td>\n",
       "      <td>32.0873899</td>\n",
       "      <td>34.8324376</td>\n",
       "      <td>True</td>\n",
       "      <td>Ammount of sick at: בני ברק 1061 population at city 195298</td>\n",
       "      <td>0.005433</td>\n",
       "    </tr>\n",
       "    <tr>\n",
       "      <th>35</th>\n",
       "      <td>8602</td>\n",
       "      <td>32</td>\n",
       "      <td>כוכב יעקב</td>\n",
       "      <td>https://nominatim.openstreetmap.org/search.php?q=כוכב יעקב&format=json</td>\n",
       "      <td><a href=\"https://nominatim.openstreetmap.org/search.php?q=כוכב יעקב&format=json\">link</a></td>\n",
       "      <td>31.8814286</td>\n",
       "      <td>35.2452887</td>\n",
       "      <td>True</td>\n",
       "      <td>Ammount of sick at: כוכב יעקב 32 population at city 8602</td>\n",
       "      <td>0.003720</td>\n",
       "    </tr>\n",
       "  </tbody>\n",
       "</table>"
      ],
      "text/plain": [
       "<IPython.core.display.HTML object>"
      ]
     },
     "metadata": {},
     "output_type": "display_data"
    }
   ],
   "source": [
    "cities_pretty['percent'] = cities_pretty['sick']/cities_pretty['population']\n",
    "display(HTML(cities_pretty.sort_values(by=['percent'],ascending=False).head().to_html(escape=False)))\n"
   ]
  }
 ],
 "metadata": {
  "kernelspec": {
   "display_name": "Python 3",
   "language": "python",
   "name": "python3"
  },
  "language_info": {
   "codemirror_mode": {
    "name": "ipython",
    "version": 3
   },
   "file_extension": ".py",
   "mimetype": "text/x-python",
   "name": "python",
   "nbconvert_exporter": "python",
   "pygments_lexer": "ipython3",
   "version": "3.7.4"
  }
 },
 "nbformat": 4,
 "nbformat_minor": 2
}
